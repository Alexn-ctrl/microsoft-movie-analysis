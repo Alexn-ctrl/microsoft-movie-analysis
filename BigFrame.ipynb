{
 "cells": [
  {
   "cell_type": "code",
   "execution_count": 1,
   "id": "59cea388",
   "metadata": {},
   "outputs": [],
   "source": [
    "import pandas as pd\n",
    "import matplotlib.pyplot as plt\n",
    "%matplotlib inline\n",
    "import gzip\n",
    "import sqlite3\n",
    "import csv\n",
    "import numpy as np\n",
    "import seaborn as sns"
   ]
  },
  {
   "cell_type": "code",
   "execution_count": 5,
   "id": "72c04253",
   "metadata": {},
   "outputs": [],
   "source": [
    "df1 = pd.read_csv('data/zippedData/bom.movie_gross.csv.gz')\n",
    "df1 = df1.rename(columns = {'title':'movie'})"
   ]
  },
  {
   "cell_type": "code",
   "execution_count": 6,
   "id": "90fc3cb0",
   "metadata": {},
   "outputs": [],
   "source": [
    "df4 = pd.read_csv('data/zippedData/imdb.title.basics.csv.gz')\n",
    "df4 = df4.rename(columns = {'primary_title':'movie'})"
   ]
  },
  {
   "cell_type": "code",
   "execution_count": 7,
   "id": "a81855fc",
   "metadata": {},
   "outputs": [
    {
     "data": {
      "text/html": [
       "<div>\n",
       "<style scoped>\n",
       "    .dataframe tbody tr th:only-of-type {\n",
       "        vertical-align: middle;\n",
       "    }\n",
       "\n",
       "    .dataframe tbody tr th {\n",
       "        vertical-align: top;\n",
       "    }\n",
       "\n",
       "    .dataframe thead th {\n",
       "        text-align: right;\n",
       "    }\n",
       "</style>\n",
       "<table border=\"1\" class=\"dataframe\">\n",
       "  <thead>\n",
       "    <tr style=\"text-align: right;\">\n",
       "      <th></th>\n",
       "      <th>id</th>\n",
       "      <th>release_date</th>\n",
       "      <th>production_budget</th>\n",
       "      <th>domestic_gross</th>\n",
       "      <th>worldwide_gross</th>\n",
       "    </tr>\n",
       "    <tr>\n",
       "      <th>movie</th>\n",
       "      <th></th>\n",
       "      <th></th>\n",
       "      <th></th>\n",
       "      <th></th>\n",
       "      <th></th>\n",
       "    </tr>\n",
       "  </thead>\n",
       "  <tbody>\n",
       "    <tr>\n",
       "      <th>Avatar</th>\n",
       "      <td>1</td>\n",
       "      <td>Dec 18, 2009</td>\n",
       "      <td>425000000</td>\n",
       "      <td>760507625</td>\n",
       "      <td>2776345279</td>\n",
       "    </tr>\n",
       "    <tr>\n",
       "      <th>Pirates of the Caribbean: On Stranger Tides</th>\n",
       "      <td>2</td>\n",
       "      <td>May 20, 2011</td>\n",
       "      <td>410600000</td>\n",
       "      <td>241063875</td>\n",
       "      <td>1045663875</td>\n",
       "    </tr>\n",
       "    <tr>\n",
       "      <th>Dark Phoenix</th>\n",
       "      <td>3</td>\n",
       "      <td>Jun 7, 2019</td>\n",
       "      <td>350000000</td>\n",
       "      <td>42762350</td>\n",
       "      <td>149762350</td>\n",
       "    </tr>\n",
       "    <tr>\n",
       "      <th>Avengers: Age of Ultron</th>\n",
       "      <td>4</td>\n",
       "      <td>May 1, 2015</td>\n",
       "      <td>330600000</td>\n",
       "      <td>459005868</td>\n",
       "      <td>1403013963</td>\n",
       "    </tr>\n",
       "    <tr>\n",
       "      <th>Star Wars Ep. VIII: The Last Jedi</th>\n",
       "      <td>5</td>\n",
       "      <td>Dec 15, 2017</td>\n",
       "      <td>317000000</td>\n",
       "      <td>620181382</td>\n",
       "      <td>1316721747</td>\n",
       "    </tr>\n",
       "    <tr>\n",
       "      <th>...</th>\n",
       "      <td>...</td>\n",
       "      <td>...</td>\n",
       "      <td>...</td>\n",
       "      <td>...</td>\n",
       "      <td>...</td>\n",
       "    </tr>\n",
       "    <tr>\n",
       "      <th>Sparkler</th>\n",
       "      <td>95</td>\n",
       "      <td>Mar 19, 1999</td>\n",
       "      <td>1000000</td>\n",
       "      <td>5494</td>\n",
       "      <td>5494</td>\n",
       "    </tr>\n",
       "    <tr>\n",
       "      <th>The Helixâ¦Loaded</th>\n",
       "      <td>96</td>\n",
       "      <td>Mar 18, 2005</td>\n",
       "      <td>1000000</td>\n",
       "      <td>3700</td>\n",
       "      <td>3700</td>\n",
       "    </tr>\n",
       "    <tr>\n",
       "      <th>Childless</th>\n",
       "      <td>97</td>\n",
       "      <td>May 15, 2015</td>\n",
       "      <td>1000000</td>\n",
       "      <td>1036</td>\n",
       "      <td>1036</td>\n",
       "    </tr>\n",
       "    <tr>\n",
       "      <th>In Her Line of Fire</th>\n",
       "      <td>98</td>\n",
       "      <td>Apr 21, 2006</td>\n",
       "      <td>1000000</td>\n",
       "      <td>884</td>\n",
       "      <td>884</td>\n",
       "    </tr>\n",
       "    <tr>\n",
       "      <th>The Jimmy Show</th>\n",
       "      <td>99</td>\n",
       "      <td>Dec 13, 2002</td>\n",
       "      <td>1000000</td>\n",
       "      <td>703</td>\n",
       "      <td>703</td>\n",
       "    </tr>\n",
       "  </tbody>\n",
       "</table>\n",
       "<p>4930 rows × 5 columns</p>\n",
       "</div>"
      ],
      "text/plain": [
       "                                             id  release_date  \\\n",
       "movie                                                           \n",
       "Avatar                                        1  Dec 18, 2009   \n",
       "Pirates of the Caribbean: On Stranger Tides   2  May 20, 2011   \n",
       "Dark Phoenix                                  3   Jun 7, 2019   \n",
       "Avengers: Age of Ultron                       4   May 1, 2015   \n",
       "Star Wars Ep. VIII: The Last Jedi             5  Dec 15, 2017   \n",
       "...                                          ..           ...   \n",
       "Sparkler                                     95  Mar 19, 1999   \n",
       "The Helixâ¦Loaded                           96  Mar 18, 2005   \n",
       "Childless                                    97  May 15, 2015   \n",
       "In Her Line of Fire                          98  Apr 21, 2006   \n",
       "The Jimmy Show                               99  Dec 13, 2002   \n",
       "\n",
       "                                             production_budget  \\\n",
       "movie                                                            \n",
       "Avatar                                               425000000   \n",
       "Pirates of the Caribbean: On Stranger Tides          410600000   \n",
       "Dark Phoenix                                         350000000   \n",
       "Avengers: Age of Ultron                              330600000   \n",
       "Star Wars Ep. VIII: The Last Jedi                    317000000   \n",
       "...                                                        ...   \n",
       "Sparkler                                               1000000   \n",
       "The Helixâ¦Loaded                                     1000000   \n",
       "Childless                                              1000000   \n",
       "In Her Line of Fire                                    1000000   \n",
       "The Jimmy Show                                         1000000   \n",
       "\n",
       "                                             domestic_gross  worldwide_gross  \n",
       "movie                                                                         \n",
       "Avatar                                            760507625       2776345279  \n",
       "Pirates of the Caribbean: On Stranger Tides       241063875       1045663875  \n",
       "Dark Phoenix                                       42762350        149762350  \n",
       "Avengers: Age of Ultron                           459005868       1403013963  \n",
       "Star Wars Ep. VIII: The Last Jedi                 620181382       1316721747  \n",
       "...                                                     ...              ...  \n",
       "Sparkler                                               5494             5494  \n",
       "The Helixâ¦Loaded                                     3700             3700  \n",
       "Childless                                              1036             1036  \n",
       "In Her Line of Fire                                     884              884  \n",
       "The Jimmy Show                                          703              703  \n",
       "\n",
       "[4930 rows x 5 columns]"
      ]
     },
     "execution_count": 7,
     "metadata": {},
     "output_type": "execute_result"
    }
   ],
   "source": [
    "df11 = pd.read_csv('data/zippedData/tn.movie_budgets.csv.gz')\n",
    "df11['worldwide_gross'] = df11['worldwide_gross'].str[1:]\n",
    "df11['worldwide_gross'] = df11['worldwide_gross'].str.replace(',', '').astype(np.int64)\n",
    "df11['domestic_gross'] = df11['domestic_gross'].str[1:]\n",
    "df11['domestic_gross'] = df11['domestic_gross'].str.replace(',', '').astype(np.int64)\n",
    "df11['production_budget'] = df11['production_budget'].str[1:]\n",
    "df11['production_budget'] = df11['production_budget'].str.replace(',', '').astype(np.int64)\n",
    "\n",
    "production = df11[df11.production_budget < 1000000].index\n",
    "df11.drop(production, inplace=True)\n",
    "domestic = df11[df11.domestic_gross < 1].index\n",
    "df11.drop(domestic, inplace=True)\n",
    "worldwide = df11[df11.worldwide_gross < 1].index\n",
    "df11.drop(worldwide, inplace=True)\n",
    "df11.set_index('movie')"
   ]
  },
  {
   "cell_type": "code",
   "execution_count": 45,
   "id": "2ee3a180",
   "metadata": {},
   "outputs": [],
   "source": [
    "BigFrame = df11.merge(df1, on='movie').merge(df4, on='movie').drop(columns=['tconst', 'original_title', 'start_year', 'id', 'domestic_gross_y'])"
   ]
  },
  {
   "cell_type": "code",
   "execution_count": 46,
   "id": "bcf18ca7",
   "metadata": {},
   "outputs": [],
   "source": [
    "BigFrame = BigFrame.drop_duplicates(subset='movie').set_index('movie')\n",
    "BigFrame['month'] = BigFrame['release_date'].str[:3]"
   ]
  },
  {
   "cell_type": "code",
   "execution_count": 47,
   "id": "bd2ac45f",
   "metadata": {},
   "outputs": [],
   "source": [
    "BigFrame = BigFrame.dropna()\n",
    "BigFrame.dropna(inplace=True)"
   ]
  },
  {
   "cell_type": "code",
   "execution_count": 48,
   "id": "a5934afc",
   "metadata": {},
   "outputs": [],
   "source": [
    "# Order month by order in the calender then sort the calenders in order from Jan-Dec\n",
    "\n",
    "months = [\"Jan\", \"Feb\", \"Mar\", \"Apr\", \"May\", \"Jun\", \n",
    "          \"Jul\", \"Aug\", \"Sep\", \"Oct\", \"Nov\", \"Dec\"]"
   ]
  },
  {
   "cell_type": "code",
   "execution_count": 50,
   "id": "0e41e532",
   "metadata": {},
   "outputs": [],
   "source": [
    "df_2013 = BigFrame[BigFrame['year'] == 2013]\n",
    "df_2014 = BigFrame[BigFrame['year'] == 2014]\n",
    "df_2015 = BigFrame[BigFrame['year'] == 2015]\n",
    "df_2016 = BigFrame[BigFrame['year'] == 2016]\n",
    "df_2017 = BigFrame[BigFrame['year'] == 2017]\n",
    "df_2018 = BigFrame[BigFrame['year'] == 2018]"
   ]
  },
  {
   "cell_type": "code",
   "execution_count": 51,
   "id": "6e1c8985",
   "metadata": {},
   "outputs": [],
   "source": [
    "df_2013 = df_2013[['worldwide_gross', 'month']]\n",
    "df_2013 = df_2013.dropna(subset=['month'])\n",
    "\n",
    "df_jan2013 = df_2013[df_2013['month'] == 'Jan'].mean().astype(np.int64)\n",
    "df_feb2013 = df_2013[df_2013['month'] == 'Feb'].mean().astype(np.int64)\n",
    "df_mar2013 = df_2013[df_2013['month'] == 'Mar'].mean().astype(np.int64)\n",
    "df_apr2013 = df_2013[df_2013['month'] == 'Apr'].mean().astype(np.int64)\n",
    "df_may2013 = df_2013[df_2013['month'] == 'May'].mean().astype(np.int64)\n",
    "df_jun2013 = df_2013[df_2013['month'] == 'Jun'].mean().astype(np.int64)\n",
    "df_jul2013 = df_2013[df_2013['month'] == 'Jul'].mean().astype(np.int64)\n",
    "df_aug2013 = df_2013[df_2013['month'] == 'Aug'].mean().astype(np.int64)\n",
    "df_sep2013 = df_2013[df_2013['month'] == 'Sep'].mean().astype(np.int64)\n",
    "df_oct2013 = df_2013[df_2013['month'] == 'Oct'].mean().astype(np.int64)\n",
    "df_nov2013 = df_2013[df_2013['month'] == 'Nov'].mean().astype(np.int64)\n",
    "df_dec2013 = df_2013[df_2013['month'] == 'Dec'].mean().astype(np.int64)"
   ]
  },
  {
   "cell_type": "code",
   "execution_count": 52,
   "id": "44fe9bc5",
   "metadata": {},
   "outputs": [],
   "source": [
    "df_2014 = df_2014[['worldwide_gross', 'month']]\n",
    "df_2014 = df_2014.dropna(subset=['month'])\n",
    "\n",
    "df_jan2014 = df_2014[df_2014['month'] == 'Jan'].mean().astype(np.int64)\n",
    "df_feb2014 = df_2014[df_2014['month'] == 'Feb'].mean().astype(np.int64)\n",
    "df_mar2014 = df_2014[df_2014['month'] == 'Mar'].mean().astype(np.int64)\n",
    "df_apr2014 = df_2014[df_2014['month'] == 'Apr'].mean().astype(np.int64)\n",
    "df_may2014 = df_2014[df_2014['month'] == 'May'].mean().astype(np.int64)\n",
    "df_jun2014 = df_2014[df_2014['month'] == 'Jun'].mean().astype(np.int64)\n",
    "df_jul2014 = df_2014[df_2014['month'] == 'Jul'].mean().astype(np.int64)\n",
    "df_aug2014 = df_2014[df_2014['month'] == 'Aug'].mean().astype(np.int64)\n",
    "df_sep2014 = df_2014[df_2014['month'] == 'Sep'].mean().astype(np.int64)\n",
    "df_oct2014 = df_2014[df_2014['month'] == 'Oct'].mean().astype(np.int64)\n",
    "df_nov2014 = df_2014[df_2014['month'] == 'Nov'].mean().astype(np.int64)\n",
    "df_dec2014 = df_2014[df_2014['month'] == 'Dec'].mean().astype(np.int64)"
   ]
  },
  {
   "cell_type": "code",
   "execution_count": 53,
   "id": "6192fcdf",
   "metadata": {},
   "outputs": [],
   "source": [
    "df_2015 = df_2015[['worldwide_gross', 'month']]\n",
    "df_2015 = df_2015.dropna(subset=['month'])\n",
    "\n",
    "df_jan2015 = df_2015[df_2015['month'] == 'Jan'].mean().astype(np.int64)\n",
    "df_feb2015 = df_2015[df_2015['month'] == 'Feb'].mean().astype(np.int64)\n",
    "df_mar2015 = df_2015[df_2015['month'] == 'Mar'].mean().astype(np.int64)\n",
    "df_apr2015 = df_2015[df_2015['month'] == 'Apr'].mean().astype(np.int64)\n",
    "df_may2015 = df_2015[df_2015['month'] == 'May'].mean().astype(np.int64)\n",
    "df_jun2015 = df_2015[df_2015['month'] == 'Jun'].mean().astype(np.int64)\n",
    "df_jul2015 = df_2015[df_2015['month'] == 'Jul'].mean().astype(np.int64)\n",
    "df_aug2015 = df_2015[df_2015['month'] == 'Aug'].mean().astype(np.int64)\n",
    "df_sep2015 = df_2015[df_2015['month'] == 'Sep'].mean().astype(np.int64)\n",
    "df_oct2015 = df_2015[df_2015['month'] == 'Oct'].mean().astype(np.int64)\n",
    "df_nov2015 = df_2015[df_2015['month'] == 'Nov'].mean().astype(np.int64)\n",
    "df_dec2015 = df_2015[df_2015['month'] == 'Dec'].mean().astype(np.int64)"
   ]
  },
  {
   "cell_type": "code",
   "execution_count": 54,
   "id": "481ffbb5",
   "metadata": {},
   "outputs": [],
   "source": [
    "df_2016 = df_2016[['worldwide_gross', 'month']]\n",
    "df_2016 = df_2016.dropna(subset=['month'])\n",
    "\n",
    "df_jan2016 = df_2016[df_2016['month'] == 'Jan'].mean().astype(np.int64)\n",
    "df_feb2016 = df_2016[df_2016['month'] == 'Feb'].mean().astype(np.int64)\n",
    "df_mar2016 = df_2016[df_2016['month'] == 'Mar'].mean().astype(np.int64)\n",
    "df_apr2016 = df_2016[df_2016['month'] == 'Apr'].mean().astype(np.int64)\n",
    "df_may2016 = df_2016[df_2016['month'] == 'May'].mean().astype(np.int64)\n",
    "df_jun2016 = df_2016[df_2016['month'] == 'Jun'].mean().astype(np.int64)\n",
    "df_jul2016 = df_2016[df_2016['month'] == 'Jul'].mean().astype(np.int64)\n",
    "df_aug2016 = df_2016[df_2016['month'] == 'Aug'].mean().astype(np.int64)\n",
    "df_sep2016 = df_2016[df_2016['month'] == 'Sep'].mean().astype(np.int64)\n",
    "df_oct2016 = df_2016[df_2016['month'] == 'Oct'].mean().astype(np.int64)\n",
    "df_nov2016 = df_2016[df_2016['month'] == 'Nov'].mean().astype(np.int64)\n",
    "df_dec2016 = df_2016[df_2016['month'] == 'Dec'].mean().astype(np.int64)"
   ]
  },
  {
   "cell_type": "code",
   "execution_count": 55,
   "id": "4cec6b9b",
   "metadata": {},
   "outputs": [],
   "source": [
    "df_2017 = df_2017[['worldwide_gross', 'month']]\n",
    "df_2017 = df_2017.dropna(subset=['month'])\n",
    "\n",
    "df_jan2017 = df_2017[df_2017['month'] == 'Jan'].mean().astype(np.int64)\n",
    "df_feb2017 = df_2017[df_2017['month'] == 'Feb'].mean().astype(np.int64)\n",
    "df_mar2017 = df_2017[df_2017['month'] == 'Mar'].mean().astype(np.int64)\n",
    "df_apr2017 = df_2017[df_2017['month'] == 'Apr'].mean().astype(np.int64)\n",
    "df_may2017 = df_2017[df_2017['month'] == 'May'].mean().astype(np.int64)\n",
    "df_jun2017 = df_2017[df_2017['month'] == 'Jun'].mean().astype(np.int64)\n",
    "df_jul2017 = df_2017[df_2017['month'] == 'Jul'].mean().astype(np.int64)\n",
    "df_aug2017 = df_2017[df_2017['month'] == 'Aug'].mean().astype(np.int64)\n",
    "df_sep2017 = df_2017[df_2017['month'] == 'Sep'].mean().astype(np.int64)\n",
    "df_oct2017 = df_2017[df_2017['month'] == 'Oct'].mean().astype(np.int64)\n",
    "df_nov2017 = df_2017[df_2017['month'] == 'Nov'].mean().astype(np.int64)\n",
    "df_dec2017 = df_2017[df_2017['month'] == 'Dec'].mean().astype(np.int64)"
   ]
  },
  {
   "cell_type": "code",
   "execution_count": 56,
   "id": "22734c3e",
   "metadata": {},
   "outputs": [],
   "source": [
    "df_2018 = df_2018[['worldwide_gross', 'month']]\n",
    "df_2018 = df_2018.dropna(subset=['month'])\n",
    "\n",
    "df_jan2018 = df_2018[df_2018['month'] == 'Jan'].mean().astype(np.int64)\n",
    "df_feb2018 = df_2018[df_2018['month'] == 'Feb'].mean().astype(np.int64)\n",
    "df_mar2018 = df_2018[df_2018['month'] == 'Mar'].mean().astype(np.int64)\n",
    "df_apr2018 = df_2018[df_2018['month'] == 'Apr'].mean().astype(np.int64)\n",
    "df_may2018 = df_2018[df_2018['month'] == 'May'].mean().astype(np.int64)\n",
    "df_jun2018 = df_2018[df_2018['month'] == 'Jun'].mean().astype(np.int64)\n",
    "df_jul2018 = df_2018[df_2018['month'] == 'Jul'].mean().astype(np.int64)\n",
    "df_aug2018 = df_2018[df_2018['month'] == 'Aug'].mean().astype(np.int64)\n",
    "df_sep2018 = df_2018[df_2018['month'] == 'Sep'].mean().astype(np.int64)\n",
    "df_oct2018 = df_2018[df_2018['month'] == 'Oct'].mean().astype(np.int64)\n",
    "df_nov2018 = df_2018[df_2018['month'] == 'Nov'].mean().astype(np.int64)\n",
    "df_dec2018 = df_2018[df_2018['month'] == 'Dec'].mean().astype(np.int64)"
   ]
  },
  {
   "cell_type": "code",
   "execution_count": 57,
   "id": "7a200f86",
   "metadata": {},
   "outputs": [],
   "source": [
    "mean_2013 = [df_jan2013[0], df_feb2013[0], df_mar2013[0], df_apr2013[0], df_may2013[0], df_jun2013[0],\\\n",
    "             df_jul2013[0], df_aug2013[0], df_sep2013[0], df_oct2013[0], df_nov2013[0], df_dec2013[0]]\n",
    "mean_2014 = [df_jan2014[0], df_feb2014[0], df_mar2014[0], df_apr2014[0], df_may2014[0], df_jun2014[0],\\\n",
    "             df_jul2014[0], df_aug2014[0], df_sep2014[0], df_oct2014[0], df_nov2014[0], df_dec2014[0]]\n",
    "mean_2015 = [df_jan2015[0], df_feb2015[0], df_mar2015[0], df_apr2015[0], df_may2015[0], df_jun2015[0],\\\n",
    "             df_jul2015[0], df_aug2015[0], df_sep2015[0], df_oct2015[0], df_nov2015[0], df_dec2015[0]]\n",
    "mean_2016 = [df_jan2016[0], df_feb2016[0], df_mar2016[0], df_apr2016[0], df_may2016[0], df_jun2016[0],\\\n",
    "             df_jul2016[0], df_aug2016[0], df_sep2016[0], df_oct2016[0], df_nov2016[0], df_dec2016[0]]\n",
    "mean_2017 = [df_jan2017[0], df_feb2017[0], df_mar2017[0], df_apr2017[0], df_may2017[0], df_jun2017[0],\\\n",
    "             df_jul2017[0], df_aug2017[0], df_sep2017[0], df_oct2017[0], df_nov2017[0], df_dec2017[0]]\n",
    "mean_2018 = [df_jan2018[0], df_feb2018[0], df_mar2018[0], df_apr2018[0], df_may2018[0], df_jun2018[0],\\\n",
    "             df_jul2018[0], df_aug2018[0], df_sep2018[0], df_oct2018[0], df_nov2018[0], df_dec2018[0]]"
   ]
  },
  {
   "cell_type": "code",
   "execution_count": 58,
   "id": "4d9475ef",
   "metadata": {},
   "outputs": [
    {
     "data": {
      "text/plain": [
       "[<matplotlib.lines.Line2D at 0x19ad47c4d60>]"
      ]
     },
     "execution_count": 58,
     "metadata": {},
     "output_type": "execute_result"
    },
    {
     "data": {
      "image/png": "[encoded data removed]",
      "text/plain": [
       "<Figure size 1296x720 with 6 Axes>"
      ]
     },
     "metadata": {
      "needs_background": "light"
     },
     "output_type": "display_data"
    }
   ],
   "source": [
    "plt.style.use('seaborn-bright')\n",
    "fig, ax = plt.subplots(2, 3, figsize = (18, 10))\n",
    "x = column_names\n",
    "ax[0,0].plot(x, mean_2013)\n",
    "ax[0,1].plot(x, mean_2014)\n",
    "ax[0,2].plot(x, mean_2015)\n",
    "ax[1,0].plot(x, mean_2016)\n",
    "ax[1,1].plot(x, mean_2017)\n",
    "ax[1,2].plot(x, mean_2018)\n",
    "#sns.barplot(x, y);"
   ]
  },
  {
   "cell_type": "code",
   "execution_count": 59,
   "id": "281d598a",
   "metadata": {},
   "outputs": [],
   "source": [
    "df_complete = BigFrame[['production_budget','worldwide_gross', 'year', 'month']]\n",
    "\n",
    "column_names = months\n",
    "a = np.zeros(shape=(1,12), dtype = int)\n",
    "df_months = pd.DataFrame(a, columns = column_names)\n",
    "\n",
    "for x in df_complete:\n",
    "    if x in column_names:\n",
    "        df_months[x] += 1"
   ]
  },
  {
   "cell_type": "code",
   "execution_count": 60,
   "id": "21faa55a",
   "metadata": {},
   "outputs": [
    {
     "data": {
      "text/plain": [
       "[(0, 0, 0, 0, 0, 0, 0, 0, 0, 0, 0, 0)]"
      ]
     },
     "execution_count": 60,
     "metadata": {},
     "output_type": "execute_result"
    }
   ],
   "source": [
    "# Get the values from this function and copy them below *here*\n",
    "\n",
    "list(df_months.value_counts().index)"
   ]
  },
  {
   "cell_type": "code",
   "execution_count": 61,
   "id": "ca7fc49f",
   "metadata": {},
   "outputs": [
    {
     "name": "stderr",
     "output_type": "stream",
     "text": [
      "C:\\Users\\Admin\\anaconda3\\lib\\site-packages\\seaborn\\_decorators.py:36: FutureWarning: Pass the following variables as keyword args: x, y. From version 0.12, the only valid positional argument will be `data`, and passing other arguments without an explicit keyword will result in an error or misinterpretation.\n",
      "  warnings.warn(\n"
     ]
    },
    {
     "data": {
      "image/png": "[encoded data removed]",
      "text/plain": [
       "<Figure size 720x720 with 1 Axes>"
      ]
     },
     "metadata": {
      "needs_background": "light"
     },
     "output_type": "display_data"
    }
   ],
   "source": [
    "from matplotlib import pyplot as plt\n",
    "import seaborn as sns\n",
    "%matplotlib inline\n",
    "\n",
    "plt.style.use('seaborn-bright')\n",
    "fig, ax = plt.subplots(figsize = (10, 10))\n",
    "x = months\n",
    "#y = [*here*]\n",
    "y = [214, 264, 304, 304, 249, 274, 261, 298, 328, 353, 305, 392]\n",
    "sns.barplot(x, y);\n",
    "ax.set_title('Total number of movie releases by month')\n",
    "ax.set_xlabel('Data from 2001 - 2020')\n",
    "ax.set_ylabel('Number of movies released');"
   ]
  },
  {
   "cell_type": "code",
   "execution_count": 62,
   "id": "17fb81e3",
   "metadata": {},
   "outputs": [],
   "source": [
    "# The best window to release our blockbuster action / drama/ suspense film is releasing during the holiday season.\n",
    "# This distribution shows that other big name movie production companies release later in the year."
   ]
  },
  {
   "cell_type": "code",
   "execution_count": null,
   "id": "7f29321b",
   "metadata": {},
   "outputs": [],
   "source": []
  }
 ],
 "metadata": {
  "kernelspec": {
   "display_name": "Python 3",
   "language": "python",
   "name": "python3"
  },
  "language_info": {
   "codemirror_mode": {
    "name": "ipython",
    "version": 3
   },
   "file_extension": ".py",
   "mimetype": "text/x-python",
   "name": "python",
   "nbconvert_exporter": "python",
   "pygments_lexer": "ipython3",
   "version": "3.8.8"
  }
 },
 "nbformat": 4,
 "nbformat_minor": 5
}
