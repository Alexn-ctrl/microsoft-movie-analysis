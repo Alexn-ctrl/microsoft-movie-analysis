{
 "cells": [
  {
   "cell_type": "markdown",
   "metadata": {},
   "source": [
    "![example](images/director_shot.jpeg)"
   ]
  },
  {
   "cell_type": "markdown",
   "metadata": {},
   "source": [
    "# MICROSOFT MOVIE STUDIO MARKET RESEARCH\n",
    "\n",
    "**Authors:** Winfred Kabuya\n",
    "***"
   ]
  },
  {
   "cell_type": "markdown",
   "metadata": {},
   "source": [
    "## Overview\n",
    "\n",
    "This project aims to provide recommendations to Microsoft regarding the types of movies that perform well among audiences, using data analysis of movie ratings and popularity. Microsoft plans to launch its own movie studio and has requested guidance as a newcomer to the industry. The project utilizes datasets from various sources, such as Box Office Mojo, IMDb, Rotten Tomatoes, The Movie Database, and The Numbers. The primary focus of the analysis is the IMDb datasets, which include movie information from 2010 to 2019, such as genres, average user ratings, and the number of users who voted on each movie. The analysis resulted in identifying 10 high-performing genres for Microsoft to prioritize and providing recommendations on how much of its budget should be allocated to Action movies and animated movies."
   ]
  },
  {
   "cell_type": "markdown",
   "metadata": {},
   "source": [
    "## Business Problem\n",
    "\n",
    "When measuring success in the movie industry, it may not be sufficient to only consider the attributes that generate the highest return-on-investment at the box office, especially in the streaming era. Rather, the number of people who watch the movie should be the primary measure of success. As Microsoft considers whether to sell its movies to streaming services or launch its own, it needs to determine which types of movies will attract the most viewers. To gauge this, I use the number of votes a movie receives on IMDb as a proxy for the number of viewers. By analyzing this metric, I aim to answer the following questions: which 5 genres typically perform the best, and how much focus should Microsoft place on producing comedies and action movies?"
   ]
  },
  {
   "cell_type": "markdown",
   "metadata": {},
   "source": [
    "## Data Understanding\n",
    "\n",
    "IMDb is a highly popular website for obtaining basic information on movies and TV shows, including user reviews.As of March 2022, the database contained some 10.1 million titles (including television episodes) and 11.5 million person records. Additionally, the site had 83 million registered users and is the 54th most visited website in the world, according to website ranker Alexa as of February 12, 2023.\n",
    "\n",
    "The data that I will be working with is stored in a SQL file and contains two main tables: movie_basics and movie_ratings. The movie_basics table provides details on each movie's name, release year, runtime, and genres, while the movie_ratings table presents the total number of votes a movie has received and its rank based on those votes.\n",
    "\n",
    "Both tables share a unique identifier for each movie called movie_id. To analyze the data, I intend to group the movies by genre and determine the number one ranked movie for each genre based on its total number of votes."
   ]
  },
  {
   "cell_type": "code",
   "execution_count": 6,
   "metadata": {},
   "outputs": [],
   "source": [
    "# Import standard packages\n",
    "import pandas as pd\n",
    "import numpy as np\n",
    "import matplotlib.pyplot as plt\n",
    "import seaborn as sns\n",
    "import sqlite3\n",
    "import zipfile\n",
    "%matplotlib inline"
   ]
  },
  {
   "cell_type": "code",
   "execution_count": 7,
   "metadata": {},
   "outputs": [],
   "source": [
    "# Here you run your code to explore the data\n",
    "#Loading the zipped file\n",
    "with zipfile.ZipFile('zippedData/im.db.zip') as my_zip:\n",
    "    zipfile.ZipFile.extractall(my_zip, path='ZippedData')"
   ]
  },
  {
   "cell_type": "code",
   "execution_count": 8,
   "metadata": {},
   "outputs": [],
   "source": [
    "con = sqlite3.connect('ZippedData/im.db')\n"
   ]
  },
  {
   "cell_type": "code",
   "execution_count": 9,
   "metadata": {},
   "outputs": [
    {
     "name": "stdout",
     "output_type": "stream",
     "text": [
      "bom.movie_gross.csv.gz\trt.movie_info.tsv.gz  tmdb.movies.csv.gz\n",
      "im.db.zip\t\trt.reviews.tsv.gz     tn.movie_budgets.csv.gz\n"
     ]
    }
   ],
   "source": [
    "! ls zippedData\n"
   ]
  },
  {
   "cell_type": "markdown",
   "metadata": {},
   "source": [
    "## Data Preparation\n",
    "\n",
    "Investigating the IMDb SQL database."
   ]
  },
  {
   "cell_type": "code",
   "execution_count": 10,
   "metadata": {},
   "outputs": [
    {
     "data": {
      "text/html": [
       "<div>\n",
       "<style scoped>\n",
       "    .dataframe tbody tr th:only-of-type {\n",
       "        vertical-align: middle;\n",
       "    }\n",
       "\n",
       "    .dataframe tbody tr th {\n",
       "        vertical-align: top;\n",
       "    }\n",
       "\n",
       "    .dataframe thead th {\n",
       "        text-align: right;\n",
       "    }\n",
       "</style>\n",
       "<table border=\"1\" class=\"dataframe\">\n",
       "  <thead>\n",
       "    <tr style=\"text-align: right;\">\n",
       "      <th></th>\n",
       "      <th>type</th>\n",
       "      <th>name</th>\n",
       "      <th>tbl_name</th>\n",
       "      <th>rootpage</th>\n",
       "      <th>sql</th>\n",
       "    </tr>\n",
       "  </thead>\n",
       "  <tbody>\n",
       "    <tr>\n",
       "      <th>0</th>\n",
       "      <td>table</td>\n",
       "      <td>movie_basics</td>\n",
       "      <td>movie_basics</td>\n",
       "      <td>2</td>\n",
       "      <td>CREATE TABLE \"movie_basics\" (\\n\"movie_id\" TEXT...</td>\n",
       "    </tr>\n",
       "    <tr>\n",
       "      <th>1</th>\n",
       "      <td>table</td>\n",
       "      <td>directors</td>\n",
       "      <td>directors</td>\n",
       "      <td>3</td>\n",
       "      <td>CREATE TABLE \"directors\" (\\n\"movie_id\" TEXT,\\n...</td>\n",
       "    </tr>\n",
       "    <tr>\n",
       "      <th>2</th>\n",
       "      <td>table</td>\n",
       "      <td>known_for</td>\n",
       "      <td>known_for</td>\n",
       "      <td>4</td>\n",
       "      <td>CREATE TABLE \"known_for\" (\\n\"person_id\" TEXT,\\...</td>\n",
       "    </tr>\n",
       "    <tr>\n",
       "      <th>3</th>\n",
       "      <td>table</td>\n",
       "      <td>movie_akas</td>\n",
       "      <td>movie_akas</td>\n",
       "      <td>5</td>\n",
       "      <td>CREATE TABLE \"movie_akas\" (\\n\"movie_id\" TEXT,\\...</td>\n",
       "    </tr>\n",
       "    <tr>\n",
       "      <th>4</th>\n",
       "      <td>table</td>\n",
       "      <td>movie_ratings</td>\n",
       "      <td>movie_ratings</td>\n",
       "      <td>6</td>\n",
       "      <td>CREATE TABLE \"movie_ratings\" (\\n\"movie_id\" TEX...</td>\n",
       "    </tr>\n",
       "    <tr>\n",
       "      <th>5</th>\n",
       "      <td>table</td>\n",
       "      <td>persons</td>\n",
       "      <td>persons</td>\n",
       "      <td>7</td>\n",
       "      <td>CREATE TABLE \"persons\" (\\n\"person_id\" TEXT,\\n ...</td>\n",
       "    </tr>\n",
       "    <tr>\n",
       "      <th>6</th>\n",
       "      <td>table</td>\n",
       "      <td>principals</td>\n",
       "      <td>principals</td>\n",
       "      <td>8</td>\n",
       "      <td>CREATE TABLE \"principals\" (\\n\"movie_id\" TEXT,\\...</td>\n",
       "    </tr>\n",
       "    <tr>\n",
       "      <th>7</th>\n",
       "      <td>table</td>\n",
       "      <td>writers</td>\n",
       "      <td>writers</td>\n",
       "      <td>9</td>\n",
       "      <td>CREATE TABLE \"writers\" (\\n\"movie_id\" TEXT,\\n  ...</td>\n",
       "    </tr>\n",
       "  </tbody>\n",
       "</table>\n",
       "</div>"
      ],
      "text/plain": [
       "    type           name       tbl_name  rootpage  \\\n",
       "0  table   movie_basics   movie_basics         2   \n",
       "1  table      directors      directors         3   \n",
       "2  table      known_for      known_for         4   \n",
       "3  table     movie_akas     movie_akas         5   \n",
       "4  table  movie_ratings  movie_ratings         6   \n",
       "5  table        persons        persons         7   \n",
       "6  table     principals     principals         8   \n",
       "7  table        writers        writers         9   \n",
       "\n",
       "                                                 sql  \n",
       "0  CREATE TABLE \"movie_basics\" (\\n\"movie_id\" TEXT...  \n",
       "1  CREATE TABLE \"directors\" (\\n\"movie_id\" TEXT,\\n...  \n",
       "2  CREATE TABLE \"known_for\" (\\n\"person_id\" TEXT,\\...  \n",
       "3  CREATE TABLE \"movie_akas\" (\\n\"movie_id\" TEXT,\\...  \n",
       "4  CREATE TABLE \"movie_ratings\" (\\n\"movie_id\" TEX...  \n",
       "5  CREATE TABLE \"persons\" (\\n\"person_id\" TEXT,\\n ...  \n",
       "6  CREATE TABLE \"principals\" (\\n\"movie_id\" TEXT,\\...  \n",
       "7  CREATE TABLE \"writers\" (\\n\"movie_id\" TEXT,\\n  ...  "
      ]
     },
     "execution_count": 10,
     "metadata": {},
     "output_type": "execute_result"
    }
   ],
   "source": [
    "# Here you run your code to clean the data\n",
    "pd.read_sql(\"\"\"\n",
    "SELECT *\n",
    "FROM sqlite_schema\n",
    "WHERE type='table'\n",
    "\"\"\", con)\n"
   ]
  },
  {
   "cell_type": "markdown",
   "metadata": {},
   "source": [
    "Merging IMDb movie_basics and movie_ratings "
   ]
  },
  {
   "cell_type": "code",
   "execution_count": 11,
   "metadata": {},
   "outputs": [
    {
     "data": {
      "text/html": [
       "<div>\n",
       "<style scoped>\n",
       "    .dataframe tbody tr th:only-of-type {\n",
       "        vertical-align: middle;\n",
       "    }\n",
       "\n",
       "    .dataframe tbody tr th {\n",
       "        vertical-align: top;\n",
       "    }\n",
       "\n",
       "    .dataframe thead th {\n",
       "        text-align: right;\n",
       "    }\n",
       "</style>\n",
       "<table border=\"1\" class=\"dataframe\">\n",
       "  <thead>\n",
       "    <tr style=\"text-align: right;\">\n",
       "      <th></th>\n",
       "      <th>movie_id</th>\n",
       "      <th>primary_title</th>\n",
       "      <th>original_title</th>\n",
       "      <th>start_year</th>\n",
       "      <th>runtime_minutes</th>\n",
       "      <th>genres</th>\n",
       "      <th>averagerating</th>\n",
       "      <th>numvotes</th>\n",
       "    </tr>\n",
       "  </thead>\n",
       "  <tbody>\n",
       "    <tr>\n",
       "      <th>0</th>\n",
       "      <td>tt0063540</td>\n",
       "      <td>Sunghursh</td>\n",
       "      <td>Sunghursh</td>\n",
       "      <td>2013</td>\n",
       "      <td>175.0</td>\n",
       "      <td>Action,Crime,Drama</td>\n",
       "      <td>7.0</td>\n",
       "      <td>77.0</td>\n",
       "    </tr>\n",
       "    <tr>\n",
       "      <th>1</th>\n",
       "      <td>tt0066787</td>\n",
       "      <td>One Day Before the Rainy Season</td>\n",
       "      <td>Ashad Ka Ek Din</td>\n",
       "      <td>2019</td>\n",
       "      <td>114.0</td>\n",
       "      <td>Biography,Drama</td>\n",
       "      <td>7.2</td>\n",
       "      <td>43.0</td>\n",
       "    </tr>\n",
       "    <tr>\n",
       "      <th>2</th>\n",
       "      <td>tt0069049</td>\n",
       "      <td>The Other Side of the Wind</td>\n",
       "      <td>The Other Side of the Wind</td>\n",
       "      <td>2018</td>\n",
       "      <td>122.0</td>\n",
       "      <td>Drama</td>\n",
       "      <td>6.9</td>\n",
       "      <td>4517.0</td>\n",
       "    </tr>\n",
       "    <tr>\n",
       "      <th>3</th>\n",
       "      <td>tt0069204</td>\n",
       "      <td>Sabse Bada Sukh</td>\n",
       "      <td>Sabse Bada Sukh</td>\n",
       "      <td>2018</td>\n",
       "      <td>NaN</td>\n",
       "      <td>Comedy,Drama</td>\n",
       "      <td>6.1</td>\n",
       "      <td>13.0</td>\n",
       "    </tr>\n",
       "    <tr>\n",
       "      <th>4</th>\n",
       "      <td>tt0100275</td>\n",
       "      <td>The Wandering Soap Opera</td>\n",
       "      <td>La Telenovela Errante</td>\n",
       "      <td>2017</td>\n",
       "      <td>80.0</td>\n",
       "      <td>Comedy,Drama,Fantasy</td>\n",
       "      <td>6.5</td>\n",
       "      <td>119.0</td>\n",
       "    </tr>\n",
       "    <tr>\n",
       "      <th>...</th>\n",
       "      <td>...</td>\n",
       "      <td>...</td>\n",
       "      <td>...</td>\n",
       "      <td>...</td>\n",
       "      <td>...</td>\n",
       "      <td>...</td>\n",
       "      <td>...</td>\n",
       "      <td>...</td>\n",
       "    </tr>\n",
       "    <tr>\n",
       "      <th>146139</th>\n",
       "      <td>tt9916538</td>\n",
       "      <td>Kuambil Lagi Hatiku</td>\n",
       "      <td>Kuambil Lagi Hatiku</td>\n",
       "      <td>2019</td>\n",
       "      <td>123.0</td>\n",
       "      <td>Drama</td>\n",
       "      <td>NaN</td>\n",
       "      <td>NaN</td>\n",
       "    </tr>\n",
       "    <tr>\n",
       "      <th>146140</th>\n",
       "      <td>tt9916622</td>\n",
       "      <td>Rodolpho Teóphilo - O Legado de um Pioneiro</td>\n",
       "      <td>Rodolpho Teóphilo - O Legado de um Pioneiro</td>\n",
       "      <td>2015</td>\n",
       "      <td>NaN</td>\n",
       "      <td>Documentary</td>\n",
       "      <td>NaN</td>\n",
       "      <td>NaN</td>\n",
       "    </tr>\n",
       "    <tr>\n",
       "      <th>146141</th>\n",
       "      <td>tt9916706</td>\n",
       "      <td>Dankyavar Danka</td>\n",
       "      <td>Dankyavar Danka</td>\n",
       "      <td>2013</td>\n",
       "      <td>NaN</td>\n",
       "      <td>Comedy</td>\n",
       "      <td>NaN</td>\n",
       "      <td>NaN</td>\n",
       "    </tr>\n",
       "    <tr>\n",
       "      <th>146142</th>\n",
       "      <td>tt9916730</td>\n",
       "      <td>6 Gunn</td>\n",
       "      <td>6 Gunn</td>\n",
       "      <td>2017</td>\n",
       "      <td>116.0</td>\n",
       "      <td>None</td>\n",
       "      <td>NaN</td>\n",
       "      <td>NaN</td>\n",
       "    </tr>\n",
       "    <tr>\n",
       "      <th>146143</th>\n",
       "      <td>tt9916754</td>\n",
       "      <td>Chico Albuquerque - Revelações</td>\n",
       "      <td>Chico Albuquerque - Revelações</td>\n",
       "      <td>2013</td>\n",
       "      <td>NaN</td>\n",
       "      <td>Documentary</td>\n",
       "      <td>NaN</td>\n",
       "      <td>NaN</td>\n",
       "    </tr>\n",
       "  </tbody>\n",
       "</table>\n",
       "<p>146144 rows × 8 columns</p>\n",
       "</div>"
      ],
      "text/plain": [
       "         movie_id                                primary_title  \\\n",
       "0       tt0063540                                    Sunghursh   \n",
       "1       tt0066787              One Day Before the Rainy Season   \n",
       "2       tt0069049                   The Other Side of the Wind   \n",
       "3       tt0069204                              Sabse Bada Sukh   \n",
       "4       tt0100275                     The Wandering Soap Opera   \n",
       "...           ...                                          ...   \n",
       "146139  tt9916538                          Kuambil Lagi Hatiku   \n",
       "146140  tt9916622  Rodolpho Teóphilo - O Legado de um Pioneiro   \n",
       "146141  tt9916706                              Dankyavar Danka   \n",
       "146142  tt9916730                                       6 Gunn   \n",
       "146143  tt9916754               Chico Albuquerque - Revelações   \n",
       "\n",
       "                                     original_title  start_year  \\\n",
       "0                                         Sunghursh        2013   \n",
       "1                                   Ashad Ka Ek Din        2019   \n",
       "2                        The Other Side of the Wind        2018   \n",
       "3                                   Sabse Bada Sukh        2018   \n",
       "4                             La Telenovela Errante        2017   \n",
       "...                                             ...         ...   \n",
       "146139                          Kuambil Lagi Hatiku        2019   \n",
       "146140  Rodolpho Teóphilo - O Legado de um Pioneiro        2015   \n",
       "146141                              Dankyavar Danka        2013   \n",
       "146142                                       6 Gunn        2017   \n",
       "146143               Chico Albuquerque - Revelações        2013   \n",
       "\n",
       "        runtime_minutes                genres  averagerating  numvotes  \n",
       "0                 175.0    Action,Crime,Drama            7.0      77.0  \n",
       "1                 114.0       Biography,Drama            7.2      43.0  \n",
       "2                 122.0                 Drama            6.9    4517.0  \n",
       "3                   NaN          Comedy,Drama            6.1      13.0  \n",
       "4                  80.0  Comedy,Drama,Fantasy            6.5     119.0  \n",
       "...                 ...                   ...            ...       ...  \n",
       "146139            123.0                 Drama            NaN       NaN  \n",
       "146140              NaN           Documentary            NaN       NaN  \n",
       "146141              NaN                Comedy            NaN       NaN  \n",
       "146142            116.0                  None            NaN       NaN  \n",
       "146143              NaN           Documentary            NaN       NaN  \n",
       "\n",
       "[146144 rows x 8 columns]"
      ]
     },
     "execution_count": 11,
     "metadata": {},
     "output_type": "execute_result"
    }
   ],
   "source": [
    "movies_ratings = pd.read_sql(\"\"\"\n",
    "SELECT * FROM movie_basics\n",
    "LEFT JOIN movie_ratings\n",
    "    USING(movie_id)\n",
    "\"\"\" , con)\n",
    "\n",
    "movies_ratings "
   ]
  },
  {
   "cell_type": "code",
   "execution_count": 12,
   "metadata": {},
   "outputs": [
    {
     "name": "stdout",
     "output_type": "stream",
     "text": [
      "<class 'pandas.core.frame.DataFrame'>\n",
      "RangeIndex: 146144 entries, 0 to 146143\n",
      "Data columns (total 8 columns):\n",
      " #   Column           Non-Null Count   Dtype  \n",
      "---  ------           --------------   -----  \n",
      " 0   movie_id         146144 non-null  object \n",
      " 1   primary_title    146144 non-null  object \n",
      " 2   original_title   146123 non-null  object \n",
      " 3   start_year       146144 non-null  int64  \n",
      " 4   runtime_minutes  114405 non-null  float64\n",
      " 5   genres           140736 non-null  object \n",
      " 6   averagerating    73856 non-null   float64\n",
      " 7   numvotes         73856 non-null   float64\n",
      "dtypes: float64(3), int64(1), object(4)\n",
      "memory usage: 8.9+ MB\n"
     ]
    }
   ],
   "source": [
    "movies_ratings.info()"
   ]
  },
  {
   "cell_type": "code",
   "execution_count": 13,
   "metadata": {},
   "outputs": [
    {
     "data": {
      "text/plain": [
       "movie_id               0\n",
       "primary_title          0\n",
       "original_title        21\n",
       "start_year             0\n",
       "runtime_minutes    31739\n",
       "genres              5408\n",
       "averagerating      72288\n",
       "numvotes           72288\n",
       "dtype: int64"
      ]
     },
     "execution_count": 13,
     "metadata": {},
     "output_type": "execute_result"
    }
   ],
   "source": [
    "# Calculating the number of missing/null values\n",
    "\n",
    "movies_ratings.isna().sum()\n"
   ]
  },
  {
   "cell_type": "markdown",
   "metadata": {},
   "source": [
    "We now need to drop these missing values"
   ]
  },
  {
   "cell_type": "code",
   "execution_count": 14,
   "metadata": {},
   "outputs": [],
   "source": [
    "# Dropping titles with no votes or rating\n",
    "\n",
    "movies_ratings.dropna(subset=['numvotes'], inplace=True)"
   ]
  },
  {
   "cell_type": "code",
   "execution_count": 15,
   "metadata": {},
   "outputs": [
    {
     "name": "stdout",
     "output_type": "stream",
     "text": [
      "Number of null ratings: 0\n",
      "Number of null vote counts: 0\n"
     ]
    }
   ],
   "source": [
    "#to confirm if they were dropped\n",
    "print('Number of null ratings:', movies_ratings['averagerating'].isnull().sum())\n",
    "\n",
    "print('Number of null vote counts:', movies_ratings['numvotes'].isnull().sum())\n"
   ]
  },
  {
   "cell_type": "code",
   "execution_count": 16,
   "metadata": {},
   "outputs": [],
   "source": [
    "# Dropping titles with no genres listed.\n",
    "\n",
    "movies_ratings.dropna(subset=['genres'], inplace=True)"
   ]
  },
  {
   "cell_type": "markdown",
   "metadata": {},
   "source": [
    "Lets deal with the duplicates"
   ]
  },
  {
   "cell_type": "code",
   "execution_count": 17,
   "metadata": {},
   "outputs": [
    {
     "data": {
      "text/plain": [
       "0"
      ]
     },
     "execution_count": 17,
     "metadata": {},
     "output_type": "execute_result"
    }
   ],
   "source": [
    "movies_ratings.duplicated().sum()"
   ]
  },
  {
   "cell_type": "code",
   "execution_count": 18,
   "metadata": {},
   "outputs": [
    {
     "data": {
      "text/plain": [
       "2707"
      ]
     },
     "execution_count": 18,
     "metadata": {},
     "output_type": "execute_result"
    }
   ],
   "source": [
    "movies_ratings.duplicated(subset='original_title').sum()"
   ]
  },
  {
   "cell_type": "markdown",
   "metadata": {},
   "source": [
    "While there are over 2,700 movies that share the same name, it doesn't necessarily mean that they are exact duplicates of one another. There is a possibility that it could be a mere coincidence. To investigate further, let's check if there are any movies that have identical titles, runtimes, and release years."
   ]
  },
  {
   "cell_type": "code",
   "execution_count": 19,
   "metadata": {},
   "outputs": [
    {
     "data": {
      "text/html": [
       "<div>\n",
       "<style scoped>\n",
       "    .dataframe tbody tr th:only-of-type {\n",
       "        vertical-align: middle;\n",
       "    }\n",
       "\n",
       "    .dataframe tbody tr th {\n",
       "        vertical-align: top;\n",
       "    }\n",
       "\n",
       "    .dataframe thead th {\n",
       "        text-align: right;\n",
       "    }\n",
       "</style>\n",
       "<table border=\"1\" class=\"dataframe\">\n",
       "  <thead>\n",
       "    <tr style=\"text-align: right;\">\n",
       "      <th></th>\n",
       "      <th>movie_id</th>\n",
       "      <th>primary_title</th>\n",
       "      <th>original_title</th>\n",
       "      <th>start_year</th>\n",
       "      <th>runtime_minutes</th>\n",
       "      <th>genres</th>\n",
       "      <th>averagerating</th>\n",
       "      <th>numvotes</th>\n",
       "    </tr>\n",
       "  </thead>\n",
       "  <tbody>\n",
       "    <tr>\n",
       "      <th>2658</th>\n",
       "      <td>tt10275936</td>\n",
       "      <td>Raggarjävlar (Swedish Greasers)</td>\n",
       "      <td>Raggarjävlar (Swedish Greasers)</td>\n",
       "      <td>2019</td>\n",
       "      <td>70.0</td>\n",
       "      <td>Documentary</td>\n",
       "      <td>6.9</td>\n",
       "      <td>47.0</td>\n",
       "    </tr>\n",
       "    <tr>\n",
       "      <th>11830</th>\n",
       "      <td>tt1644694</td>\n",
       "      <td>The Gift</td>\n",
       "      <td>The Gift</td>\n",
       "      <td>2010</td>\n",
       "      <td>NaN</td>\n",
       "      <td>Animation,Drama</td>\n",
       "      <td>5.9</td>\n",
       "      <td>7.0</td>\n",
       "    </tr>\n",
       "    <tr>\n",
       "      <th>12984</th>\n",
       "      <td>tt1674217</td>\n",
       "      <td>Transit</td>\n",
       "      <td>Transit</td>\n",
       "      <td>2010</td>\n",
       "      <td>80.0</td>\n",
       "      <td>Biography,Documentary,Family</td>\n",
       "      <td>6.7</td>\n",
       "      <td>13.0</td>\n",
       "    </tr>\n",
       "    <tr>\n",
       "      <th>19111</th>\n",
       "      <td>tt1825978</td>\n",
       "      <td>The Artist</td>\n",
       "      <td>The Artist</td>\n",
       "      <td>2011</td>\n",
       "      <td>100.0</td>\n",
       "      <td>Thriller</td>\n",
       "      <td>6.8</td>\n",
       "      <td>6.0</td>\n",
       "    </tr>\n",
       "    <tr>\n",
       "      <th>23887</th>\n",
       "      <td>tt1967651</td>\n",
       "      <td>Unconditional Love</td>\n",
       "      <td>Unconditional</td>\n",
       "      <td>2012</td>\n",
       "      <td>92.0</td>\n",
       "      <td>Drama,Thriller</td>\n",
       "      <td>5.6</td>\n",
       "      <td>660.0</td>\n",
       "    </tr>\n",
       "    <tr>\n",
       "      <th>24139</th>\n",
       "      <td>tt1977822</td>\n",
       "      <td>Inside</td>\n",
       "      <td>Inside</td>\n",
       "      <td>2012</td>\n",
       "      <td>85.0</td>\n",
       "      <td>Horror</td>\n",
       "      <td>4.0</td>\n",
       "      <td>397.0</td>\n",
       "    </tr>\n",
       "    <tr>\n",
       "      <th>33380</th>\n",
       "      <td>tt2246595</td>\n",
       "      <td>Blood Money</td>\n",
       "      <td>Blood Money</td>\n",
       "      <td>2012</td>\n",
       "      <td>109.0</td>\n",
       "      <td>Action,Drama,Thriller</td>\n",
       "      <td>5.2</td>\n",
       "      <td>881.0</td>\n",
       "    </tr>\n",
       "    <tr>\n",
       "      <th>37698</th>\n",
       "      <td>tt2363471</td>\n",
       "      <td>The Summit</td>\n",
       "      <td>The Summit</td>\n",
       "      <td>2012</td>\n",
       "      <td>95.0</td>\n",
       "      <td>Adventure,Documentary</td>\n",
       "      <td>6.9</td>\n",
       "      <td>4147.0</td>\n",
       "    </tr>\n",
       "    <tr>\n",
       "      <th>47280</th>\n",
       "      <td>tt2805202</td>\n",
       "      <td>Rise of the Undead</td>\n",
       "      <td>Rise of the Undead</td>\n",
       "      <td>2013</td>\n",
       "      <td>70.0</td>\n",
       "      <td>Action</td>\n",
       "      <td>4.2</td>\n",
       "      <td>20.0</td>\n",
       "    </tr>\n",
       "    <tr>\n",
       "      <th>50941</th>\n",
       "      <td>tt3019098</td>\n",
       "      <td>The Last Act</td>\n",
       "      <td>The Last Act</td>\n",
       "      <td>2012</td>\n",
       "      <td>NaN</td>\n",
       "      <td>Thriller</td>\n",
       "      <td>5.7</td>\n",
       "      <td>6.0</td>\n",
       "    </tr>\n",
       "    <tr>\n",
       "      <th>72877</th>\n",
       "      <td>tt4156972</td>\n",
       "      <td>Opening Night</td>\n",
       "      <td>Opening Night</td>\n",
       "      <td>2016</td>\n",
       "      <td>90.0</td>\n",
       "      <td>Comedy,Musical</td>\n",
       "      <td>6.3</td>\n",
       "      <td>2299.0</td>\n",
       "    </tr>\n",
       "    <tr>\n",
       "      <th>80877</th>\n",
       "      <td>tt4649330</td>\n",
       "      <td>Eso que llaman amor</td>\n",
       "      <td>Eso que llaman amor</td>\n",
       "      <td>2015</td>\n",
       "      <td>NaN</td>\n",
       "      <td>Drama</td>\n",
       "      <td>6.7</td>\n",
       "      <td>32.0</td>\n",
       "    </tr>\n",
       "    <tr>\n",
       "      <th>88715</th>\n",
       "      <td>tt5136180</td>\n",
       "      <td>A Courtship</td>\n",
       "      <td>A Courtship</td>\n",
       "      <td>2015</td>\n",
       "      <td>71.0</td>\n",
       "      <td>Documentary</td>\n",
       "      <td>6.3</td>\n",
       "      <td>7.0</td>\n",
       "    </tr>\n",
       "    <tr>\n",
       "      <th>103321</th>\n",
       "      <td>tt6052236</td>\n",
       "      <td>The Wonderful Digby</td>\n",
       "      <td>The Wonderful Digby</td>\n",
       "      <td>2016</td>\n",
       "      <td>82.0</td>\n",
       "      <td>Biography,Documentary,Music</td>\n",
       "      <td>7.7</td>\n",
       "      <td>6.0</td>\n",
       "    </tr>\n",
       "    <tr>\n",
       "      <th>103646</th>\n",
       "      <td>tt6073736</td>\n",
       "      <td>Almost Dead</td>\n",
       "      <td>Almost Dead</td>\n",
       "      <td>2016</td>\n",
       "      <td>85.0</td>\n",
       "      <td>Horror</td>\n",
       "      <td>1.9</td>\n",
       "      <td>17.0</td>\n",
       "    </tr>\n",
       "    <tr>\n",
       "      <th>109186</th>\n",
       "      <td>tt6417762</td>\n",
       "      <td>Happy New Year</td>\n",
       "      <td>Happy New Year</td>\n",
       "      <td>2017</td>\n",
       "      <td>NaN</td>\n",
       "      <td>Drama,Romance</td>\n",
       "      <td>7.4</td>\n",
       "      <td>29.0</td>\n",
       "    </tr>\n",
       "    <tr>\n",
       "      <th>116144</th>\n",
       "      <td>tt6896536</td>\n",
       "      <td>Foxtrot</td>\n",
       "      <td>Foxtrot</td>\n",
       "      <td>2017</td>\n",
       "      <td>113.0</td>\n",
       "      <td>Drama</td>\n",
       "      <td>7.4</td>\n",
       "      <td>4910.0</td>\n",
       "    </tr>\n",
       "    <tr>\n",
       "      <th>140322</th>\n",
       "      <td>tt9097086</td>\n",
       "      <td>Together</td>\n",
       "      <td>Together</td>\n",
       "      <td>2018</td>\n",
       "      <td>84.0</td>\n",
       "      <td>Drama</td>\n",
       "      <td>7.2</td>\n",
       "      <td>35.0</td>\n",
       "    </tr>\n",
       "  </tbody>\n",
       "</table>\n",
       "</div>"
      ],
      "text/plain": [
       "          movie_id                    primary_title  \\\n",
       "2658    tt10275936  Raggarjävlar (Swedish Greasers)   \n",
       "11830    tt1644694                         The Gift   \n",
       "12984    tt1674217                          Transit   \n",
       "19111    tt1825978                       The Artist   \n",
       "23887    tt1967651               Unconditional Love   \n",
       "24139    tt1977822                           Inside   \n",
       "33380    tt2246595                      Blood Money   \n",
       "37698    tt2363471                       The Summit   \n",
       "47280    tt2805202               Rise of the Undead   \n",
       "50941    tt3019098                     The Last Act   \n",
       "72877    tt4156972                    Opening Night   \n",
       "80877    tt4649330              Eso que llaman amor   \n",
       "88715    tt5136180                      A Courtship   \n",
       "103321   tt6052236              The Wonderful Digby   \n",
       "103646   tt6073736                      Almost Dead   \n",
       "109186   tt6417762                   Happy New Year   \n",
       "116144   tt6896536                          Foxtrot   \n",
       "140322   tt9097086                         Together   \n",
       "\n",
       "                         original_title  start_year  runtime_minutes  \\\n",
       "2658    Raggarjävlar (Swedish Greasers)        2019             70.0   \n",
       "11830                          The Gift        2010              NaN   \n",
       "12984                           Transit        2010             80.0   \n",
       "19111                        The Artist        2011            100.0   \n",
       "23887                     Unconditional        2012             92.0   \n",
       "24139                            Inside        2012             85.0   \n",
       "33380                       Blood Money        2012            109.0   \n",
       "37698                        The Summit        2012             95.0   \n",
       "47280                Rise of the Undead        2013             70.0   \n",
       "50941                      The Last Act        2012              NaN   \n",
       "72877                     Opening Night        2016             90.0   \n",
       "80877               Eso que llaman amor        2015              NaN   \n",
       "88715                       A Courtship        2015             71.0   \n",
       "103321              The Wonderful Digby        2016             82.0   \n",
       "103646                      Almost Dead        2016             85.0   \n",
       "109186                   Happy New Year        2017              NaN   \n",
       "116144                          Foxtrot        2017            113.0   \n",
       "140322                         Together        2018             84.0   \n",
       "\n",
       "                              genres  averagerating  numvotes  \n",
       "2658                     Documentary            6.9      47.0  \n",
       "11830                Animation,Drama            5.9       7.0  \n",
       "12984   Biography,Documentary,Family            6.7      13.0  \n",
       "19111                       Thriller            6.8       6.0  \n",
       "23887                 Drama,Thriller            5.6     660.0  \n",
       "24139                         Horror            4.0     397.0  \n",
       "33380          Action,Drama,Thriller            5.2     881.0  \n",
       "37698          Adventure,Documentary            6.9    4147.0  \n",
       "47280                         Action            4.2      20.0  \n",
       "50941                       Thriller            5.7       6.0  \n",
       "72877                 Comedy,Musical            6.3    2299.0  \n",
       "80877                          Drama            6.7      32.0  \n",
       "88715                    Documentary            6.3       7.0  \n",
       "103321   Biography,Documentary,Music            7.7       6.0  \n",
       "103646                        Horror            1.9      17.0  \n",
       "109186                 Drama,Romance            7.4      29.0  \n",
       "116144                         Drama            7.4    4910.0  \n",
       "140322                         Drama            7.2      35.0  "
      ]
     },
     "execution_count": 19,
     "metadata": {},
     "output_type": "execute_result"
    }
   ],
   "source": [
    "movies_ratings[movies_ratings.duplicated(subset=['original_title', 'runtime_minutes', 'start_year'])]"
   ]
  },
  {
   "cell_type": "markdown",
   "metadata": {},
   "source": [
    "Eliminating duplicate entries is important. However, we should retain the version with the highest number of votes, as it is the one that IMDb users are more likely to experience."
   ]
  },
  {
   "cell_type": "code",
   "execution_count": 20,
   "metadata": {},
   "outputs": [],
   "source": [
    "# Sorting the dataset by vote count\n",
    "\n",
    "movies_ratings.sort_values(by='numvotes', ascending=False, inplace=True)"
   ]
  },
  {
   "cell_type": "code",
   "execution_count": 21,
   "metadata": {},
   "outputs": [],
   "source": [
    "# Dropping the duplicates\n",
    "\n",
    "movies_ratings.drop_duplicates(subset=['original_title', 'runtime_minutes', 'start_year'], inplace=True, keep='first')"
   ]
  },
  {
   "cell_type": "code",
   "execution_count": 22,
   "metadata": {},
   "outputs": [
    {
     "data": {
      "text/html": [
       "<div>\n",
       "<style scoped>\n",
       "    .dataframe tbody tr th:only-of-type {\n",
       "        vertical-align: middle;\n",
       "    }\n",
       "\n",
       "    .dataframe tbody tr th {\n",
       "        vertical-align: top;\n",
       "    }\n",
       "\n",
       "    .dataframe thead th {\n",
       "        text-align: right;\n",
       "    }\n",
       "</style>\n",
       "<table border=\"1\" class=\"dataframe\">\n",
       "  <thead>\n",
       "    <tr style=\"text-align: right;\">\n",
       "      <th></th>\n",
       "      <th>movie_id</th>\n",
       "      <th>primary_title</th>\n",
       "      <th>original_title</th>\n",
       "      <th>start_year</th>\n",
       "      <th>runtime_minutes</th>\n",
       "      <th>genres</th>\n",
       "      <th>averagerating</th>\n",
       "      <th>numvotes</th>\n",
       "    </tr>\n",
       "  </thead>\n",
       "  <tbody>\n",
       "    <tr>\n",
       "      <th>7066</th>\n",
       "      <td>tt1375666</td>\n",
       "      <td>Inception</td>\n",
       "      <td>Inception</td>\n",
       "      <td>2010</td>\n",
       "      <td>148.0</td>\n",
       "      <td>Action,Adventure,Sci-Fi</td>\n",
       "      <td>8.8</td>\n",
       "      <td>1841066.0</td>\n",
       "    </tr>\n",
       "    <tr>\n",
       "      <th>6900</th>\n",
       "      <td>tt1345836</td>\n",
       "      <td>The Dark Knight Rises</td>\n",
       "      <td>The Dark Knight Rises</td>\n",
       "      <td>2012</td>\n",
       "      <td>164.0</td>\n",
       "      <td>Action,Thriller</td>\n",
       "      <td>8.4</td>\n",
       "      <td>1387769.0</td>\n",
       "    </tr>\n",
       "    <tr>\n",
       "      <th>311</th>\n",
       "      <td>tt0816692</td>\n",
       "      <td>Interstellar</td>\n",
       "      <td>Interstellar</td>\n",
       "      <td>2014</td>\n",
       "      <td>169.0</td>\n",
       "      <td>Adventure,Drama,Sci-Fi</td>\n",
       "      <td>8.6</td>\n",
       "      <td>1299334.0</td>\n",
       "    </tr>\n",
       "    <tr>\n",
       "      <th>20342</th>\n",
       "      <td>tt1853728</td>\n",
       "      <td>Django Unchained</td>\n",
       "      <td>Django Unchained</td>\n",
       "      <td>2012</td>\n",
       "      <td>165.0</td>\n",
       "      <td>Drama,Western</td>\n",
       "      <td>8.4</td>\n",
       "      <td>1211405.0</td>\n",
       "    </tr>\n",
       "    <tr>\n",
       "      <th>356</th>\n",
       "      <td>tt0848228</td>\n",
       "      <td>The Avengers</td>\n",
       "      <td>The Avengers</td>\n",
       "      <td>2012</td>\n",
       "      <td>143.0</td>\n",
       "      <td>Action,Adventure,Sci-Fi</td>\n",
       "      <td>8.1</td>\n",
       "      <td>1183655.0</td>\n",
       "    </tr>\n",
       "  </tbody>\n",
       "</table>\n",
       "</div>"
      ],
      "text/plain": [
       "        movie_id          primary_title         original_title  start_year  \\\n",
       "7066   tt1375666              Inception              Inception        2010   \n",
       "6900   tt1345836  The Dark Knight Rises  The Dark Knight Rises        2012   \n",
       "311    tt0816692           Interstellar           Interstellar        2014   \n",
       "20342  tt1853728       Django Unchained       Django Unchained        2012   \n",
       "356    tt0848228           The Avengers           The Avengers        2012   \n",
       "\n",
       "       runtime_minutes                   genres  averagerating   numvotes  \n",
       "7066             148.0  Action,Adventure,Sci-Fi            8.8  1841066.0  \n",
       "6900             164.0          Action,Thriller            8.4  1387769.0  \n",
       "311              169.0   Adventure,Drama,Sci-Fi            8.6  1299334.0  \n",
       "20342            165.0            Drama,Western            8.4  1211405.0  \n",
       "356              143.0  Action,Adventure,Sci-Fi            8.1  1183655.0  "
      ]
     },
     "execution_count": 22,
     "metadata": {},
     "output_type": "execute_result"
    }
   ],
   "source": [
    "movies_ratings.head()"
   ]
  },
  {
   "cell_type": "markdown",
   "metadata": {},
   "source": [
    "Regarding the genres column:\n",
    "\n",
    "The genres column in the dataset consists of multiple genres separated by a comma. Therefore, it is necessary to split them up for ease of analysis.\n",
    "\n",
    "One way to separate the genres is by using the df.explode() method. However, to do this, it is first required to convert the value from a string to a list.\n"
   ]
  },
  {
   "cell_type": "code",
   "execution_count": 23,
   "metadata": {},
   "outputs": [],
   "source": [
    "# Creating a new dataframe\n",
    "\n",
    "clean_genres = movies_ratings.copy()"
   ]
  },
  {
   "cell_type": "code",
   "execution_count": 24,
   "metadata": {},
   "outputs": [],
   "source": [
    "# Changing each entry in 'genres' from a string into a list\n",
    "\n",
    "clean_genres['genres'] = clean_genres['genres'].str.split(',')"
   ]
  },
  {
   "cell_type": "code",
   "execution_count": 25,
   "metadata": {},
   "outputs": [
    {
     "data": {
      "text/html": [
       "<div>\n",
       "<style scoped>\n",
       "    .dataframe tbody tr th:only-of-type {\n",
       "        vertical-align: middle;\n",
       "    }\n",
       "\n",
       "    .dataframe tbody tr th {\n",
       "        vertical-align: top;\n",
       "    }\n",
       "\n",
       "    .dataframe thead th {\n",
       "        text-align: right;\n",
       "    }\n",
       "</style>\n",
       "<table border=\"1\" class=\"dataframe\">\n",
       "  <thead>\n",
       "    <tr style=\"text-align: right;\">\n",
       "      <th></th>\n",
       "      <th>movie_id</th>\n",
       "      <th>primary_title</th>\n",
       "      <th>original_title</th>\n",
       "      <th>start_year</th>\n",
       "      <th>runtime_minutes</th>\n",
       "      <th>genres</th>\n",
       "      <th>averagerating</th>\n",
       "      <th>numvotes</th>\n",
       "    </tr>\n",
       "  </thead>\n",
       "  <tbody>\n",
       "    <tr>\n",
       "      <th>7066</th>\n",
       "      <td>tt1375666</td>\n",
       "      <td>Inception</td>\n",
       "      <td>Inception</td>\n",
       "      <td>2010</td>\n",
       "      <td>148.0</td>\n",
       "      <td>[Action, Adventure, Sci-Fi]</td>\n",
       "      <td>8.8</td>\n",
       "      <td>1841066.0</td>\n",
       "    </tr>\n",
       "    <tr>\n",
       "      <th>6900</th>\n",
       "      <td>tt1345836</td>\n",
       "      <td>The Dark Knight Rises</td>\n",
       "      <td>The Dark Knight Rises</td>\n",
       "      <td>2012</td>\n",
       "      <td>164.0</td>\n",
       "      <td>[Action, Thriller]</td>\n",
       "      <td>8.4</td>\n",
       "      <td>1387769.0</td>\n",
       "    </tr>\n",
       "    <tr>\n",
       "      <th>311</th>\n",
       "      <td>tt0816692</td>\n",
       "      <td>Interstellar</td>\n",
       "      <td>Interstellar</td>\n",
       "      <td>2014</td>\n",
       "      <td>169.0</td>\n",
       "      <td>[Adventure, Drama, Sci-Fi]</td>\n",
       "      <td>8.6</td>\n",
       "      <td>1299334.0</td>\n",
       "    </tr>\n",
       "    <tr>\n",
       "      <th>20342</th>\n",
       "      <td>tt1853728</td>\n",
       "      <td>Django Unchained</td>\n",
       "      <td>Django Unchained</td>\n",
       "      <td>2012</td>\n",
       "      <td>165.0</td>\n",
       "      <td>[Drama, Western]</td>\n",
       "      <td>8.4</td>\n",
       "      <td>1211405.0</td>\n",
       "    </tr>\n",
       "    <tr>\n",
       "      <th>356</th>\n",
       "      <td>tt0848228</td>\n",
       "      <td>The Avengers</td>\n",
       "      <td>The Avengers</td>\n",
       "      <td>2012</td>\n",
       "      <td>143.0</td>\n",
       "      <td>[Action, Adventure, Sci-Fi]</td>\n",
       "      <td>8.1</td>\n",
       "      <td>1183655.0</td>\n",
       "    </tr>\n",
       "  </tbody>\n",
       "</table>\n",
       "</div>"
      ],
      "text/plain": [
       "        movie_id          primary_title         original_title  start_year  \\\n",
       "7066   tt1375666              Inception              Inception        2010   \n",
       "6900   tt1345836  The Dark Knight Rises  The Dark Knight Rises        2012   \n",
       "311    tt0816692           Interstellar           Interstellar        2014   \n",
       "20342  tt1853728       Django Unchained       Django Unchained        2012   \n",
       "356    tt0848228           The Avengers           The Avengers        2012   \n",
       "\n",
       "       runtime_minutes                       genres  averagerating   numvotes  \n",
       "7066             148.0  [Action, Adventure, Sci-Fi]            8.8  1841066.0  \n",
       "6900             164.0           [Action, Thriller]            8.4  1387769.0  \n",
       "311              169.0   [Adventure, Drama, Sci-Fi]            8.6  1299334.0  \n",
       "20342            165.0             [Drama, Western]            8.4  1211405.0  \n",
       "356              143.0  [Action, Adventure, Sci-Fi]            8.1  1183655.0  "
      ]
     },
     "execution_count": 25,
     "metadata": {},
     "output_type": "execute_result"
    }
   ],
   "source": [
    "clean_genres.head(5)"
   ]
  },
  {
   "cell_type": "code",
   "execution_count": 26,
   "metadata": {},
   "outputs": [],
   "source": [
    "# Creating a list of all unique genres, now that we can iterate through them.\n",
    "\n",
    "genres_all = set()\n",
    "genres_column = clean_genres['genres']\n",
    "\n",
    "for glist in genres_column:\n",
    "    for g in glist:\n",
    "        genres_all.add(g)\n",
    "        "
   ]
  },
  {
   "cell_type": "code",
   "execution_count": 27,
   "metadata": {},
   "outputs": [
    {
     "name": "stdout",
     "output_type": "stream",
     "text": [
      "There are 26 genres in our IMDb dataset. They are:\n",
      "\n",
      " {'Mystery', 'Musical', 'Fantasy', 'Short', 'Action', 'Family', 'Comedy', 'Animation', 'Western', 'Sci-Fi', 'Thriller', 'Sport', 'News', 'Crime', 'Romance', 'War', 'Adventure', 'Music', 'Documentary', 'Reality-TV', 'Horror', 'Biography', 'Adult', 'Game-Show', 'History', 'Drama'}.\n"
     ]
    }
   ],
   "source": [
    "print(f'There are {len(genres_all)} genres in our IMDb dataset. They are:\\n\\n {genres_all}.')"
   ]
  },
  {
   "cell_type": "markdown",
   "metadata": {},
   "source": [
    "**Creating a new dataset where the genres are separated**"
   ]
  },
  {
   "cell_type": "code",
   "execution_count": 28,
   "metadata": {},
   "outputs": [
    {
     "data": {
      "text/html": [
       "<div>\n",
       "<style scoped>\n",
       "    .dataframe tbody tr th:only-of-type {\n",
       "        vertical-align: middle;\n",
       "    }\n",
       "\n",
       "    .dataframe tbody tr th {\n",
       "        vertical-align: top;\n",
       "    }\n",
       "\n",
       "    .dataframe thead th {\n",
       "        text-align: right;\n",
       "    }\n",
       "</style>\n",
       "<table border=\"1\" class=\"dataframe\">\n",
       "  <thead>\n",
       "    <tr style=\"text-align: right;\">\n",
       "      <th></th>\n",
       "      <th>movie_id</th>\n",
       "      <th>primary_title</th>\n",
       "      <th>original_title</th>\n",
       "      <th>start_year</th>\n",
       "      <th>runtime_minutes</th>\n",
       "      <th>genres</th>\n",
       "      <th>averagerating</th>\n",
       "      <th>numvotes</th>\n",
       "    </tr>\n",
       "  </thead>\n",
       "  <tbody>\n",
       "    <tr>\n",
       "      <th>7066</th>\n",
       "      <td>tt1375666</td>\n",
       "      <td>Inception</td>\n",
       "      <td>Inception</td>\n",
       "      <td>2010</td>\n",
       "      <td>148.0</td>\n",
       "      <td>Action</td>\n",
       "      <td>8.8</td>\n",
       "      <td>1841066.0</td>\n",
       "    </tr>\n",
       "    <tr>\n",
       "      <th>7066</th>\n",
       "      <td>tt1375666</td>\n",
       "      <td>Inception</td>\n",
       "      <td>Inception</td>\n",
       "      <td>2010</td>\n",
       "      <td>148.0</td>\n",
       "      <td>Adventure</td>\n",
       "      <td>8.8</td>\n",
       "      <td>1841066.0</td>\n",
       "    </tr>\n",
       "    <tr>\n",
       "      <th>7066</th>\n",
       "      <td>tt1375666</td>\n",
       "      <td>Inception</td>\n",
       "      <td>Inception</td>\n",
       "      <td>2010</td>\n",
       "      <td>148.0</td>\n",
       "      <td>Sci-Fi</td>\n",
       "      <td>8.8</td>\n",
       "      <td>1841066.0</td>\n",
       "    </tr>\n",
       "    <tr>\n",
       "      <th>6900</th>\n",
       "      <td>tt1345836</td>\n",
       "      <td>The Dark Knight Rises</td>\n",
       "      <td>The Dark Knight Rises</td>\n",
       "      <td>2012</td>\n",
       "      <td>164.0</td>\n",
       "      <td>Action</td>\n",
       "      <td>8.4</td>\n",
       "      <td>1387769.0</td>\n",
       "    </tr>\n",
       "    <tr>\n",
       "      <th>6900</th>\n",
       "      <td>tt1345836</td>\n",
       "      <td>The Dark Knight Rises</td>\n",
       "      <td>The Dark Knight Rises</td>\n",
       "      <td>2012</td>\n",
       "      <td>164.0</td>\n",
       "      <td>Thriller</td>\n",
       "      <td>8.4</td>\n",
       "      <td>1387769.0</td>\n",
       "    </tr>\n",
       "  </tbody>\n",
       "</table>\n",
       "</div>"
      ],
      "text/plain": [
       "       movie_id          primary_title         original_title  start_year  \\\n",
       "7066  tt1375666              Inception              Inception        2010   \n",
       "7066  tt1375666              Inception              Inception        2010   \n",
       "7066  tt1375666              Inception              Inception        2010   \n",
       "6900  tt1345836  The Dark Knight Rises  The Dark Knight Rises        2012   \n",
       "6900  tt1345836  The Dark Knight Rises  The Dark Knight Rises        2012   \n",
       "\n",
       "      runtime_minutes     genres  averagerating   numvotes  \n",
       "7066            148.0     Action            8.8  1841066.0  \n",
       "7066            148.0  Adventure            8.8  1841066.0  \n",
       "7066            148.0     Sci-Fi            8.8  1841066.0  \n",
       "6900            164.0     Action            8.4  1387769.0  \n",
       "6900            164.0   Thriller            8.4  1387769.0  "
      ]
     },
     "execution_count": 28,
     "metadata": {},
     "output_type": "execute_result"
    }
   ],
   "source": [
    "# Using df.explode() to split each row so that it has a singular genre.\n",
    "\n",
    "expl_clean_genres = clean_genres.explode('genres')\n",
    "expl_clean_genres.head()\n"
   ]
  },
  {
   "cell_type": "code",
   "execution_count": 29,
   "metadata": {},
   "outputs": [
    {
     "data": {
      "text/plain": [
       "Drama          30784\n",
       "Documentary    17748\n",
       "Comedy         17289\n",
       "Thriller        8212\n",
       "Horror          7672\n",
       "Action          6986\n",
       "Romance         6586\n",
       "Crime           4610\n",
       "Adventure       3817\n",
       "Biography       3807\n",
       "Family          3411\n",
       "Mystery         3038\n",
       "History         2825\n",
       "Sci-Fi          2206\n",
       "Fantasy         2126\n",
       "Music           1967\n",
       "Animation       1742\n",
       "Sport           1179\n",
       "War              853\n",
       "Musical          721\n",
       "News             579\n",
       "Western          280\n",
       "Reality-TV        17\n",
       "Adult              3\n",
       "Game-Show          2\n",
       "Short              1\n",
       "Name: genres, dtype: int64"
      ]
     },
     "execution_count": 29,
     "metadata": {},
     "output_type": "execute_result"
    }
   ],
   "source": [
    "expl_clean_genres['genres'].value_counts()"
   ]
  },
  {
   "cell_type": "markdown",
   "metadata": {},
   "source": [
    "To ensure more accurate results when calculating the average numvotes and averagerating by genre, it is advisable to eliminate four genres that have low counts and are not considered traditional movie genres. These genres are Reality-TV, Adult, Game-Show, and Short."
   ]
  },
  {
   "cell_type": "code",
   "execution_count": 30,
   "metadata": {},
   "outputs": [],
   "source": [
    "# Gathering together the 'movie_id' for each entry in these four genres.\n",
    "\n",
    "titles_in_noisy_genres = (expl_clean_genres[expl_clean_genres['genres'].isin(['Game-Show', 'Short', 'Adult','Reality-TV'])]['movie_id'])"
   ]
  },
  {
   "cell_type": "code",
   "execution_count": 31,
   "metadata": {},
   "outputs": [],
   "source": [
    "\n",
    "#lets use df.drop() to get rid of the entries with the genres listed above\n",
    "# clean_genres.drop(index=clean_genres[clean_genres['movie_id'].isin(titles_in_noisy_genres)].index)\n",
    "\n",
    "for dataset in [clean_genres, expl_clean_genres, movies_ratings]:\n",
    "    dataset.drop(\n",
    "        index=dataset[\n",
    "            dataset['movie_id'].isin(titles_in_noisy_genres)\n",
    "        ].index, \n",
    "        inplace=True)"
   ]
  },
  {
   "cell_type": "code",
   "execution_count": 32,
   "metadata": {},
   "outputs": [
    {
     "data": {
      "text/plain": [
       "Drama          30779\n",
       "Documentary    17738\n",
       "Comedy         17285\n",
       "Thriller        8211\n",
       "Horror          7671\n",
       "Action          6984\n",
       "Romance         6586\n",
       "Crime           4610\n",
       "Adventure       3815\n",
       "Biography       3806\n",
       "Family          3411\n",
       "Mystery         3038\n",
       "History         2824\n",
       "Sci-Fi          2206\n",
       "Fantasy         2126\n",
       "Music           1966\n",
       "Animation       1742\n",
       "Sport           1179\n",
       "War              853\n",
       "Musical          721\n",
       "News             578\n",
       "Western          280\n",
       "Name: genres, dtype: int64"
      ]
     },
     "execution_count": 32,
     "metadata": {},
     "output_type": "execute_result"
    }
   ],
   "source": [
    "# Confirming that this worked\n",
    "expl_clean_genres['genres'].value_counts()"
   ]
  },
  {
   "cell_type": "markdown",
   "metadata": {},
   "source": [
    "**Assessing the Achievements**\n",
    "\n",
    "To gauge a movie's triumph, I intend to rely on its rating and the number of votes it has received. In the current era of streaming, these factors can serve as more reliable indicators of a movie's popularity than its box office returns.\n",
    "\n",
    "Additionally, I aim to investigate the correlation between a movie's vote count and its average rating. It's important to note that high vote count doesn't necessarily imply a positive reception, and therefore, I plan to analyze the distributions of both average rating and vote count."
   ]
  },
  {
   "cell_type": "code",
   "execution_count": 36,
   "metadata": {},
   "outputs": [
    {
     "data": {
      "text/plain": [
       "3564.0968895098"
      ]
     },
     "execution_count": 36,
     "metadata": {},
     "output_type": "execute_result"
    }
   ],
   "source": [
    "# exploring the distributions of averagerating and numvotes.\n",
    "mean_votes = movies_ratings['numvotes'].mean()\n",
    "mean_votes"
   ]
  },
  {
   "cell_type": "code",
   "execution_count": 38,
   "metadata": {},
   "outputs": [
    {
     "data": {
      "text/plain": [
       "51.0"
      ]
     },
     "execution_count": 38,
     "metadata": {},
     "output_type": "execute_result"
    }
   ],
   "source": [
    "median_votes = movies_ratings['numvotes'].median()\n",
    "median_votes"
   ]
  },
  {
   "cell_type": "code",
   "execution_count": 39,
   "metadata": {},
   "outputs": [
    {
     "data": {
      "text/plain": [
       "1621.0"
      ]
     },
     "execution_count": 39,
     "metadata": {},
     "output_type": "execute_result"
    }
   ],
   "source": [
    "q90_votes = movies_ratings['numvotes'].quantile(.90)\n",
    "q90_votes"
   ]
  },
  {
   "cell_type": "code",
   "execution_count": 40,
   "metadata": {},
   "outputs": [
    {
     "data": {
      "text/html": [
       "<div>\n",
       "<style scoped>\n",
       "    .dataframe tbody tr th:only-of-type {\n",
       "        vertical-align: middle;\n",
       "    }\n",
       "\n",
       "    .dataframe tbody tr th {\n",
       "        vertical-align: top;\n",
       "    }\n",
       "\n",
       "    .dataframe thead th {\n",
       "        text-align: right;\n",
       "    }\n",
       "</style>\n",
       "<table border=\"1\" class=\"dataframe\">\n",
       "  <thead>\n",
       "    <tr style=\"text-align: right;\">\n",
       "      <th></th>\n",
       "      <th>movie_id</th>\n",
       "      <th>primary_title</th>\n",
       "      <th>original_title</th>\n",
       "      <th>start_year</th>\n",
       "      <th>runtime_minutes</th>\n",
       "      <th>genres</th>\n",
       "      <th>averagerating</th>\n",
       "      <th>numvotes</th>\n",
       "    </tr>\n",
       "  </thead>\n",
       "  <tbody>\n",
       "    <tr>\n",
       "      <th>7154</th>\n",
       "      <td>tt1385633</td>\n",
       "      <td>The Runway</td>\n",
       "      <td>The Runway</td>\n",
       "      <td>2010</td>\n",
       "      <td>101.0</td>\n",
       "      <td>Comedy</td>\n",
       "      <td>6.6</td>\n",
       "      <td>555.0</td>\n",
       "    </tr>\n",
       "    <tr>\n",
       "      <th>5562</th>\n",
       "      <td>tt1095399</td>\n",
       "      <td>Love in Transit</td>\n",
       "      <td>Amor en tránsito</td>\n",
       "      <td>2010</td>\n",
       "      <td>95.0</td>\n",
       "      <td>Comedy</td>\n",
       "      <td>6.0</td>\n",
       "      <td>64.0</td>\n",
       "    </tr>\n",
       "    <tr>\n",
       "      <th>96587</th>\n",
       "      <td>tt5637348</td>\n",
       "      <td>Indonesia Kirana</td>\n",
       "      <td>Indonesia Kirana</td>\n",
       "      <td>2016</td>\n",
       "      <td>90.0</td>\n",
       "      <td>Documentary</td>\n",
       "      <td>9.4</td>\n",
       "      <td>70.0</td>\n",
       "    </tr>\n",
       "    <tr>\n",
       "      <th>22869</th>\n",
       "      <td>tt1935740</td>\n",
       "      <td>Autistic Driving School</td>\n",
       "      <td>Autistic Driving School</td>\n",
       "      <td>2010</td>\n",
       "      <td>NaN</td>\n",
       "      <td>Documentary</td>\n",
       "      <td>5.2</td>\n",
       "      <td>9.0</td>\n",
       "    </tr>\n",
       "    <tr>\n",
       "      <th>7498</th>\n",
       "      <td>tt1426748</td>\n",
       "      <td>Losers Take All</td>\n",
       "      <td>Losers Take All</td>\n",
       "      <td>2011</td>\n",
       "      <td>96.0</td>\n",
       "      <td>Comedy</td>\n",
       "      <td>6.5</td>\n",
       "      <td>318.0</td>\n",
       "    </tr>\n",
       "    <tr>\n",
       "      <th>56571</th>\n",
       "      <td>tt3307320</td>\n",
       "      <td>Woman of the Ruins</td>\n",
       "      <td>Woman of the Ruins</td>\n",
       "      <td>2013</td>\n",
       "      <td>105.0</td>\n",
       "      <td>Drama,History,Sci-Fi</td>\n",
       "      <td>6.4</td>\n",
       "      <td>5.0</td>\n",
       "    </tr>\n",
       "    <tr>\n",
       "      <th>34585</th>\n",
       "      <td>tt2279377</td>\n",
       "      <td>Veronika</td>\n",
       "      <td>Veronika</td>\n",
       "      <td>2011</td>\n",
       "      <td>7.0</td>\n",
       "      <td>Animation,Biography,Documentary</td>\n",
       "      <td>7.8</td>\n",
       "      <td>6.0</td>\n",
       "    </tr>\n",
       "    <tr>\n",
       "      <th>116688</th>\n",
       "      <td>tt6940692</td>\n",
       "      <td>Udhaharanam Sujatha</td>\n",
       "      <td>Udhaharanam Sujatha</td>\n",
       "      <td>2017</td>\n",
       "      <td>127.0</td>\n",
       "      <td>Drama,Family</td>\n",
       "      <td>7.3</td>\n",
       "      <td>370.0</td>\n",
       "    </tr>\n",
       "    <tr>\n",
       "      <th>6414</th>\n",
       "      <td>tt1294789</td>\n",
       "      <td>Doomsday County</td>\n",
       "      <td>Doomsday County</td>\n",
       "      <td>2010</td>\n",
       "      <td>82.0</td>\n",
       "      <td>Horror</td>\n",
       "      <td>4.2</td>\n",
       "      <td>57.0</td>\n",
       "    </tr>\n",
       "    <tr>\n",
       "      <th>113511</th>\n",
       "      <td>tt6686930</td>\n",
       "      <td>A Yangtze Landscape</td>\n",
       "      <td>A Yangtze Landscape</td>\n",
       "      <td>2017</td>\n",
       "      <td>156.0</td>\n",
       "      <td>Documentary</td>\n",
       "      <td>6.7</td>\n",
       "      <td>11.0</td>\n",
       "    </tr>\n",
       "  </tbody>\n",
       "</table>\n",
       "</div>"
      ],
      "text/plain": [
       "         movie_id            primary_title           original_title  \\\n",
       "7154    tt1385633               The Runway               The Runway   \n",
       "5562    tt1095399          Love in Transit         Amor en tránsito   \n",
       "96587   tt5637348         Indonesia Kirana         Indonesia Kirana   \n",
       "22869   tt1935740  Autistic Driving School  Autistic Driving School   \n",
       "7498    tt1426748          Losers Take All          Losers Take All   \n",
       "56571   tt3307320       Woman of the Ruins       Woman of the Ruins   \n",
       "34585   tt2279377                 Veronika                 Veronika   \n",
       "116688  tt6940692      Udhaharanam Sujatha      Udhaharanam Sujatha   \n",
       "6414    tt1294789          Doomsday County          Doomsday County   \n",
       "113511  tt6686930      A Yangtze Landscape      A Yangtze Landscape   \n",
       "\n",
       "        start_year  runtime_minutes                           genres  \\\n",
       "7154          2010            101.0                           Comedy   \n",
       "5562          2010             95.0                           Comedy   \n",
       "96587         2016             90.0                      Documentary   \n",
       "22869         2010              NaN                      Documentary   \n",
       "7498          2011             96.0                           Comedy   \n",
       "56571         2013            105.0             Drama,History,Sci-Fi   \n",
       "34585         2011              7.0  Animation,Biography,Documentary   \n",
       "116688        2017            127.0                     Drama,Family   \n",
       "6414          2010             82.0                           Horror   \n",
       "113511        2017            156.0                      Documentary   \n",
       "\n",
       "        averagerating  numvotes  \n",
       "7154              6.6     555.0  \n",
       "5562              6.0      64.0  \n",
       "96587             9.4      70.0  \n",
       "22869             5.2       9.0  \n",
       "7498              6.5     318.0  \n",
       "56571             6.4       5.0  \n",
       "34585             7.8       6.0  \n",
       "116688            7.3     370.0  \n",
       "6414              4.2      57.0  \n",
       "113511            6.7      11.0  "
      ]
     },
     "execution_count": 40,
     "metadata": {},
     "output_type": "execute_result"
    }
   ],
   "source": [
    "# Taking a look at the bottom 90 percent of movies in terms of number of votes\n",
    " \n",
    "movies_ratings.query(f\"numvotes < {q90_votes}\").sample(10)"
   ]
  },
  {
   "attachments": {},
   "cell_type": "markdown",
   "metadata": {},
   "source": [
    "In the film industry, a vast amount of content is produced, but only a few become popular among viewers. Therefore, to ensure our analysis focuses on the most well-known movies, we will filter out less popular titles. This is especially important for a client such as Microsoft, whom would prefer to base their movie business on titles with broad appeal or at least high recognition.\n",
    "\n",
    "To achieve this, we will exclude all movies from our datasets, except those with a vote count that falls within the top 10 percent."
   ]
  },
  {
   "cell_type": "code",
   "execution_count": 41,
   "metadata": {},
   "outputs": [],
   "source": [
    "# lets drop these titles from our dataset\n",
    "for dataset in [\n",
    "    clean_genres, \n",
    "    expl_clean_genres,\n",
    "    movies_ratings\n",
    "]:\n",
    "    dataset.drop(\n",
    "        index=dataset.query(f\"numvotes < {q90_votes}\").index, \n",
    "        inplace=True\n",
    "    )"
   ]
  },
  {
   "cell_type": "code",
   "execution_count": 43,
   "metadata": {},
   "outputs": [
    {
     "data": {
      "text/plain": [
       "(7304, 8)"
      ]
     },
     "execution_count": 43,
     "metadata": {},
     "output_type": "execute_result"
    }
   ],
   "source": [
    "movies_ratings.shape"
   ]
  },
  {
   "attachments": {},
   "cell_type": "markdown",
   "metadata": {},
   "source": [
    "Let's explore the correlation between the number of votes and ratings for movies."
   ]
  },
  {
   "cell_type": "code",
   "execution_count": 44,
   "metadata": {},
   "outputs": [
    {
     "name": "stdout",
     "output_type": "stream",
     "text": [
      "Correlation between number of votes and average rating: 0.21260637339137484\n"
     ]
    }
   ],
   "source": [
    "# Checking the correlation coefficient of average rating and number of votes\n",
    "print('Correlation between number of votes and average rating: {}'.format(np.corrcoef(movies_ratings['numvotes'],movies_ratings['averagerating'])[0,1]))\n"
   ]
  },
  {
   "cell_type": "code",
   "execution_count": 46,
   "metadata": {},
   "outputs": [
    {
     "data": {
      "image/png": "[encoded data removed]",
      "text/plain": [
       "<Figure size 500x300 with 1 Axes>"
      ]
     },
     "metadata": {},
     "output_type": "display_data"
    }
   ],
   "source": [
    "# Plotting the relationship between average rating and number of votes\n",
    "\n",
    "fig, ax = plt.subplots(figsize=(5,3))\n",
    "\n",
    "ax.scatter(\n",
    "    x=movies_ratings['averagerating'],\n",
    "    y=movies_ratings['numvotes'],\n",
    ")\n",
    "\n",
    "ax.set_xlabel('Average Rating')\n",
    "ax.set_ylabel('Number of Votes (millions)')\n",
    "plt.suptitle('Relationship between average movie rating and number of votes')\n",
    "\n",
    "plt.savefig('./images/scatter-votes-rating.png', dpi=150);\n",
    "\n"
   ]
  },
  {
   "attachments": {},
   "cell_type": "markdown",
   "metadata": {},
   "source": [
    "The data suggests a positive correlation between the number of votes and the average rating. This indicates that a higher number of votes could mean a larger audience for the movie, regardless of the actual rating they gave. Based on this, it can be inferred that Microsoft would want to produce movies that are more likely to be seen by a wider audience, regardless of critical acclaim.\n",
    "\n",
    "Therefore, we will consider the number of votes as our measure of success. Additionally, since the data distributions are skewed, we will use the median to represent the average rating. This approach will help ensure that our results are not skewed by any outliers."
   ]
  },
  {
   "attachments": {},
   "cell_type": "markdown",
   "metadata": {},
   "source": [
    "\n",
    "Question 1:\n",
    "What are the top 5 genres Microsoft should focus on?\n",
    "\n",
    "Grouping movies by genre tosee the medians of numvotes for each genre"
   ]
  },
  {
   "cell_type": "code",
   "execution_count": 47,
   "metadata": {},
   "outputs": [
    {
     "data": {
      "text/html": [
       "<div>\n",
       "<style scoped>\n",
       "    .dataframe tbody tr th:only-of-type {\n",
       "        vertical-align: middle;\n",
       "    }\n",
       "\n",
       "    .dataframe tbody tr th {\n",
       "        vertical-align: top;\n",
       "    }\n",
       "\n",
       "    .dataframe thead th {\n",
       "        text-align: right;\n",
       "    }\n",
       "</style>\n",
       "<table border=\"1\" class=\"dataframe\">\n",
       "  <thead>\n",
       "    <tr style=\"text-align: right;\">\n",
       "      <th></th>\n",
       "      <th>genres</th>\n",
       "      <th>numvotes</th>\n",
       "    </tr>\n",
       "  </thead>\n",
       "  <tbody>\n",
       "    <tr>\n",
       "      <th>0</th>\n",
       "      <td>Adventure</td>\n",
       "      <td>16484.0</td>\n",
       "    </tr>\n",
       "    <tr>\n",
       "      <th>1</th>\n",
       "      <td>Fantasy</td>\n",
       "      <td>10546.0</td>\n",
       "    </tr>\n",
       "    <tr>\n",
       "      <th>2</th>\n",
       "      <td>Sci-Fi</td>\n",
       "      <td>10067.0</td>\n",
       "    </tr>\n",
       "    <tr>\n",
       "      <th>3</th>\n",
       "      <td>Animation</td>\n",
       "      <td>9354.0</td>\n",
       "    </tr>\n",
       "    <tr>\n",
       "      <th>4</th>\n",
       "      <td>Mystery</td>\n",
       "      <td>8494.0</td>\n",
       "    </tr>\n",
       "    <tr>\n",
       "      <th>5</th>\n",
       "      <td>Western</td>\n",
       "      <td>8284.5</td>\n",
       "    </tr>\n",
       "    <tr>\n",
       "      <th>6</th>\n",
       "      <td>Action</td>\n",
       "      <td>7543.5</td>\n",
       "    </tr>\n",
       "    <tr>\n",
       "      <th>7</th>\n",
       "      <td>Crime</td>\n",
       "      <td>7414.0</td>\n",
       "    </tr>\n",
       "    <tr>\n",
       "      <th>8</th>\n",
       "      <td>Biography</td>\n",
       "      <td>6560.0</td>\n",
       "    </tr>\n",
       "    <tr>\n",
       "      <th>9</th>\n",
       "      <td>Romance</td>\n",
       "      <td>6540.5</td>\n",
       "    </tr>\n",
       "    <tr>\n",
       "      <th>10</th>\n",
       "      <td>Family</td>\n",
       "      <td>6322.0</td>\n",
       "    </tr>\n",
       "    <tr>\n",
       "      <th>11</th>\n",
       "      <td>Comedy</td>\n",
       "      <td>6293.0</td>\n",
       "    </tr>\n",
       "    <tr>\n",
       "      <th>12</th>\n",
       "      <td>Drama</td>\n",
       "      <td>6081.5</td>\n",
       "    </tr>\n",
       "    <tr>\n",
       "      <th>13</th>\n",
       "      <td>Thriller</td>\n",
       "      <td>5920.5</td>\n",
       "    </tr>\n",
       "    <tr>\n",
       "      <th>14</th>\n",
       "      <td>Music</td>\n",
       "      <td>5695.0</td>\n",
       "    </tr>\n",
       "    <tr>\n",
       "      <th>15</th>\n",
       "      <td>History</td>\n",
       "      <td>5536.0</td>\n",
       "    </tr>\n",
       "    <tr>\n",
       "      <th>16</th>\n",
       "      <td>Horror</td>\n",
       "      <td>5415.0</td>\n",
       "    </tr>\n",
       "    <tr>\n",
       "      <th>17</th>\n",
       "      <td>War</td>\n",
       "      <td>5347.5</td>\n",
       "    </tr>\n",
       "    <tr>\n",
       "      <th>18</th>\n",
       "      <td>Musical</td>\n",
       "      <td>4583.0</td>\n",
       "    </tr>\n",
       "    <tr>\n",
       "      <th>19</th>\n",
       "      <td>Sport</td>\n",
       "      <td>4454.0</td>\n",
       "    </tr>\n",
       "    <tr>\n",
       "      <th>20</th>\n",
       "      <td>News</td>\n",
       "      <td>3477.0</td>\n",
       "    </tr>\n",
       "    <tr>\n",
       "      <th>21</th>\n",
       "      <td>Documentary</td>\n",
       "      <td>3442.0</td>\n",
       "    </tr>\n",
       "  </tbody>\n",
       "</table>\n",
       "</div>"
      ],
      "text/plain": [
       "         genres  numvotes\n",
       "0     Adventure   16484.0\n",
       "1       Fantasy   10546.0\n",
       "2        Sci-Fi   10067.0\n",
       "3     Animation    9354.0\n",
       "4       Mystery    8494.0\n",
       "5       Western    8284.5\n",
       "6        Action    7543.5\n",
       "7         Crime    7414.0\n",
       "8     Biography    6560.0\n",
       "9       Romance    6540.5\n",
       "10       Family    6322.0\n",
       "11       Comedy    6293.0\n",
       "12        Drama    6081.5\n",
       "13     Thriller    5920.5\n",
       "14        Music    5695.0\n",
       "15      History    5536.0\n",
       "16       Horror    5415.0\n",
       "17          War    5347.5\n",
       "18      Musical    4583.0\n",
       "19        Sport    4454.0\n",
       "20         News    3477.0\n",
       "21  Documentary    3442.0"
      ]
     },
     "execution_count": 47,
     "metadata": {},
     "output_type": "execute_result"
    }
   ],
   "source": [
    "# Pivot table showing the average of numvotes by genre.\n",
    "\n",
    "pivot_genres = pd.pivot_table(\n",
    "    data=expl_clean_genres,\n",
    "    values=['numvotes'],\n",
    "    index='genres',\n",
    "    aggfunc=np.median\n",
    ").sort_values(by='numvotes', ascending=False).reset_index()\n",
    "\n",
    "pivot_genres"
   ]
  },
  {
   "cell_type": "code",
   "execution_count": 48,
   "metadata": {},
   "outputs": [
    {
     "data": {
      "image/png": "[encoded data removed]",
      "text/plain": [
       "<Figure size 800x550 with 1 Axes>"
      ]
     },
     "metadata": {},
     "output_type": "display_data"
    }
   ],
   "source": [
    "#analyze which genres are most successful.\n",
    "\n",
    "values = pivot_genres['numvotes']\n",
    "labels = pivot_genres['genres']\n",
    "\n",
    "genres_barplot = sns.barplot(\n",
    "    x=values,\n",
    "    y=labels,\n",
    "    orient='h',\n",
    "#     palette='crest_r'\n",
    "    palette=['#000099' if (x > values[10]) else '#3333ff' for x in values]\n",
    "    )\n",
    "\n",
    "genres_barplot.set(\n",
    "    xlabel='Average number of votes on IMDb',\n",
    "    ylabel='Genre',\n",
    "    title ='Average vote count on movies by genre \\n (Top 5% of movies)'\n",
    "    );\n",
    "\n",
    "plt.savefig('./images/top_genres', dpi=150)"
   ]
  },
  {
   "cell_type": "code",
   "execution_count": 51,
   "metadata": {},
   "outputs": [
    {
     "name": "stdout",
     "output_type": "stream",
     "text": [
      "The top 5 genres in terms of average number of votes on IMDb are:\n",
      "Adventure\n",
      "Fantasy\n",
      "Sci-Fi\n",
      "Animation\n",
      "Mystery\n"
     ]
    }
   ],
   "source": [
    "print('The top 5 genres in terms of average number of votes on IMDb are:')\n",
    "for g in pivot_genres.iloc[:5]['genres']:\n",
    "    print(g)\n",
    "\n"
   ]
  },
  {
   "attachments": {},
   "cell_type": "markdown",
   "metadata": {},
   "source": [
    "In conclusion, it's advisable for Microsoft to concentrate on producing movies that encompass a blend of these genres:\n",
    "-Adventure\n",
    "-Fantasy\n",
    "-Sci-Fi\n",
    "-Animation\n",
    "-Mystery\n",
    "However it is worth noting that a movie belonging to multiple genres, such as a sci-fi comedy, may also perform well on IMDb.\n"
   ]
  },
  {
   "attachments": {},
   "cell_type": "markdown",
   "metadata": {},
   "source": [
    "\n",
    "\\Although comedy didn't make it to the list of top-performing genres based on our statistical analysis, it's still worth exploring the characteristics of successful comedies.\n",
    "\n",
    "Since our dataset is now limited to the top 10% of movies, let's examine how many of them fall under the comedy genre. Moving forward, we will be using our clean_genres dataset."
   ]
  },
  {
   "cell_type": "code",
   "execution_count": null,
   "metadata": {},
   "outputs": [],
   "source": []
  },
  {
   "cell_type": "code",
   "execution_count": null,
   "metadata": {},
   "outputs": [],
   "source": []
  },
  {
   "cell_type": "markdown",
   "metadata": {},
   "source": [
    "## Data Modeling\n",
    "Describe and justify the process for analyzing or modeling the data.\n",
    "\n",
    "***\n",
    "Questions to consider:\n",
    "* How did you analyze or model the data?\n",
    "* How did you iterate on your initial approach to make it better?\n",
    "* Why are these choices appropriate given the data and the business problem?\n",
    "***"
   ]
  },
  {
   "cell_type": "code",
   "execution_count": null,
   "metadata": {},
   "outputs": [],
   "source": [
    "# Here you run your code to model the data\n"
   ]
  },
  {
   "cell_type": "markdown",
   "metadata": {},
   "source": [
    "## Evaluation\n",
    "Evaluate how well your work solves the stated business problem.\n",
    "\n",
    "***\n",
    "Questions to consider:\n",
    "* How do you interpret the results?\n",
    "* How well does your model fit your data? How much better is this than your baseline model?\n",
    "* How confident are you that your results would generalize beyond the data you have?\n",
    "* How confident are you that this model would benefit the business if put into use?\n",
    "***"
   ]
  },
  {
   "cell_type": "markdown",
   "metadata": {},
   "source": [
    "## Conclusions\n",
    "Provide your conclusions about the work you've done, including any limitations or next steps.\n",
    "\n",
    "***\n",
    "Questions to consider:\n",
    "* What would you recommend the business do as a result of this work?\n",
    "* What are some reasons why your analysis might not fully solve the business problem?\n",
    "* What else could you do in the future to improve this project?\n",
    "***"
   ]
  }
 ],
 "metadata": {
  "kernelspec": {
   "display_name": "Python 3 (ipykernel)",
   "language": "python",
   "name": "python3"
  },
  "language_info": {
   "codemirror_mode": {
    "name": "ipython",
    "version": 3
   },
   "file_extension": ".py",
   "mimetype": "text/x-python",
   "name": "python",
   "nbconvert_exporter": "python",
   "pygments_lexer": "ipython3",
   "version": "3.8.5"
  }
 },
 "nbformat": 4,
 "nbformat_minor": 4
}
