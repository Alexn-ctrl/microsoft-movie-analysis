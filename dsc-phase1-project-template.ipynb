{
 "cells": [
  {
   "cell_type": "markdown",
   "metadata": {},
   "source": [
    "![example](images/director_shot.jpeg)"
   ]
  },
  {
   "cell_type": "markdown",
   "metadata": {},
   "source": [
    "# IMDB Project Phase 1\n",
    "\n",
    "**Authors:** Brett Zimmerman, Sanjit Varma, Douglas Lu, Tony Bai\n",
    "***"
   ]
  },
  {
   "cell_type": "markdown",
   "metadata": {},
   "source": [
    "## Overview\n",
    "\n",
    "Microsoft is attempting to break into original content film making by creating a new movie studio. Using data from online movie resource websites such as Rotten Tomatoes and IMDB, our group cross analyzed Revenue agasint, release month, genre and ----. Through this analysis we are able to recommend "
   ]
  },
  {
   "cell_type": "markdown",
   "metadata": {},
   "source": [
    "## Business Problem\n",
    "\n",
    "Summary of the business problem you are trying to solve, and the data questions that you plan to answer to solve them.\n",
    "\n",
    "***\n",
    "Questions to consider:\n",
    "* What are the business's pain points related to this project?\n",
    "* How did you pick the data analysis question(s) that you did?\n",
    "* Why are these questions important from a business perspective?\n",
    "***"
   ]
  },
  {
   "cell_type": "markdown",
   "metadata": {},
   "source": [
    "## Data Understanding\n",
    "\n",
    "Describe the data being used for this project.\n",
    "***\n",
    "Questions to consider:\n",
    "* Where did the data come from, and how do they relate to the data analysis questions?\n",
    "* What do the data represent? Who is in the sample and what variables are included?\n",
    "* What is the target variable?\n",
    "* What are the properties of the variables you intend to use?\n",
    "***"
   ]
  },
  {
   "cell_type": "code",
   "execution_count": 2,
   "metadata": {},
   "outputs": [],
   "source": [
    "# Import standard packages\n",
    "import pandas as pd\n",
    "import numpy as np\n",
    "import matplotlib.pyplot as plt\n",
    "import seaborn as sns\n",
    "import zipfile\n",
    "\n",
    "%matplotlib inline"
   ]
  },
  {
   "cell_type": "code",
   "execution_count": 42,
   "metadata": {},
   "outputs": [],
   "source": [
    "# Here you run your code to explore the data\n",
    "dfbom = pd.read_csv('data/zippeddata/bom.movie_gross.csv')\n",
    "\n",
    "\n",
    "df_imdb_name = pd.read_csv('data/zippeddata/imdb.name.basics.csv')\n",
    "\n",
    "\n",
    "df_imdb_titleb = pd.read_csv('data/zippeddata/imdb.title.basics.csv')\n",
    "\n",
    "\n",
    "# df = pd.read_csv('data/zippeddata/bom.movie_gross.csv')\n",
    "# df.info()\n",
    "# df.head()\n",
    "\n",
    "df_imdb_title = pd.read_csv('data/zippeddata/imdb.title.crew.csv')\n",
    "\n",
    "\n",
    "df_imdb_principals = pd.read_csv('data/zippeddata/imdb.title.principals.csv')\n",
    "\n",
    "df_imdb_ratings = pd.read_csv('data/zippeddata/imdb.title.ratings.csv')\n",
    "\n",
    "tsv_file='data/zippeddata/rt.movie_info.tsv'\n",
    "csv_table=pd.read_table(tsv_file,sep='\\t')\n",
    "csv_table.to_csv('rt.movie_info.csv',index=False)\n",
    "\n",
    "\n",
    "tsv_file='data/zippeddata/rt.reviews.tsv'\n",
    "csv_table=pd.read_table(tsv_file,sep='\\t')\n",
    "csv_table.to_csv('rt.reviews.csv',index=False)\n",
    "\n",
    "\n",
    "df_tmdb_movies = pd.read_csv('data/zippeddata/tmdb.movies.csv')\n",
    "\n",
    "\n",
    "df_budget = pd.read_csv('data/zippeddata/tn.movie_budgets.csv')\n",
    "\n",
    "\n",
    "\n"
   ]
  },
  {
   "cell_type": "code",
   "execution_count": 43,
   "metadata": {},
   "outputs": [],
   "source": [
    "\n"
   ]
  },
  {
   "cell_type": "code",
   "execution_count": null,
   "metadata": {},
   "outputs": [],
   "source": []
  },
  {
   "cell_type": "markdown",
   "metadata": {},
   "source": [
    "## Data Preparation\n",
    "\n",
    "Describe and justify the process for preparing the data for analysis.\n",
    "\n",
    "***\n",
    "Questions to consider:\n",
    "* Were there variables you dropped or created?\n",
    "* How did you address missing values or outliers?\n",
    "* Why are these choices appropriate given the data and the business problem?\n",
    "***"
   ]
  },
  {
   "cell_type": "code",
   "execution_count": 200,
   "metadata": {},
   "outputs": [
    {
     "data": {
      "text/html": [
       "<div>\n",
       "<style scoped>\n",
       "    .dataframe tbody tr th:only-of-type {\n",
       "        vertical-align: middle;\n",
       "    }\n",
       "\n",
       "    .dataframe tbody tr th {\n",
       "        vertical-align: top;\n",
       "    }\n",
       "\n",
       "    .dataframe thead th {\n",
       "        text-align: right;\n",
       "    }\n",
       "</style>\n",
       "<table border=\"1\" class=\"dataframe\">\n",
       "  <thead>\n",
       "    <tr style=\"text-align: right;\">\n",
       "      <th></th>\n",
       "      <th>release_date_x</th>\n",
       "      <th>domestic_gross_x</th>\n",
       "      <th>worldwide_gross_x</th>\n",
       "      <th>profit_x</th>\n",
       "      <th>fin_success_x</th>\n",
       "      <th>movie_y</th>\n",
       "      <th>runtime_minutes</th>\n",
       "      <th>genres</th>\n",
       "      <th>release_month</th>\n",
       "    </tr>\n",
       "  </thead>\n",
       "  <tbody>\n",
       "    <tr>\n",
       "      <th>0</th>\n",
       "      <td>Dec 18, 2009</td>\n",
       "      <td>760507625.0</td>\n",
       "      <td>2.776345e+09</td>\n",
       "      <td>2.351345e+09</td>\n",
       "      <td>True</td>\n",
       "      <td>Avatar</td>\n",
       "      <td>93.0</td>\n",
       "      <td>Horror</td>\n",
       "      <td>Dec</td>\n",
       "    </tr>\n",
       "    <tr>\n",
       "      <th>1</th>\n",
       "      <td>May 20, 2011</td>\n",
       "      <td>241063875.0</td>\n",
       "      <td>1.045664e+09</td>\n",
       "      <td>6.350639e+08</td>\n",
       "      <td>True</td>\n",
       "      <td>Pirates of the Caribbean: On Stranger Tides</td>\n",
       "      <td>136.0</td>\n",
       "      <td>Action</td>\n",
       "      <td>May</td>\n",
       "    </tr>\n",
       "    <tr>\n",
       "      <th>2</th>\n",
       "      <td>May 20, 2011</td>\n",
       "      <td>241063875.0</td>\n",
       "      <td>1.045664e+09</td>\n",
       "      <td>6.350639e+08</td>\n",
       "      <td>True</td>\n",
       "      <td>Pirates of the Caribbean: On Stranger Tides</td>\n",
       "      <td>136.0</td>\n",
       "      <td>Adventure</td>\n",
       "      <td>Jun</td>\n",
       "    </tr>\n",
       "    <tr>\n",
       "      <th>3</th>\n",
       "      <td>May 20, 2011</td>\n",
       "      <td>241063875.0</td>\n",
       "      <td>1.045664e+09</td>\n",
       "      <td>6.350639e+08</td>\n",
       "      <td>True</td>\n",
       "      <td>Pirates of the Caribbean: On Stranger Tides</td>\n",
       "      <td>136.0</td>\n",
       "      <td>Fantasy</td>\n",
       "      <td>May</td>\n",
       "    </tr>\n",
       "    <tr>\n",
       "      <th>4</th>\n",
       "      <td>Jun 7, 2019</td>\n",
       "      <td>42762350.0</td>\n",
       "      <td>1.497624e+08</td>\n",
       "      <td>-2.002376e+08</td>\n",
       "      <td>False</td>\n",
       "      <td>Dark Phoenix</td>\n",
       "      <td>113.0</td>\n",
       "      <td>Action</td>\n",
       "      <td>Apr</td>\n",
       "    </tr>\n",
       "    <tr>\n",
       "      <th>...</th>\n",
       "      <td>...</td>\n",
       "      <td>...</td>\n",
       "      <td>...</td>\n",
       "      <td>...</td>\n",
       "      <td>...</td>\n",
       "      <td>...</td>\n",
       "      <td>...</td>\n",
       "      <td>...</td>\n",
       "      <td>...</td>\n",
       "    </tr>\n",
       "    <tr>\n",
       "      <th>8745</th>\n",
       "      <td>Dec 31, 2018</td>\n",
       "      <td>0.0</td>\n",
       "      <td>0.000000e+00</td>\n",
       "      <td>-7.000000e+03</td>\n",
       "      <td>False</td>\n",
       "      <td>Red 11</td>\n",
       "      <td>77.0</td>\n",
       "      <td>Sci-Fi</td>\n",
       "      <td>NaN</td>\n",
       "    </tr>\n",
       "    <tr>\n",
       "      <th>8746</th>\n",
       "      <td>Dec 31, 2018</td>\n",
       "      <td>0.0</td>\n",
       "      <td>0.000000e+00</td>\n",
       "      <td>-7.000000e+03</td>\n",
       "      <td>False</td>\n",
       "      <td>Red 11</td>\n",
       "      <td>77.0</td>\n",
       "      <td>Thriller</td>\n",
       "      <td>NaN</td>\n",
       "    </tr>\n",
       "    <tr>\n",
       "      <th>8747</th>\n",
       "      <td>Sep 29, 2015</td>\n",
       "      <td>0.0</td>\n",
       "      <td>0.000000e+00</td>\n",
       "      <td>-1.400000e+03</td>\n",
       "      <td>False</td>\n",
       "      <td>A Plague So Pleasant</td>\n",
       "      <td>76.0</td>\n",
       "      <td>Drama</td>\n",
       "      <td>NaN</td>\n",
       "    </tr>\n",
       "    <tr>\n",
       "      <th>8748</th>\n",
       "      <td>Sep 29, 2015</td>\n",
       "      <td>0.0</td>\n",
       "      <td>0.000000e+00</td>\n",
       "      <td>-1.400000e+03</td>\n",
       "      <td>False</td>\n",
       "      <td>A Plague So Pleasant</td>\n",
       "      <td>76.0</td>\n",
       "      <td>Horror</td>\n",
       "      <td>NaN</td>\n",
       "    </tr>\n",
       "    <tr>\n",
       "      <th>8749</th>\n",
       "      <td>Sep 29, 2015</td>\n",
       "      <td>0.0</td>\n",
       "      <td>0.000000e+00</td>\n",
       "      <td>-1.400000e+03</td>\n",
       "      <td>False</td>\n",
       "      <td>A Plague So Pleasant</td>\n",
       "      <td>76.0</td>\n",
       "      <td>Thriller</td>\n",
       "      <td>NaN</td>\n",
       "    </tr>\n",
       "  </tbody>\n",
       "</table>\n",
       "<p>8750 rows × 9 columns</p>\n",
       "</div>"
      ],
      "text/plain": [
       "     release_date_x  domestic_gross_x  worldwide_gross_x      profit_x  \\\n",
       "0      Dec 18, 2009       760507625.0       2.776345e+09  2.351345e+09   \n",
       "1      May 20, 2011       241063875.0       1.045664e+09  6.350639e+08   \n",
       "2      May 20, 2011       241063875.0       1.045664e+09  6.350639e+08   \n",
       "3      May 20, 2011       241063875.0       1.045664e+09  6.350639e+08   \n",
       "4       Jun 7, 2019        42762350.0       1.497624e+08 -2.002376e+08   \n",
       "...             ...               ...                ...           ...   \n",
       "8745   Dec 31, 2018               0.0       0.000000e+00 -7.000000e+03   \n",
       "8746   Dec 31, 2018               0.0       0.000000e+00 -7.000000e+03   \n",
       "8747   Sep 29, 2015               0.0       0.000000e+00 -1.400000e+03   \n",
       "8748   Sep 29, 2015               0.0       0.000000e+00 -1.400000e+03   \n",
       "8749   Sep 29, 2015               0.0       0.000000e+00 -1.400000e+03   \n",
       "\n",
       "      fin_success_x                                      movie_y  \\\n",
       "0              True                                       Avatar   \n",
       "1              True  Pirates of the Caribbean: On Stranger Tides   \n",
       "2              True  Pirates of the Caribbean: On Stranger Tides   \n",
       "3              True  Pirates of the Caribbean: On Stranger Tides   \n",
       "4             False                                 Dark Phoenix   \n",
       "...             ...                                          ...   \n",
       "8745          False                                       Red 11   \n",
       "8746          False                                       Red 11   \n",
       "8747          False                         A Plague So Pleasant   \n",
       "8748          False                         A Plague So Pleasant   \n",
       "8749          False                         A Plague So Pleasant   \n",
       "\n",
       "      runtime_minutes     genres release_month  \n",
       "0                93.0     Horror           Dec  \n",
       "1               136.0     Action           May  \n",
       "2               136.0  Adventure           Jun  \n",
       "3               136.0    Fantasy           May  \n",
       "4               113.0     Action           Apr  \n",
       "...               ...        ...           ...  \n",
       "8745             77.0     Sci-Fi           NaN  \n",
       "8746             77.0   Thriller           NaN  \n",
       "8747             76.0      Drama           NaN  \n",
       "8748             76.0     Horror           NaN  \n",
       "8749             76.0   Thriller           NaN  \n",
       "\n",
       "[8750 rows x 9 columns]"
      ]
     },
     "execution_count": 200,
     "metadata": {},
     "output_type": "execute_result"
    }
   ],
   "source": [
    "\n",
    "# cleaned the tdmb Budget data set\n",
    "# converted the last 3 col to float and removed the $\n",
    "\n",
    "df_budget[df_budget.columns[3:6]] = df_budget[df_budget.columns[3:6]].replace('[\\$,]', '', regex=True).astype(float)\n",
    "\n",
    "# created another row to determine wether the film grossed a profit\n",
    "df_budget['profit'] = df_budget['worldwide_gross']- df_budget['production_budget']\n",
    "\n",
    "# created a row of booleans returning True if profit exceeds 0\n",
    "df_budget['fin_success'] =  (df_budget['profit'] > 0 )\n",
    "\n",
    "df_budget.head()\n",
    "df_budget['fin_success'].value_counts() # 3657 made money, 2125 lost money\n",
    "df_budget['fin_success'].describe()     \n",
    "\n",
    "df_imdb_comb = pd.merge(df_imdb_titleb,df_imdb_ratings,on='tconst')\n",
    "\n",
    "\n",
    "#combined data frame from budget and imdb title \n",
    "df_budget_genre = df_budget.merge(df_imdb_titleb, left_on='movie', right_on='primary_title') \n",
    "\n",
    "#clean the genres into rows so they can be categorized\n",
    "df_budget_genre['genres'] = df_budget_genre['genres'].str.strip().str.split(',')\n",
    "single_genre = df_budget_genre.explode('genres')\n",
    "\n",
    "\n",
    "\n",
    "budget_genre= df_budget.merge(single_genre, left_on='movie', right_on='primary_title')\n",
    "\n",
    "budget_genre.drop(columns=['id_x','movie_x', 'production_budget_x', 'id_y', 'release_date_y', \n",
    "                           'production_budget_y', 'domestic_gross_y', 'worldwide_gross_y', \n",
    "                           'profit_y', 'fin_success_y', 'tconst','primary_title', \n",
    "                           'original_title', 'start_year' ], inplace = True )\n",
    "\n",
    "\n",
    "budget_genre['release_month'] = df_budget_genre['release_date'].map(lambda x : x[:3])\n",
    "\n",
    "budget_genre"
   ]
  },
  {
   "cell_type": "code",
   "execution_count": 217,
   "metadata": {},
   "outputs": [
    {
     "name": "stderr",
     "output_type": "stream",
     "text": [
      "<ipython-input-217-ad6a43b0e592>:10: SettingWithCopyWarning: \n",
      "A value is trying to be set on a copy of a slice from a DataFrame.\n",
      "Try using .loc[row_indexer,col_indexer] = value instead\n",
      "\n",
      "See the caveats in the documentation: https://pandas.pydata.org/pandas-docs/stable/user_guide/indexing.html#returning-a-view-versus-a-copy\n",
      "  df_film_length['length'] = df_film_length['runtime_minutes'].map(lambda x :\n"
     ]
    },
    {
     "data": {
      "text/plain": [
       "{'long': 493, 'medium': 5412, 'short': 1433}"
      ]
     },
     "execution_count": 217,
     "metadata": {},
     "output_type": "execute_result"
    }
   ],
   "source": [
    "# analysis of run time vs success rate\n",
    "\n",
    "budget_genre['runtime_minutes'].describe()\n",
    "\n",
    "df_film_length = budget_genre[budget_genre['runtime_minutes'] > 60]\n",
    "\n",
    "df_film_length.describe()\n",
    "\n",
    "\n",
    "df_film_length['length'] = df_film_length['runtime_minutes'].map(lambda x : \n",
    "                                                                 'short' if x < 90 \n",
    "                                                                 else('medium' if x < 135 else 'long'))\n",
    "\n",
    "\n",
    "length_total = dict(df_film_length.groupby('length')['genres'].count())\n",
    "length_success = df_film_length[df_film_length['fin_success_x'] == True].groupby('genres')['genres'].count()"
   ]
  },
  {
   "cell_type": "code",
   "execution_count": 192,
   "metadata": {},
   "outputs": [
    {
     "data": {
      "image/png": "[encoded data removed]",
      "text/plain": [
       "<Figure size 1008x720 with 1 Axes>"
      ]
     },
     "metadata": {
      "needs_background": "light"
     },
     "output_type": "display_data"
    }
   ],
   "source": [
    "#cleaning slicing only the month from the data\n",
    "# df_budget_genre['release_month'] = df_budget_genre['release_date'].map(lambda x : x[:3])\n",
    "\n",
    "\n",
    "df_budget_genre[df_budget_genre['fin_success'] == True].groupby('release_month')['id'].count()\n",
    "\n",
    "#compiling the wins per month into a category \n",
    "\n",
    "month_success_total = dict(df_budget_genre[df_budget_genre['fin_success'] == True].groupby('release_month')['id'].count())\n",
    "\n",
    "month_total = dict(df_budget_genre.groupby('release_month')['id'].count())\n",
    "                   \n",
    "\n",
    "m1= month_success_total\n",
    "m2= month_total\n",
    "\n",
    "m3={x:float(m1[x])/m2[x] for x in m2}\n",
    "\n",
    "month_percent = pd.DataFrame.from_dict(m3, orient= 'index')\n",
    "\n",
    "#rename the col\n",
    "\n",
    "# .sort_values(by='id', ascending = False)\n",
    "\n",
    "month_percent.rename(columns = {month_percent.columns[0] : \"success rate %\"}, inplace=True)\n",
    "\n",
    "x= month_percent.sort_values(by = \"success rate %\", ascending = False)\n",
    "\n",
    "\n",
    "ax = x.plot(kind ='bar', fontsize= 18, colormap = 'autumn', figsize =(14, 10), ylim = (0, 1) )\n",
    "\n",
    "ax.set_title(\"Release Month Vs Financial Success\", fontsize = 20)\n",
    "ax.set_ylabel('Success Rate', fontsize= 18)\n",
    "ax.set_xlabel(\"Release Month\", fontsize=18)\n",
    "\n",
    "\n",
    "#annotating the bar graph \n",
    "\n",
    "\n",
    "\n",
    "for i in ax.patches:\n",
    "    \n",
    "    ax.text(i.get_x(), i.get_height()+.03, \\\n",
    "            str(round((i.get_height())*100, 2))+'%', fontsize=14,\n",
    "                color='black')\n",
    "    \n",
    "#release month totals table\n",
    "\n",
    "df_month_release_totals = pd.DataFrame.from_dict(m2, orient= 'index')\n",
    "#rename col to count\n",
    "df_month_release_totals.rename(columns = {df_month_release_totals.columns[0] : \"# of Releases\"}, inplace=True)\n",
    "\n",
    "\n",
    "\n",
    "\n",
    "\n"
   ]
  },
  {
   "cell_type": "code",
   "execution_count": 185,
   "metadata": {},
   "outputs": [
    {
     "data": {
      "text/plain": [
       "True"
      ]
     },
     "execution_count": 185,
     "metadata": {},
     "output_type": "execute_result"
    }
   ],
   "source": [
    "# def splitDataFrameList(df,target_column,separator):\n",
    "#     row_accumulator = []\n",
    "#     def splitListToRows(row, separator):\n",
    "#         split_row = row[target_column].split(separator)\n",
    "#         for s in split_row:\n",
    "#             new_row = row.to_dict()\n",
    "#             new_row[target_column] = s\n",
    "#             row_accumulator.append(new_row)\n",
    "#     df.apply(splitListToRows, axis=1, args = (separator, ))\n",
    "#     new_df = pd.DataFrame(row_accumulator)\n",
    "#     return new_df\n",
    "# df_imdb_mtitle = df_imdb_titleb[df_imdb_titleb['genres'].notnull()]\n",
    "\n",
    "# single_genre = splitDataFrameList(df_imdb_mtitle,'genres',',')\n",
    "\n",
    "# budget_genre= df_budget.merge(single_genre, left_on='movie', right_on='primary_title')\n",
    "\n",
    "\n",
    "\n",
    "budget_genre.groupby('genres')['genres'].count().sort_values(ascending= False) # sorted genres by data\n",
    "\n",
    "\n",
    "\n",
    "genre_total= dict(budget_genre.groupby('genres')['genres'].count().sort_values(ascending= False))\n",
    "\n",
    "\n",
    "\n",
    "# budget_genre[budget_genre['fin_success'] == True].groupby('genres').count().sort_values('fin_success', ascending= False)\n",
    "\n",
    "genre_success_total= dict(budget_genre[budget_genre['fin_success_x'] == True].groupby('genres')['genres'].count().sort_values(ascending = False))\n",
    "\n",
    "\n",
    "#delete news and reality tv form data set\n",
    "\n",
    "del genre_total['News']\n",
    "del genre_total['Reality-TV']\n",
    "\n",
    "len(genre_total)\n",
    "\n",
    "\n",
    "\n",
    "genre_success_total\n",
    "\n",
    "#delete News from genre_success_total so that both lists match\n",
    "\n",
    "del genre_success_total['News']\n",
    "len(genre_total)== len(genre_success_total)"
   ]
  },
  {
   "cell_type": "code",
   "execution_count": 186,
   "metadata": {},
   "outputs": [
    {
     "data": {
      "text/plain": [
       "5347"
      ]
     },
     "execution_count": 186,
     "metadata": {},
     "output_type": "execute_result"
    }
   ],
   "source": [
    "budget_genre[budget_genre['fin_success_x'] == True].groupby('genres')['genres'].count().sum()"
   ]
  },
  {
   "cell_type": "code",
   "execution_count": 187,
   "metadata": {},
   "outputs": [
    {
     "data": {
      "text/plain": [
       "8668"
      ]
     },
     "execution_count": 187,
     "metadata": {},
     "output_type": "execute_result"
    }
   ],
   "source": [
    "budget_genre.groupby('genres')['genres'].count().sum()\n"
   ]
  },
  {
   "cell_type": "code",
   "execution_count": 188,
   "metadata": {},
   "outputs": [],
   "source": [
    "\n",
    " \n",
    "# return the percentages of success of each genre\n",
    "\n",
    "d1= genre_success_total\n",
    "d2= genre_total\n",
    "\n",
    "d3={x:float(d1[x])/d2[x] for x in d2}\n",
    "\n",
    "d3={k: v for k, v in sorted(d3.items(), key=lambda item: item[1])}\n",
    "\n"
   ]
  },
  {
   "cell_type": "code",
   "execution_count": 189,
   "metadata": {},
   "outputs": [
    {
     "data": {
      "image/png": "[encoded data removed]",
      "text/plain": [
       "<Figure size 720x576 with 1 Axes>"
      ]
     },
     "metadata": {
      "needs_background": "light"
     },
     "output_type": "display_data"
    }
   ],
   "source": [
    "df_percentage = pd.DataFrame.from_dict(d3, orient= 'index')\n",
    "\n",
    "ax = df_percentage.plot.barh(figsize =(10, 8), legend=False)\n",
    "ax.set_title(\"Genres vs. Success\", fontsize=20)\n",
    "ax.set_ylabel('Genres', fontsize= 16)\n",
    "ax.set_xlabel(\"% of Success\", fontsize=16)\n",
    "ax.set_xlim(0,1)\n",
    "\n",
    "\n",
    "\n",
    "\n",
    "for i in ax.patches:\n",
    "    \n",
    "    ax.text(i.get_width(), i.get_y()+.18, \\\n",
    "            str(round((i.get_width())*100, 2)) +'%', fontsize=13, color='Black')\n"
   ]
  },
  {
   "cell_type": "markdown",
   "metadata": {},
   "source": [
    "## Data Modeling\n",
    "Describe and justify the process for analyzing or modeling the data.\n",
    "\n",
    "***\n",
    "Questions to consider:\n",
    "* How did you analyze or model the data?\n",
    "* How did you iterate on your initial approach to make it better?\n",
    "* Why are these choices appropriate given the data and the business problem?\n",
    "***"
   ]
  },
  {
   "cell_type": "code",
   "execution_count": 27,
   "metadata": {},
   "outputs": [],
   "source": [
    "# Here you run your code to model the data\n",
    "\n",
    "\n"
   ]
  },
  {
   "cell_type": "markdown",
   "metadata": {},
   "source": [
    "## Evaluation\n",
    "Evaluate how well your work solves the stated business problem.\n",
    "\n",
    "***\n",
    "Questions to consider:\n",
    "* How do you interpret the results?\n",
    "* How well does your model fit your data? How much better is this than your baseline model?\n",
    "* How confident are you that your results would generalize beyond the data you have?\n",
    "* How confident are you that this model would benefit the business if put into use?\n",
    "***"
   ]
  },
  {
   "cell_type": "markdown",
   "metadata": {},
   "source": [
    "## Conclusions\n",
    "Provide your conclusions about the work you've done, including any limitations or next steps.\n",
    "\n",
    "***\n",
    "Questions to consider:\n",
    "* What would you recommend the business do as a result of this work?\n",
    "* What are some reasons why your analysis might not fully solve the business problem?\n",
    "* What else could you do in the future to improve this project?\n",
    "***"
   ]
  }
 ],
 "metadata": {
  "kernelspec": {
   "display_name": "Python 3",
   "language": "python",
   "name": "python3"
  },
  "language_info": {
   "codemirror_mode": {
    "name": "ipython",
    "version": 3
   },
   "file_extension": ".py",
   "mimetype": "text/x-python",
   "name": "python",
   "nbconvert_exporter": "python",
   "pygments_lexer": "ipython3",
   "version": "3.8.8"
  }
 },
 "nbformat": 4,
 "nbformat_minor": 4
}
