{
 "cells": [
  {
   "cell_type": "markdown",
   "metadata": {},
   "source": [
    "![example](images/director_shot.jpeg)"
   ]
  },
  {
   "cell_type": "markdown",
   "metadata": {},
   "source": [
    "# Project Title\n",
    "\n",
    "**Authors:** Student 1, Student 2, Student 3\n",
    "***"
   ]
  },
  {
   "cell_type": "markdown",
   "metadata": {},
   "source": [
    "## Overview\n",
    "\n",
    "A one-paragraph overview of the project, including the business problem, data, methods, results and recommendations."
   ]
  },
  {
   "cell_type": "markdown",
   "metadata": {},
   "source": [
    "## Business Problem\n",
    "\n",
    "Summary of the business problem you are trying to solve, and the data questions that you plan to answer to solve them.\n",
    "\n",
    "***\n",
    "Questions to consider:\n",
    "* What are the business's pain points related to this project?\n",
    "* How did you pick the data analysis question(s) that you did?\n",
    "* Why are these questions important from a business perspective?\n",
    "***"
   ]
  },
  {
   "cell_type": "markdown",
   "metadata": {},
   "source": [
    "## Data Understanding\n",
    "\n",
    "Describe the data being used for this project.\n",
    "***\n",
    "Questions to consider:\n",
    "* Where did the data come from, and how do they relate to the data analysis questions?\n",
    "* What do the data represent? Who is in the sample and what variables are included?\n",
    "* What is the target variable?\n",
    "* What are the properties of the variables you intend to use?\n",
    "***"
   ]
  },
  {
   "cell_type": "code",
   "execution_count": 32,
   "metadata": {},
   "outputs": [],
   "source": [
    "# Import standard packages\n",
    "import pandas as pd\n",
    "import numpy as np\n",
    "import matplotlib.pyplot as plt\n",
    "import seaborn as sns\n",
    "\n",
    "\n",
    "%matplotlib inline"
   ]
  },
  {
   "cell_type": "code",
   "execution_count": null,
   "metadata": {},
   "outputs": [],
   "source": [
    "# Here you run your code to explore the data\n",
    "\n",
    "import requests, zipfile\n",
    "df1 = pd.read_csv('data/Zippeddata/bom.movie_gross.csv.gz')\n",
    "\n",
    "df2 = pd.read_csv('data/Zippeddata/imdb.name.basics.csv.gz')\n",
    "\n",
    "df3 = pd.read_csv('data/Zippeddata/imdb.title.akas.csv.gz')\n",
    "\n",
    "df4 = pd.read_csv('data/Zippeddata/imdb.title.basics.csv.gz')\n",
    "\n",
    "df5 = pd.read_csv('data/Zippeddata/imdb.title.crew.csv.gz')\n",
    "\n",
    "df6 = pd.read_csv('data/Zippeddata/imdb.title.principals.csv.gz')\n",
    "\n",
    "df7 = pd.read_csv('data/Zippeddata/imdb.title.ratings.csv.gz')\n",
    "\n",
    "#df8 = pd.read_csv('data/Zippeddata/rt.movie_info.tsv.gz')\n",
    "\n",
    "#df9 = pd.read_csv('data/Zippeddata/rt.reviews.tsv.gz')\n",
    "\n",
    "df10 = pd.read_csv('data/Zippeddata/tmdb.movies.csv.gz')\n",
    "\n",
    "df11 = pd.read_csv('data/Zippeddata/tn.movie_budgets.csv.gz')\n",
    "\n",
    "\n",
    "\n",
    "\n"
   ]
  },
  {
   "cell_type": "code",
   "execution_count": null,
   "metadata": {},
   "outputs": [],
   "source": [
    "\n",
    "\n",
    "#First I need to remove the commas within the numbers.\n",
    "\n",
    "df1.dropna(subset = ['foreign_gross'], inplace=True)\n",
    "\n",
    "df1.dropna(subset = ['domestic_gross'], inplace=True)\n",
    "\n",
    "#The values in the 'foreign_gross' column are strings. I want to convert them to integers. \n",
    "\n",
    "#But first I must remove the \",\" from certain values that have \",\".\n",
    "\n",
    "df1[df1['foreign_gross'].str.contains(',')]= df1[df1['foreign_gross'].str.contains(',')]['foreign_gross'].map(lambda x: x.replace(\",\",\"\"))\n",
    "\n",
    "\n",
    "#Converted the values in this column from string to float because I cannot turn values in a series into int()\n",
    "df1['foreign_gross'] = df1['foreign_gross'].map(lambda x: float(x))\n",
    "\n",
    "\n",
    "\n",
    "\n",
    "\n",
    "\n",
    "\n",
    "\n",
    "\n",
    "\n"
   ]
  },
  {
   "cell_type": "code",
   "execution_count": null,
   "metadata": {},
   "outputs": [],
   "source": [
    "# Converted \"domestic_gross\" values into float.\n",
    "\n",
    "df1['domestic_gross'] = df1['domestic_gross'].map(lambda x: float(x))"
   ]
  },
  {
   "cell_type": "code",
   "execution_count": null,
   "metadata": {},
   "outputs": [],
   "source": [
    "#Created new column \"worldwide_gross\"\n",
    "\n",
    "df1['worldwide_gross'] = df1['foreign_gross']+df1['domestic_gross']\n",
    "\n",
    "\n",
    "\n",
    "\n",
    "\n",
    "#dropping records whose title = 1131.6, and year=1369.5. Not sure how these records can be useful.\n",
    "\n",
    "df1.drop(df1[df1['year']== '1369.5'].index, inplace=True)\n",
    "\n"
   ]
  },
  {
   "cell_type": "code",
   "execution_count": null,
   "metadata": {},
   "outputs": [],
   "source": [
    "#Highest Grossing movies of 2012 in descending order\n",
    "\n",
    "df1[(df1['year']==2018)].sort_values(by=\"worldwide_gross\" , ascending = False)\n",
    "\n",
    "df1.head()\n",
    "\n",
    "#For some values, the domestic gross and the foreign gross are given the same values. for example look at the record for the movie, Wolf Warrior 2 or Despicable Me 3 or Beauty and the Beast."
   ]
  },
  {
   "cell_type": "markdown",
   "metadata": {},
   "source": [
    "## Data Preparation\n",
    "\n",
    "Describe and justify the process for preparing the data for analysis.\n",
    "\n",
    "***\n",
    "Questions to consider:\n",
    "* Were there variables you dropped or created?\n",
    "* How did you address missing values or outliers?\n",
    "* Why are these choices appropriate given the data and the business problem?\n",
    "***"
   ]
  },
  {
   "cell_type": "code",
   "execution_count": 5,
   "metadata": {},
   "outputs": [],
   "source": [
    "# Here you run your code to clean the data"
   ]
  },
  {
   "cell_type": "markdown",
   "metadata": {},
   "source": [
    "## Data Modeling\n",
    "Describe and justify the process for analyzing or modeling the data.\n",
    "\n",
    "***\n",
    "Questions to consider:\n",
    "* How did you analyze or model the data?\n",
    "* How did you iterate on your initial approach to make it better?\n",
    "* Why are these choices appropriate given the data and the business problem?\n",
    "***"
   ]
  },
  {
   "cell_type": "code",
   "execution_count": 6,
   "metadata": {},
   "outputs": [],
   "source": [
    "# Here you run your code to model the data\n"
   ]
  },
  {
   "cell_type": "markdown",
   "metadata": {},
   "source": [
    "## Evaluation\n",
    "Evaluate how well your work solves the stated business problem.\n",
    "\n",
    "***\n",
    "Questions to consider:\n",
    "* How do you interpret the results?\n",
    "* How well does your model fit your data? How much better is this than your baseline model?\n",
    "* How confident are you that your results would generalize beyond the data you have?\n",
    "* How confident are you that this model would benefit the business if put into use?\n",
    "***"
   ]
  },
  {
   "cell_type": "markdown",
   "metadata": {},
   "source": [
    "## Conclusions\n",
    "Provide your conclusions about the work you've done, including any limitations or next steps.\n",
    "\n",
    "***\n",
    "Questions to consider:\n",
    "* What would you recommend the business do as a result of this work?\n",
    "* What are some reasons why your analysis might not fully solve the business problem?\n",
    "* What else could you do in the future to improve this project?\n",
    "***"
   ]
  },
  {
   "cell_type": "code",
   "execution_count": null,
   "metadata": {},
   "outputs": [],
   "source": []
  }
 ],
 "metadata": {
  "kernelspec": {
   "display_name": "Python 3",
   "language": "python",
   "name": "python3"
  },
  "language_info": {
   "codemirror_mode": {
    "name": "ipython",
    "version": 3
   },
   "file_extension": ".py",
   "mimetype": "text/x-python",
   "name": "python",
   "nbconvert_exporter": "python",
   "pygments_lexer": "ipython3",
   "version": "3.8.5"
  }
 },
 "nbformat": 4,
 "nbformat_minor": 4
}
