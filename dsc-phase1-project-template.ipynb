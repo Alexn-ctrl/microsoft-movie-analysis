{
 "cells": [
  {
   "cell_type": "markdown",
   "metadata": {},
   "source": [
    "![example](images/director_shot.jpeg)"
   ]
  },
  {
   "cell_type": "markdown",
   "metadata": {},
   "source": [
    "# Project Title\n",
    "\n",
    "**Authors:** Student 1, Student 2, Student 3\n",
    "***"
   ]
  },
  {
   "cell_type": "markdown",
   "metadata": {},
   "source": [
    "## Overview\n",
    "\n",
    "A one-paragraph overview of the project, including the business problem, data, methods, results and recommendations."
   ]
  },
  {
   "cell_type": "markdown",
   "metadata": {},
   "source": [
    "## Business Problem\n",
    "\n",
    "Summary of the business problem you are trying to solve, and the data questions that you plan to answer to solve them.\n",
    "\n",
    "***\n",
    "Questions to consider:\n",
    "* What are the business's pain points related to this project?\n",
    "* How did you pick the data analysis question(s) that you did?\n",
    "* Why are these questions important from a business perspective?\n",
    "***"
   ]
  },
  {
   "cell_type": "markdown",
   "metadata": {},
   "source": [
    "## Data Understanding\n",
    "\n",
    "Describe the data being used for this project.\n",
    "***\n",
    "Questions to consider:\n",
    "* Where did the data come from, and how do they relate to the data analysis questions?\n",
    "* What do the data represent? Who is in the sample and what variables are included?\n",
    "* What is the target variable?\n",
    "* What are the properties of the variables you intend to use?\n",
    "***"
   ]
  },
  {
   "cell_type": "code",
   "execution_count": 41,
   "metadata": {},
   "outputs": [],
   "source": [
    "import pandas as pd\n",
    "import matplotlib.pyplot as plt\n",
    "%matplotlib inline\n",
    "import gzip\n",
    "import sqlite3\n",
    "import csv\n",
    "import numpy as np\n",
    "import seaborn as sns\n",
    "from matplotlib import style"
   ]
  },
  {
   "cell_type": "code",
   "execution_count": 42,
   "metadata": {},
   "outputs": [],
   "source": [
    "df1 = pd.read_csv('bom.movie_gross.csv.gz')\n",
    "df1 = df1.rename(columns = {'title':'movie'})"
   ]
  },
  {
   "cell_type": "code",
   "execution_count": 43,
   "metadata": {},
   "outputs": [],
   "source": [
    "df2 = pd.read_csv('imdb.name.basics.csv.gz')"
   ]
  },
  {
   "cell_type": "code",
   "execution_count": 44,
   "metadata": {},
   "outputs": [],
   "source": [
    "df3 = pd.read_csv('imdb.title.akas.csv.gz')\n",
    "df3 = df3.rename(columns = {'title':'movie'})"
   ]
  },
  {
   "cell_type": "code",
   "execution_count": 45,
   "metadata": {},
   "outputs": [],
   "source": [
    "df4 = pd.read_csv('imdb.title.basics.csv.gz')\n",
    "df4 = df4.rename(columns = {'primary_title':'movie'})"
   ]
  },
  {
   "cell_type": "code",
   "execution_count": 46,
   "metadata": {},
   "outputs": [],
   "source": [
    "df5 = pd.read_csv('imdb.title.crew.csv.gz')"
   ]
  },
  {
   "cell_type": "code",
   "execution_count": 47,
   "metadata": {},
   "outputs": [],
   "source": [
    "df6 = pd.read_csv('imdb.title.principals.csv.gz')"
   ]
  },
  {
   "cell_type": "code",
   "execution_count": 48,
   "metadata": {},
   "outputs": [],
   "source": [
    "df7 = pd.read_csv('imdb.title.ratings.csv.gz')"
   ]
  },
  {
   "cell_type": "code",
   "execution_count": 49,
   "metadata": {},
   "outputs": [],
   "source": [
    "df8 = pd.read_csv('rt.movie_info.tsv.gz', sep='\\t')"
   ]
  },
  {
   "cell_type": "code",
   "execution_count": 50,
   "metadata": {},
   "outputs": [],
   "source": [
    "df9 = pd.read_csv('rt.reviews.tsv.gz', sep='\\t', encoding='windows-1254')\n",
    "con9 = sqlite3.connect('rt.reviews.tsv.gz')\n",
    "df9 = df9.set_index('id')"
   ]
  },
  {
   "cell_type": "code",
   "execution_count": 51,
   "metadata": {},
   "outputs": [],
   "source": [
    "df10 = pd.read_csv('tmdb.movies.csv.gz')\n",
    "con10 = sqlite3.connect('tmdb.movies.csv.gz')\n",
    "df10 = df10.set_index(['Unnamed: 0'])\n",
    "df10 = df10.rename(columns = {'title':'movie'})\n",
    "df10['movie'] = str(df10['movie'])"
   ]
  },
  {
   "cell_type": "code",
   "execution_count": 52,
   "metadata": {},
   "outputs": [],
   "source": [
    "df11 = pd.read_csv('tn.movie_budgets.csv.gz')\n",
    "df11['worldwide_gross'] = df11['worldwide_gross'].str[1:]\n",
    "df11['worldwide_gross'] = df11['worldwide_gross'].str.replace(',', '').astype(np.int64)\n",
    "df11['domestic_gross'] = df11['domestic_gross'].str[1:]\n",
    "df11['domestic_gross'] = df11['domestic_gross'].str.replace(',', '').astype(np.int64)\n",
    "df11['production_budget'] = df11['production_budget'].str[1:]\n",
    "df11['production_budget'] = df11['production_budget'].str.replace(',', '').astype(np.int64)"
   ]
  },
  {
   "cell_type": "markdown",
   "metadata": {},
   "source": [
    "## Data Preparation\n",
    "\n",
    "Describe and justify the process for preparing the data for analysis.\n",
    "\n",
    "***\n",
    "Questions to consider:\n",
    "* Were there variables you dropped or created?\n",
    "* How did you address missing values or outliers?\n",
    "* Why are these choices appropriate given the data and the business problem?\n",
    "***"
   ]
  },
  {
   "cell_type": "code",
   "execution_count": 53,
   "metadata": {},
   "outputs": [
    {
     "name": "stdout",
     "output_type": "stream",
     "text": [
      "DF1: Index(['movie', 'studio', 'domestic_gross', 'foreign_gross', 'year'], dtype='object') \n",
      "\n",
      "DF3:  Index(['title_id', 'ordering', 'movie', 'region', 'language', 'types',\n",
      "       'attributes', 'is_original_title'],\n",
      "      dtype='object') \n",
      "\n",
      "DF4:  Index(['tconst', 'movie', 'original_title', 'start_year', 'runtime_minutes',\n",
      "       'genres'],\n",
      "      dtype='object') \n",
      "\n",
      "DF7:  Index(['tconst', 'averagerating', 'numvotes'], dtype='object') \n",
      "\n",
      "DF8:  Index(['id', 'synopsis', 'rating', 'genre', 'director', 'writer',\n",
      "       'theater_date', 'dvd_date', 'currency', 'box_office', 'runtime',\n",
      "       'studio'],\n",
      "      dtype='object') \n",
      "\n",
      "DF9:  Index(['review', 'rating', 'fresh', 'critic', 'top_critic', 'publisher',\n",
      "       'date'],\n",
      "      dtype='object') \n",
      "\n",
      "DF10:  Index(['genre_ids', 'id', 'original_language', 'original_title', 'popularity',\n",
      "       'release_date', 'movie', 'vote_average', 'vote_count'],\n",
      "      dtype='object') \n",
      "\n",
      "DF11:  Index(['id', 'release_date', 'movie', 'production_budget', 'domestic_gross',\n",
      "       'worldwide_gross'],\n",
      "      dtype='object') \n",
      "\n"
     ]
    }
   ],
   "source": [
    "print('DF1:', df1.columns, '\\n')\n",
    "print('DF3: ', df3.columns, '\\n')\n",
    "print('DF4: ', df4.columns, '\\n')\n",
    "print('DF7: ', df7.columns, '\\n')\n",
    "print('DF8: ', df8.columns, '\\n')\n",
    "print('DF9: ', df9.columns, '\\n')\n",
    "print('DF10: ', df10.columns, '\\n')\n",
    "print('DF11: ', df11.columns, '\\n')"
   ]
  },
  {
   "cell_type": "code",
   "execution_count": 54,
   "metadata": {},
   "outputs": [
    {
     "data": {
      "text/html": [
       "<div>\n",
       "<style scoped>\n",
       "    .dataframe tbody tr th:only-of-type {\n",
       "        vertical-align: middle;\n",
       "    }\n",
       "\n",
       "    .dataframe tbody tr th {\n",
       "        vertical-align: top;\n",
       "    }\n",
       "\n",
       "    .dataframe thead th {\n",
       "        text-align: right;\n",
       "    }\n",
       "</style>\n",
       "<table border=\"1\" class=\"dataframe\">\n",
       "  <thead>\n",
       "    <tr style=\"text-align: right;\">\n",
       "      <th></th>\n",
       "      <th>id</th>\n",
       "      <th>release_date</th>\n",
       "      <th>production_budget</th>\n",
       "      <th>domestic_gross</th>\n",
       "      <th>worldwide_gross</th>\n",
       "    </tr>\n",
       "    <tr>\n",
       "      <th>movie</th>\n",
       "      <th></th>\n",
       "      <th></th>\n",
       "      <th></th>\n",
       "      <th></th>\n",
       "      <th></th>\n",
       "    </tr>\n",
       "  </thead>\n",
       "  <tbody>\n",
       "    <tr>\n",
       "      <th>Avatar</th>\n",
       "      <td>1</td>\n",
       "      <td>Dec 18, 2009</td>\n",
       "      <td>425000000</td>\n",
       "      <td>760507625</td>\n",
       "      <td>2776345279</td>\n",
       "    </tr>\n",
       "    <tr>\n",
       "      <th>Pirates of the Caribbean: On Stranger Tides</th>\n",
       "      <td>2</td>\n",
       "      <td>May 20, 2011</td>\n",
       "      <td>410600000</td>\n",
       "      <td>241063875</td>\n",
       "      <td>1045663875</td>\n",
       "    </tr>\n",
       "    <tr>\n",
       "      <th>Dark Phoenix</th>\n",
       "      <td>3</td>\n",
       "      <td>Jun 7, 2019</td>\n",
       "      <td>350000000</td>\n",
       "      <td>42762350</td>\n",
       "      <td>149762350</td>\n",
       "    </tr>\n",
       "    <tr>\n",
       "      <th>Avengers: Age of Ultron</th>\n",
       "      <td>4</td>\n",
       "      <td>May 1, 2015</td>\n",
       "      <td>330600000</td>\n",
       "      <td>459005868</td>\n",
       "      <td>1403013963</td>\n",
       "    </tr>\n",
       "    <tr>\n",
       "      <th>Star Wars Ep. VIII: The Last Jedi</th>\n",
       "      <td>5</td>\n",
       "      <td>Dec 15, 2017</td>\n",
       "      <td>317000000</td>\n",
       "      <td>620181382</td>\n",
       "      <td>1316721747</td>\n",
       "    </tr>\n",
       "    <tr>\n",
       "      <th>...</th>\n",
       "      <td>...</td>\n",
       "      <td>...</td>\n",
       "      <td>...</td>\n",
       "      <td>...</td>\n",
       "      <td>...</td>\n",
       "    </tr>\n",
       "    <tr>\n",
       "      <th>Sparkler</th>\n",
       "      <td>95</td>\n",
       "      <td>Mar 19, 1999</td>\n",
       "      <td>1000000</td>\n",
       "      <td>5494</td>\n",
       "      <td>5494</td>\n",
       "    </tr>\n",
       "    <tr>\n",
       "      <th>The Helixâ¦Loaded</th>\n",
       "      <td>96</td>\n",
       "      <td>Mar 18, 2005</td>\n",
       "      <td>1000000</td>\n",
       "      <td>3700</td>\n",
       "      <td>3700</td>\n",
       "    </tr>\n",
       "    <tr>\n",
       "      <th>Childless</th>\n",
       "      <td>97</td>\n",
       "      <td>May 15, 2015</td>\n",
       "      <td>1000000</td>\n",
       "      <td>1036</td>\n",
       "      <td>1036</td>\n",
       "    </tr>\n",
       "    <tr>\n",
       "      <th>In Her Line of Fire</th>\n",
       "      <td>98</td>\n",
       "      <td>Apr 21, 2006</td>\n",
       "      <td>1000000</td>\n",
       "      <td>884</td>\n",
       "      <td>884</td>\n",
       "    </tr>\n",
       "    <tr>\n",
       "      <th>The Jimmy Show</th>\n",
       "      <td>99</td>\n",
       "      <td>Dec 13, 2002</td>\n",
       "      <td>1000000</td>\n",
       "      <td>703</td>\n",
       "      <td>703</td>\n",
       "    </tr>\n",
       "  </tbody>\n",
       "</table>\n",
       "<p>4930 rows × 5 columns</p>\n",
       "</div>"
      ],
      "text/plain": [
       "                                             id  release_date  \\\n",
       "movie                                                           \n",
       "Avatar                                        1  Dec 18, 2009   \n",
       "Pirates of the Caribbean: On Stranger Tides   2  May 20, 2011   \n",
       "Dark Phoenix                                  3   Jun 7, 2019   \n",
       "Avengers: Age of Ultron                       4   May 1, 2015   \n",
       "Star Wars Ep. VIII: The Last Jedi             5  Dec 15, 2017   \n",
       "...                                          ..           ...   \n",
       "Sparkler                                     95  Mar 19, 1999   \n",
       "The Helixâ¦Loaded                           96  Mar 18, 2005   \n",
       "Childless                                    97  May 15, 2015   \n",
       "In Her Line of Fire                          98  Apr 21, 2006   \n",
       "The Jimmy Show                               99  Dec 13, 2002   \n",
       "\n",
       "                                             production_budget  \\\n",
       "movie                                                            \n",
       "Avatar                                               425000000   \n",
       "Pirates of the Caribbean: On Stranger Tides          410600000   \n",
       "Dark Phoenix                                         350000000   \n",
       "Avengers: Age of Ultron                              330600000   \n",
       "Star Wars Ep. VIII: The Last Jedi                    317000000   \n",
       "...                                                        ...   \n",
       "Sparkler                                               1000000   \n",
       "The Helixâ¦Loaded                                     1000000   \n",
       "Childless                                              1000000   \n",
       "In Her Line of Fire                                    1000000   \n",
       "The Jimmy Show                                         1000000   \n",
       "\n",
       "                                             domestic_gross  worldwide_gross  \n",
       "movie                                                                         \n",
       "Avatar                                            760507625       2776345279  \n",
       "Pirates of the Caribbean: On Stranger Tides       241063875       1045663875  \n",
       "Dark Phoenix                                       42762350        149762350  \n",
       "Avengers: Age of Ultron                           459005868       1403013963  \n",
       "Star Wars Ep. VIII: The Last Jedi                 620181382       1316721747  \n",
       "...                                                     ...              ...  \n",
       "Sparkler                                               5494             5494  \n",
       "The Helixâ¦Loaded                                     3700             3700  \n",
       "Childless                                              1036             1036  \n",
       "In Her Line of Fire                                     884              884  \n",
       "The Jimmy Show                                          703              703  \n",
       "\n",
       "[4930 rows x 5 columns]"
      ]
     },
     "execution_count": 54,
     "metadata": {},
     "output_type": "execute_result"
    }
   ],
   "source": [
    "production = df11[df11.production_budget < 1000000].index\n",
    "df11.drop(production, inplace=True)\n",
    "domestic = df11[df11.domestic_gross < 1].index\n",
    "df11.drop(domestic, inplace=True)\n",
    "worldwide = df11[df11.worldwide_gross < 1].index\n",
    "df11.drop(worldwide, inplace=True)\n",
    "df11.set_index('movie')"
   ]
  },
  {
   "cell_type": "code",
   "execution_count": 55,
   "metadata": {},
   "outputs": [],
   "source": [
    "BigFrame = df11.merge(df1, on='movie').merge(df4, on='movie').drop(columns=['tconst', 'original_title', 'start_year', 'id', 'domestic_gross_y'])"
   ]
  },
  {
   "cell_type": "code",
   "execution_count": 56,
   "metadata": {},
   "outputs": [
    {
     "data": {
      "text/html": [
       "<div>\n",
       "<style scoped>\n",
       "    .dataframe tbody tr th:only-of-type {\n",
       "        vertical-align: middle;\n",
       "    }\n",
       "\n",
       "    .dataframe tbody tr th {\n",
       "        vertical-align: top;\n",
       "    }\n",
       "\n",
       "    .dataframe thead th {\n",
       "        text-align: right;\n",
       "    }\n",
       "</style>\n",
       "<table border=\"1\" class=\"dataframe\">\n",
       "  <thead>\n",
       "    <tr style=\"text-align: right;\">\n",
       "      <th></th>\n",
       "      <th>release_date</th>\n",
       "      <th>production_budget</th>\n",
       "      <th>domestic_gross_x</th>\n",
       "      <th>worldwide_gross</th>\n",
       "      <th>studio</th>\n",
       "      <th>foreign_gross</th>\n",
       "      <th>year</th>\n",
       "      <th>runtime_minutes</th>\n",
       "      <th>genres</th>\n",
       "      <th>month</th>\n",
       "    </tr>\n",
       "    <tr>\n",
       "      <th>movie</th>\n",
       "      <th></th>\n",
       "      <th></th>\n",
       "      <th></th>\n",
       "      <th></th>\n",
       "      <th></th>\n",
       "      <th></th>\n",
       "      <th></th>\n",
       "      <th></th>\n",
       "      <th></th>\n",
       "      <th></th>\n",
       "    </tr>\n",
       "  </thead>\n",
       "  <tbody>\n",
       "    <tr>\n",
       "      <th>Pirates of the Caribbean: On Stranger Tides</th>\n",
       "      <td>May 20, 2011</td>\n",
       "      <td>410600000</td>\n",
       "      <td>241063875</td>\n",
       "      <td>1045663875</td>\n",
       "      <td>BV</td>\n",
       "      <td>804600000</td>\n",
       "      <td>2011</td>\n",
       "      <td>136.0</td>\n",
       "      <td>Action,Adventure,Fantasy</td>\n",
       "      <td>May</td>\n",
       "    </tr>\n",
       "    <tr>\n",
       "      <th>Avengers: Age of Ultron</th>\n",
       "      <td>May 1, 2015</td>\n",
       "      <td>330600000</td>\n",
       "      <td>459005868</td>\n",
       "      <td>1403013963</td>\n",
       "      <td>BV</td>\n",
       "      <td>946400000</td>\n",
       "      <td>2015</td>\n",
       "      <td>141.0</td>\n",
       "      <td>Action,Adventure,Sci-Fi</td>\n",
       "      <td>May</td>\n",
       "    </tr>\n",
       "    <tr>\n",
       "      <th>Avengers: Infinity War</th>\n",
       "      <td>Apr 27, 2018</td>\n",
       "      <td>300000000</td>\n",
       "      <td>678815482</td>\n",
       "      <td>2048134200</td>\n",
       "      <td>BV</td>\n",
       "      <td>1,369.5</td>\n",
       "      <td>2018</td>\n",
       "      <td>149.0</td>\n",
       "      <td>Action,Adventure,Sci-Fi</td>\n",
       "      <td>Apr</td>\n",
       "    </tr>\n",
       "    <tr>\n",
       "      <th>Justice League</th>\n",
       "      <td>Nov 17, 2017</td>\n",
       "      <td>300000000</td>\n",
       "      <td>229024295</td>\n",
       "      <td>655945209</td>\n",
       "      <td>WB</td>\n",
       "      <td>428900000</td>\n",
       "      <td>2017</td>\n",
       "      <td>120.0</td>\n",
       "      <td>Action,Adventure,Fantasy</td>\n",
       "      <td>Nov</td>\n",
       "    </tr>\n",
       "    <tr>\n",
       "      <th>Spectre</th>\n",
       "      <td>Nov 6, 2015</td>\n",
       "      <td>300000000</td>\n",
       "      <td>200074175</td>\n",
       "      <td>879620923</td>\n",
       "      <td>Sony</td>\n",
       "      <td>680600000</td>\n",
       "      <td>2015</td>\n",
       "      <td>148.0</td>\n",
       "      <td>Action,Adventure,Thriller</td>\n",
       "      <td>Nov</td>\n",
       "    </tr>\n",
       "    <tr>\n",
       "      <th>...</th>\n",
       "      <td>...</td>\n",
       "      <td>...</td>\n",
       "      <td>...</td>\n",
       "      <td>...</td>\n",
       "      <td>...</td>\n",
       "      <td>...</td>\n",
       "      <td>...</td>\n",
       "      <td>...</td>\n",
       "      <td>...</td>\n",
       "      <td>...</td>\n",
       "    </tr>\n",
       "    <tr>\n",
       "      <th>Palo Alto</th>\n",
       "      <td>May 9, 2014</td>\n",
       "      <td>1000000</td>\n",
       "      <td>767732</td>\n",
       "      <td>1156309</td>\n",
       "      <td>Trib.</td>\n",
       "      <td>NaN</td>\n",
       "      <td>2014</td>\n",
       "      <td>100.0</td>\n",
       "      <td>Drama</td>\n",
       "      <td>May</td>\n",
       "    </tr>\n",
       "    <tr>\n",
       "      <th>The Future</th>\n",
       "      <td>Jul 29, 2011</td>\n",
       "      <td>1000000</td>\n",
       "      <td>568662</td>\n",
       "      <td>1239174</td>\n",
       "      <td>RAtt.</td>\n",
       "      <td>NaN</td>\n",
       "      <td>2011</td>\n",
       "      <td>91.0</td>\n",
       "      <td>Drama,Fantasy,Romance</td>\n",
       "      <td>Jul</td>\n",
       "    </tr>\n",
       "    <tr>\n",
       "      <th>I Origins</th>\n",
       "      <td>Jul 18, 2014</td>\n",
       "      <td>1000000</td>\n",
       "      <td>336472</td>\n",
       "      <td>852399</td>\n",
       "      <td>FoxS</td>\n",
       "      <td>NaN</td>\n",
       "      <td>2014</td>\n",
       "      <td>106.0</td>\n",
       "      <td>Drama,Romance,Sci-Fi</td>\n",
       "      <td>Jul</td>\n",
       "    </tr>\n",
       "    <tr>\n",
       "      <th>The Invitation</th>\n",
       "      <td>Apr 8, 2016</td>\n",
       "      <td>1000000</td>\n",
       "      <td>231738</td>\n",
       "      <td>354836</td>\n",
       "      <td>Drft.</td>\n",
       "      <td>NaN</td>\n",
       "      <td>2016</td>\n",
       "      <td>100.0</td>\n",
       "      <td>Drama,Horror,Mystery</td>\n",
       "      <td>Apr</td>\n",
       "    </tr>\n",
       "    <tr>\n",
       "      <th>Camp X-Ray</th>\n",
       "      <td>Oct 17, 2014</td>\n",
       "      <td>1000000</td>\n",
       "      <td>9837</td>\n",
       "      <td>101053</td>\n",
       "      <td>IFC</td>\n",
       "      <td>NaN</td>\n",
       "      <td>2014</td>\n",
       "      <td>117.0</td>\n",
       "      <td>Drama,War</td>\n",
       "      <td>Oct</td>\n",
       "    </tr>\n",
       "  </tbody>\n",
       "</table>\n",
       "<p>1133 rows × 10 columns</p>\n",
       "</div>"
      ],
      "text/plain": [
       "                                             release_date  production_budget  \\\n",
       "movie                                                                          \n",
       "Pirates of the Caribbean: On Stranger Tides  May 20, 2011          410600000   \n",
       "Avengers: Age of Ultron                       May 1, 2015          330600000   \n",
       "Avengers: Infinity War                       Apr 27, 2018          300000000   \n",
       "Justice League                               Nov 17, 2017          300000000   \n",
       "Spectre                                       Nov 6, 2015          300000000   \n",
       "...                                                   ...                ...   \n",
       "Palo Alto                                     May 9, 2014            1000000   \n",
       "The Future                                   Jul 29, 2011            1000000   \n",
       "I Origins                                    Jul 18, 2014            1000000   \n",
       "The Invitation                                Apr 8, 2016            1000000   \n",
       "Camp X-Ray                                   Oct 17, 2014            1000000   \n",
       "\n",
       "                                             domestic_gross_x  \\\n",
       "movie                                                           \n",
       "Pirates of the Caribbean: On Stranger Tides         241063875   \n",
       "Avengers: Age of Ultron                             459005868   \n",
       "Avengers: Infinity War                              678815482   \n",
       "Justice League                                      229024295   \n",
       "Spectre                                             200074175   \n",
       "...                                                       ...   \n",
       "Palo Alto                                              767732   \n",
       "The Future                                             568662   \n",
       "I Origins                                              336472   \n",
       "The Invitation                                         231738   \n",
       "Camp X-Ray                                               9837   \n",
       "\n",
       "                                             worldwide_gross studio  \\\n",
       "movie                                                                 \n",
       "Pirates of the Caribbean: On Stranger Tides       1045663875     BV   \n",
       "Avengers: Age of Ultron                           1403013963     BV   \n",
       "Avengers: Infinity War                            2048134200     BV   \n",
       "Justice League                                     655945209     WB   \n",
       "Spectre                                            879620923   Sony   \n",
       "...                                                      ...    ...   \n",
       "Palo Alto                                            1156309  Trib.   \n",
       "The Future                                           1239174  RAtt.   \n",
       "I Origins                                             852399   FoxS   \n",
       "The Invitation                                        354836  Drft.   \n",
       "Camp X-Ray                                            101053    IFC   \n",
       "\n",
       "                                            foreign_gross  year  \\\n",
       "movie                                                             \n",
       "Pirates of the Caribbean: On Stranger Tides     804600000  2011   \n",
       "Avengers: Age of Ultron                         946400000  2015   \n",
       "Avengers: Infinity War                            1,369.5  2018   \n",
       "Justice League                                  428900000  2017   \n",
       "Spectre                                         680600000  2015   \n",
       "...                                                   ...   ...   \n",
       "Palo Alto                                             NaN  2014   \n",
       "The Future                                            NaN  2011   \n",
       "I Origins                                             NaN  2014   \n",
       "The Invitation                                        NaN  2016   \n",
       "Camp X-Ray                                            NaN  2014   \n",
       "\n",
       "                                             runtime_minutes  \\\n",
       "movie                                                          \n",
       "Pirates of the Caribbean: On Stranger Tides            136.0   \n",
       "Avengers: Age of Ultron                                141.0   \n",
       "Avengers: Infinity War                                 149.0   \n",
       "Justice League                                         120.0   \n",
       "Spectre                                                148.0   \n",
       "...                                                      ...   \n",
       "Palo Alto                                              100.0   \n",
       "The Future                                              91.0   \n",
       "I Origins                                              106.0   \n",
       "The Invitation                                         100.0   \n",
       "Camp X-Ray                                             117.0   \n",
       "\n",
       "                                                                genres month  \n",
       "movie                                                                         \n",
       "Pirates of the Caribbean: On Stranger Tides   Action,Adventure,Fantasy   May  \n",
       "Avengers: Age of Ultron                        Action,Adventure,Sci-Fi   May  \n",
       "Avengers: Infinity War                         Action,Adventure,Sci-Fi   Apr  \n",
       "Justice League                                Action,Adventure,Fantasy   Nov  \n",
       "Spectre                                      Action,Adventure,Thriller   Nov  \n",
       "...                                                                ...   ...  \n",
       "Palo Alto                                                        Drama   May  \n",
       "The Future                                       Drama,Fantasy,Romance   Jul  \n",
       "I Origins                                         Drama,Romance,Sci-Fi   Jul  \n",
       "The Invitation                                    Drama,Horror,Mystery   Apr  \n",
       "Camp X-Ray                                                   Drama,War   Oct  \n",
       "\n",
       "[1133 rows x 10 columns]"
      ]
     },
     "execution_count": 56,
     "metadata": {},
     "output_type": "execute_result"
    }
   ],
   "source": [
    "BigFrame = BigFrame.drop_duplicates(subset='movie').set_index('movie')\n",
    "BigFrame['month'] = BigFrame['release_date'].str[:3]\n",
    "BigFrame"
   ]
  },
  {
   "cell_type": "code",
   "execution_count": 57,
   "metadata": {
    "tags": []
   },
   "outputs": [
    {
     "name": "stderr",
     "output_type": "stream",
     "text": [
      "<ipython-input-57-44699822fc58>:2: SettingWithCopyWarning: \n",
      "A value is trying to be set on a copy of a slice from a DataFrame\n",
      "\n",
      "See the caveats in the documentation: https://pandas.pydata.org/pandas-docs/stable/user_guide/indexing.html#returning-a-view-versus-a-copy\n",
      "  BigFrame.dropna(inplace=True)\n",
      "<ipython-input-57-44699822fc58>:3: SettingWithCopyWarning: \n",
      "A value is trying to be set on a copy of a slice from a DataFrame.\n",
      "Try using .loc[row_indexer,col_indexer] = value instead\n",
      "\n",
      "See the caveats in the documentation: https://pandas.pydata.org/pandas-docs/stable/user_guide/indexing.html#returning-a-view-versus-a-copy\n",
      "  BigFrame['foreign_gross'] = BigFrame['foreign_gross'].str.replace(',', '')\n",
      "<ipython-input-57-44699822fc58>:4: FutureWarning: The default value of regex will change from True to False in a future version. In addition, single character regular expressions will*not* be treated as literal strings when regex=True.\n",
      "  BigFrame['foreign_gross'] = BigFrame['foreign_gross'].str.replace('.', '')\n",
      "<ipython-input-57-44699822fc58>:4: SettingWithCopyWarning: \n",
      "A value is trying to be set on a copy of a slice from a DataFrame.\n",
      "Try using .loc[row_indexer,col_indexer] = value instead\n",
      "\n",
      "See the caveats in the documentation: https://pandas.pydata.org/pandas-docs/stable/user_guide/indexing.html#returning-a-view-versus-a-copy\n",
      "  BigFrame['foreign_gross'] = BigFrame['foreign_gross'].str.replace('.', '')\n",
      "<ipython-input-57-44699822fc58>:5: SettingWithCopyWarning: \n",
      "A value is trying to be set on a copy of a slice from a DataFrame.\n",
      "Try using .loc[row_indexer,col_indexer] = value instead\n",
      "\n",
      "See the caveats in the documentation: https://pandas.pydata.org/pandas-docs/stable/user_guide/indexing.html#returning-a-view-versus-a-copy\n",
      "  BigFrame['foreign_gross'] = BigFrame['foreign_gross'].astype(np.int64)\n",
      "<ipython-input-57-44699822fc58>:6: SettingWithCopyWarning: \n",
      "A value is trying to be set on a copy of a slice from a DataFrame.\n",
      "Try using .loc[row_indexer,col_indexer] = value instead\n",
      "\n",
      "See the caveats in the documentation: https://pandas.pydata.org/pandas-docs/stable/user_guide/indexing.html#returning-a-view-versus-a-copy\n",
      "  BigFrame['foreign_gross'] = BigFrame['foreign_gross'].sort_values(ascending=False)\n",
      "/Library/Frameworks/Python.framework/Versions/3.9/lib/python3.9/site-packages/pandas/core/generic.py:5494: SettingWithCopyWarning: \n",
      "A value is trying to be set on a copy of a slice from a DataFrame.\n",
      "Try using .loc[row_indexer,col_indexer] = value instead\n",
      "\n",
      "See the caveats in the documentation: https://pandas.pydata.org/pandas-docs/stable/user_guide/indexing.html#returning-a-view-versus-a-copy\n",
      "  self[name] = value\n"
     ]
    }
   ],
   "source": [
    "BigFrame = BigFrame.dropna()\n",
    "BigFrame.dropna(inplace=True)\n",
    "BigFrame['foreign_gross'] = BigFrame['foreign_gross'].str.replace(',', '')\n",
    "BigFrame['foreign_gross'] = BigFrame['foreign_gross'].str.replace('.', '')\n",
    "BigFrame['foreign_gross'] = BigFrame['foreign_gross'].astype(np.int64)\n",
    "BigFrame['foreign_gross'] = BigFrame['foreign_gross'].sort_values(ascending=False)\n",
    "BigFrame.year = BigFrame.year.astype(int)"
   ]
  },
  {
   "cell_type": "code",
   "execution_count": 58,
   "metadata": {},
   "outputs": [],
   "source": [
    "ForeignF = BigFrame.set_index(keys='foreign_gross')\n",
    "DomesticF = BigFrame.set_index(keys='domestic_gross_x')\n",
    "ForeignF['genres'] = ForeignF['genres'].str.split(',')\n",
    "DomesticF['genres'] = DomesticF['genres'].str.split(',')\n",
    "ForeignF = ForeignF.drop(columns=['worldwide_gross'], axis=1).drop(columns='domestic_gross_x')\n",
    "Domestic = DomesticF.drop(columns=['worldwide_gross'], axis=1).drop(columns='foreign_gross')"
   ]
  },
  {
   "cell_type": "code",
   "execution_count": 59,
   "metadata": {},
   "outputs": [],
   "source": [
    "def getgross(g):\n",
    "    listi = []\n",
    "    for k, v in ForeignF['genres'].items():\n",
    "        if g in v:\n",
    "            listi.append(k)\n",
    "    return listi\n",
    "faction = getgross('Action')\n",
    "#faction = np.mean(faction)\n",
    "fcomedy = getgross('Comedy')\n",
    "#fcomedy = np.mean(fcomedy)\n",
    "fadventure = getgross('Adventure')\n",
    "#fadventure = np.mean(fadventure)\n",
    "fthriller = getgross('Thriller')\n",
    "#fthriller = np.mean(fthriller)\n",
    "fcrime = getgross('Crime')\n",
    "#fcrime = np.mean(fcrime)\n",
    "fromance = getgross('Romance')\n",
    "#fromance = np.mean(fromance)\n",
    "fhorror = getgross('Horror')\n",
    "#fhorror = np.mean(fhorror)\n",
    "fscifi = getgross('Sci-Fi')\n",
    "#fscifi = np.mean(fscifi)\n",
    "fbiography = getgross('Biography')\n",
    "#fbiography = np.mean(fbiography)\n",
    "fmystery = getgross('Mystery')\n",
    "#fmystery = np.mean(fmystery)\n",
    "ffamily = getgross('Family')\n",
    "#ffamily = np.mean(ffamily)\n",
    "fmusic = getgross('Music')\n",
    "#fmusic = np.mean(fmusic)\n",
    "fdocumentary = getgross('Documentary')\n",
    "#fdocumentary = np.mean(fdocumentary)\n",
    "\n",
    "mfaction = np.median(faction)\n",
    "mfcomedy = np.median(fcomedy)\n",
    "mfadventure = np.median(fadventure)\n",
    "mfthriller = np.median(fthriller)\n",
    "mfcrime = np.median(fcrime)\n",
    "mfromance = np.median(fromance)\n",
    "mfhorror = np.median(fhorror)\n",
    "mfscifi = np.median(fscifi)\n",
    "mfbiography = np.median(fbiography)\n",
    "mfmystery = np.median(fmystery)\n",
    "mffamily = np.median(ffamily)\n",
    "mfmusic = np.median(fmusic)\n",
    "mfdocumentary = np.median(fdocumentary)"
   ]
  },
  {
   "cell_type": "code",
   "execution_count": 60,
   "metadata": {},
   "outputs": [],
   "source": [
    "ForGrossMed = [mfcomedy, mfaction, mfadventure, mfthriller, mfcrime, mfromance, mfhorror, mfscifi, mfbiography, mfmystery, mffamily, mfmusic, mfdocumentary]"
   ]
  },
  {
   "cell_type": "code",
   "execution_count": 61,
   "metadata": {},
   "outputs": [],
   "source": [
    "ForGrossMed = list(ForGrossMed)"
   ]
  },
  {
   "cell_type": "code",
   "execution_count": 62,
   "metadata": {},
   "outputs": [],
   "source": [
    "def getgross(g):\n",
    "    listi = []\n",
    "    for k, v in DomesticF['genres'].items():\n",
    "        if g in v:\n",
    "            listi.append(k)\n",
    "    return listi\n",
    "daction = getgross('Action')\n",
    "#daction = np.mean(faction)\n",
    "dcomedy = getgross('Comedy')\n",
    "#dcomedy = np.mean(fcomedy)\n",
    "dadventure = getgross('Adventure')\n",
    "#dadventure = np.mean(fadventure)\n",
    "dthriller = getgross('Thriller')\n",
    "#dthriller = np.mean(fthriller)\n",
    "dcrime = getgross('Crime')\n",
    "#dcrime = np.mean(fcrime)\n",
    "dromance = getgross('Romance')\n",
    "#dromance = np.mean(fromance)\n",
    "dhorror = getgross('Horror')\n",
    "#dhorror = np.mean(fhorror)\n",
    "dscifi = getgross('Sci-Fi')\n",
    "#dscifi = np.mean(fscifi)\n",
    "dbiography = getgross('Biography')\n",
    "#dbiography = np.mean(fbiography)\n",
    "dmystery = getgross('Mystery')\n",
    "#dmystery = np.mean(fmystery)\n",
    "dfamily = getgross('Family')\n",
    "#dfamily = np.mean(ffamily)\n",
    "dmusic = getgross('Music')\n",
    "#dmusic = np.mean(fmusic)\n",
    "ddocumentary = getgross('Documentary')\n",
    "#ddocumentary = np.mean(fdocumentary)\n",
    "\n",
    "mdaction = np.median(daction)\n",
    "mdcomedy = np.median(dcomedy)\n",
    "mdadventure = np.median(dadventure)\n",
    "mdthriller = np.median(dthriller)\n",
    "mdcrime = np.median(dcrime)\n",
    "mdromance = np.median(dromance)\n",
    "mdhorror = np.median(dhorror)\n",
    "mdscifi = np.median(dscifi)\n",
    "mdbiography = np.median(dbiography)\n",
    "mdmystery = np.median(dmystery)\n",
    "mdfamily = np.median(dfamily)\n",
    "mdmusic = np.median(dmusic)\n",
    "mddocumentary = np.median(ddocumentary)\n"
   ]
  },
  {
   "cell_type": "code",
   "execution_count": 63,
   "metadata": {},
   "outputs": [],
   "source": [
    "DomGrossMed = [mdcomedy, mdaction, mdadventure, mdthriller, mdcrime, mdromance, mdhorror, mdscifi, mdbiography, mdmystery, mdfamily, mdmusic, mddocumentary]"
   ]
  },
  {
   "cell_type": "code",
   "execution_count": 64,
   "metadata": {},
   "outputs": [],
   "source": [
    "DomGrossMed = list(DomGrossMed)"
   ]
  },
  {
   "cell_type": "code",
   "execution_count": 65,
   "metadata": {},
   "outputs": [],
   "source": [
    "action = 0\n",
    "for genre in BigFrame['genres']:\n",
    "    if 'Action' in genre:\n",
    "        action += 1\n",
    "adventure = 0\n",
    "for genre in BigFrame['genres']:\n",
    "    if 'Adventure' in genre:\n",
    "        adventure += 1\n",
    "fantasy = 0\n",
    "for genre in BigFrame['genres']:\n",
    "    if 'Fantasy' in genre:\n",
    "        fantasy += 1\n",
    "scifi = 0\n",
    "for genre in BigFrame['genres']:\n",
    "    if 'Sci' in genre:\n",
    "        scifi += 1\n",
    "thriller = 0\n",
    "for genre in BigFrame['genres']:\n",
    "    if 'Thriller' in genre:\n",
    "        thriller += 1\n",
    "romance = 0\n",
    "for genre in BigFrame['genres']:\n",
    "    if 'Romance' in genre:\n",
    "        romance += 1\n",
    "comedy = 0\n",
    "for genre in BigFrame['genres']:\n",
    "    if 'Comedy' in genre:\n",
    "        comedy += 1\n",
    "music = 0\n",
    "for genre in BigFrame['genres']:\n",
    "    if 'Music' in genre:\n",
    "        music += 1\n",
    "biography = 0\n",
    "for genre in BigFrame['genres']:\n",
    "    if 'Biography' in genre:\n",
    "        biography += 1\n",
    "horror = 0\n",
    "for genre in BigFrame['genres']:\n",
    "    if 'Horror' in genre:\n",
    "        horror += 1\n",
    "mystery = 0\n",
    "for genre in BigFrame['genres']:\n",
    "    if 'Mystery' in genre:\n",
    "        mystery += 1\n",
    "documentary = 0\n",
    "for genre in BigFrame['genres']:\n",
    "    if 'Documentary' in genre:\n",
    "        documentary += 1\n",
    "crime = 0\n",
    "for genre in BigFrame['genres']:\n",
    "    if 'Crime' in genre:\n",
    "        crime += 1\n",
    "family = 0\n",
    "for genre in BigFrame['genres']:\n",
    "    if 'Family' in genre:\n",
    "        family += 1\n",
    "        \n",
    "        \n",
    "Genres = [comedy, action, adventure, thriller, crime, romance, horror, scifi, biography, mystery, family, music, documentary]\n",
    "Genres_i = ['Comedy', 'Action', 'Adventure', 'Thriller', 'Crime', 'Romance', 'Horror', 'Scifi', 'Biography', 'Mystery', 'Family', 'Music', 'Documentary']\n",
    "Genres_d = ['Comedy', 'Action', 'Adventure', 'Thriller', 'Crime', 'Romance', 'Horror', 'Scifi', 'Biography', 'Mystery', 'Family', 'Music', 'Documentary']"
   ]
  },
  {
   "cell_type": "code",
   "execution_count": 66,
   "metadata": {},
   "outputs": [
    {
     "data": {
      "image/png": "[encoded data removed]",
      "text/plain": [
       "<Figure size 432x288 with 1 Axes>"
      ]
     },
     "metadata": {
      "needs_background": "light"
     },
     "output_type": "display_data"
    }
   ],
   "source": [
    "\n",
    "fig, ax = plt.subplots()\n",
    "\n",
    "ax.bar(x=Genres_i, height=DomGrossMed,  color='Red')\n",
    "ax.tick_params(axis='x', rotation=45);\n",
    "ax.set_title('Domestic Gross')\n",
    "ax.set_ylabel('Median Gross Amount')\n",
    "ax.set_xlabel('Genres');"
   ]
  },
  {
   "cell_type": "code",
   "execution_count": 67,
   "metadata": {},
   "outputs": [
    {
     "data": {
      "image/png": "[encoded data removed]",
      "text/plain": [
       "<Figure size 432x288 with 1 Axes>"
      ]
     },
     "metadata": {
      "needs_background": "light"
     },
     "output_type": "display_data"
    }
   ],
   "source": [
    "fig, ax = plt.subplots()\n",
    "ax.bar(x=Genres_d, height=ForGrossMed,  color='Blue')\n",
    "ax.tick_params(axis='x', rotation=45)\n",
    "ax.set_title('Foreign Gross')\n",
    "ax.set_ylabel('Median Gross Amount')\n",
    "ax.set_xlabel('Genres');"
   ]
  },
  {
   "cell_type": "code",
   "execution_count": 68,
   "metadata": {},
   "outputs": [
    {
     "data": {
      "image/png": "[encoded data removed]",
      "text/plain": [
       "<Figure size 1080x720 with 1 Axes>"
      ]
     },
     "metadata": {
      "needs_background": "light"
     },
     "output_type": "display_data"
    }
   ],
   "source": [
    "fig, ax = plt.subplots(figsize=(15, 10))\n",
    "sns.barplot(x=Genres_i, y=Genres)\n",
    "ax.tick_params(axis='x', rotation=45)"
   ]
  },
  {
   "cell_type": "code",
   "execution_count": 69,
   "metadata": {},
   "outputs": [],
   "source": [
    "df8mask = df8.drop(columns=['director', 'writer', 'studio', 'synopsis', 'id'])\n",
    "df8mask = df8mask.dropna()\n",
    "df8mask['box_office'] = df8mask['box_office'].str.replace(',', '').astype(int)\n",
    "df8mask = df8mask.set_index('box_office')\n",
    "df8mask = df8mask.sort_index(ascending=False)\n",
    "genre = df8mask.iloc[:12]['genre'].values\n",
    "boxoffice = df8mask.iloc[:12]['genre'].index"
   ]
  },
  {
   "cell_type": "markdown",
   "metadata": {},
   "source": [
    "## Data Modeling\n",
    "Describe and justify the process for analyzing or modeling the data.\n",
    "\n",
    "***\n",
    "Questions to consider:\n",
    "* How did you analyze or model the data?\n",
    "* How did you iterate on your initial approach to make it better?\n",
    "* Why are these choices appropriate given the data and the business problem?\n",
    "***"
   ]
  },
  {
   "cell_type": "code",
   "execution_count": 70,
   "metadata": {},
   "outputs": [
    {
     "data": {
      "image/png": "[encoded data removed]",
      "text/plain": [
       "<Figure size 1080x576 with 1 Axes>"
      ]
     },
     "metadata": {
      "needs_background": "light"
     },
     "output_type": "display_data"
    }
   ],
   "source": [
    "f, ax = plt.subplots(figsize=(15, 8))\n",
    "sns.barplot(x=boxoffice, y=genre);\n",
    "ax.set_title('Top 10 Box Office Movies and their Genres')\n",
    "ax.set_xlabel('Box Office (Hundredth Million)');"
   ]
  },
  {
   "cell_type": "code",
   "execution_count": 71,
   "metadata": {},
   "outputs": [],
   "source": [
    "df8mask = df8mask.sort_index(ascending=True)\n",
    "genre2 = df8mask.iloc[:12]['genre'].values\n",
    "boxoffice2 = df8mask.iloc[:12]['genre'].index"
   ]
  },
  {
   "cell_type": "code",
   "execution_count": 72,
   "metadata": {},
   "outputs": [
    {
     "data": {
      "image/png": "[encoded data removed]",
      "text/plain": [
       "<Figure size 1080x576 with 1 Axes>"
      ]
     },
     "metadata": {
      "needs_background": "light"
     },
     "output_type": "display_data"
    }
   ],
   "source": [
    "f, ax = plt.subplots(figsize=(15, 8))\n",
    "sns.barplot(x=boxoffice2, y=genre2)\n",
    "ax.tick_params(axis='x', rotation=90);\n",
    "ax.set_title('Bottom 10 Box Office Movies and their Genres');\n",
    "ax.set_xlabel('Box Office (Thousands)');"
   ]
  },
  {
   "cell_type": "markdown",
   "metadata": {},
   "source": [
    "## Evaluation\n",
    "Evaluate how well your work solves the stated business problem.\n",
    "\n",
    "***\n",
    "Questions to consider:\n",
    "* How do you interpret the results?\n",
    "* How well does your model fit your data? How much better is this than your baseline model?\n",
    "* How confident are you that your results would generalize beyond the data you have?\n",
    "* How confident are you that this model would benefit the business if put into use?\n",
    "***"
   ]
  },
  {
   "cell_type": "markdown",
   "metadata": {},
   "source": [
    "## Conclusions\n",
    "Provide your conclusions about the work you've done, including any limitations or next steps.\n",
    "\n",
    "***\n",
    "Questions to consider:\n",
    "* What would you recommend the business do as a result of this work?\n",
    "* What are some reasons why your analysis might not fully solve the business problem?\n",
    "* What else could you do in the future to improve this project?\n",
    "***"
   ]
  }
 ],
 "metadata": {
  "kernelspec": {
   "display_name": "Python 3",
   "language": "python",
   "name": "python3"
  },
  "language_info": {
   "codemirror_mode": {
    "name": "ipython",
    "version": 3
   },
   "file_extension": ".py",
   "mimetype": "text/x-python",
   "name": "python",
   "nbconvert_exporter": "python",
   "pygments_lexer": "ipython3",
   "version": "3.8.8"
  }
 },
 "nbformat": 4,
 "nbformat_minor": 4
}
