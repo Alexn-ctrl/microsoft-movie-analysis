{
 "cells": [
  {
   "cell_type": "markdown",
   "metadata": {},
   "source": [
    "![example](images/director_shot.jpeg)"
   ]
  },
  {
   "cell_type": "markdown",
   "metadata": {},
   "source": [
    "# Project Title\n",
    "\n",
    "**Authors:** Chris Helmerson, Nick Kennedy, Samira Chatrathi\n",
    "***"
   ]
  },
  {
   "cell_type": "markdown",
   "metadata": {},
   "source": [
    "## Overview\n",
    "\n",
    "In this project\n",
    " one-paragraph overview of the project, including the business problem, data, methods, results and recommendations."
   ]
  },
  {
   "cell_type": "markdown",
   "metadata": {},
   "source": [
    "## Business Problem\n",
    "\n",
    "Summary of the business problem you are trying to solve, and the data questions that you plan to answer to solve them.\n",
    "\n",
    "***\n",
    "Questions to consider:\n",
    "* What are the business's pain points related to this project?\n",
    "* How did you pick the data analysis question(s) that you did?\n",
    "* Why are these questions important from a business perspective?\n",
    "***"
   ]
  },
  {
   "cell_type": "markdown",
   "metadata": {},
   "source": [
    "## Data Understanding\n",
    "\n",
    "Describe the data being used for this project.\n",
    "***\n",
    "Questions to consider:\n",
    "* Where did the data come from, and how do they relate to the data analysis questions?\n",
    "* What do the data represent? Who is in the sample and what variables are included?\n",
    "* What is the target variable?\n",
    "* What are the properties of the variables you intend to use?\n",
    "***"
   ]
  },
  {
   "cell_type": "code",
   "execution_count": 1,
   "metadata": {},
   "outputs": [],
   "source": [
    "# Import standard packages\n",
    "import pandas as pd\n",
    "import numpy as np\n",
    "import matplotlib.pyplot as plt\n",
    "import seaborn as sns\n",
    "\n",
    "%matplotlib inline"
   ]
  },
  {
   "cell_type": "code",
   "execution_count": 2,
   "metadata": {},
   "outputs": [],
   "source": [
    "# Load file\n",
    "df = pd.read_csv('tn.movie_budgets.csv')\n",
    "\n",
    "# Remove \"$\" and \",\" from production_budget columns & convert to millions\n",
    "df['production_budget'] = df['production_budget'].str.replace(' ', '')\n",
    "df['production_budget'] = df['production_budget'].str.replace('$', '')\n",
    "df['production_budget'] = df['production_budget'].str.replace(',', '')\n",
    "df['production_budget'] = df['production_budget'].str[:-6]\n",
    "\n",
    "# Remove \"$\" and \",\" from domestic_gross columns & convert to millions\n",
    "df['domestic_gross'] = df['domestic_gross'].str.replace(' ', '')\n",
    "df['domestic_gross'] = df['domestic_gross'].str.replace('$', '')\n",
    "df['domestic_gross'] = df['domestic_gross'].str.replace(',', '')\n",
    "df['domestic_gross'] = df['domestic_gross'].str[:-6]\n",
    "\n",
    "# Remove \"$\" and \",\" from worldwide_gross columns & convert to millions\n",
    "df['worldwide_gross'] = df['worldwide_gross'].str.replace(' ', '')\n",
    "df['worldwide_gross'] = df['worldwide_gross'].str.replace('$', '')\n",
    "df['worldwide_gross'] = df['worldwide_gross'].str.replace(',', '')\n",
    "df['worldwide_gross'] = df['worldwide_gross'].str[:-6]\n",
    "\n",
    "# Filter blank strings\n",
    "df = df[df.production_budget != '']\n",
    "df = df[df.worldwide_gross != '']\n",
    "df = df[df.domestic_gross != '']\n",
    "\n",
    "# Change figures from str to int class type\n",
    "df['production_budget'] = df['production_budget'].astype(int)\n",
    "df['domestic_gross'] = df['domestic_gross'].astype(int)\n",
    "df['worldwide_gross'] = df['worldwide_gross'].astype(int)\n",
    "\n",
    "# Create international_gross col\n",
    "df['international_gross'] = df['worldwide_gross'] - df['domestic_gross']\n",
    "\n",
    "# Filter international_gross\n",
    "## possibly remove\n",
    "df = df[df.international_gross != 0]\n",
    "\n",
    "df\n",
    "\n",
    "\n",
    "\n",
    "\n",
    "\n",
    "\n"
   ]
  },
  {
   "cell_type": "code",
   "execution_count": null,
   "metadata": {},
   "outputs": [],
   "source": [
    "#Create copy of df\n",
    "useful_columns = ['Movie', 'Genre', 'Production_Budget', 'Domestic_Gross', 'International_Gross', 'Worldwide_Gross']\n",
    "same_title_list = []\n",
    "\n",
    "#combined_df = pd.DataFrame(columns=useful_columns)\n",
    "combined_df = [useful_columns]\n",
    "\n",
    "#convert both title columns to lists for conversion later\n",
    "genre_title_list = genre_df['title'].tolist()\n",
    "gross_title_list = df['movie'].tolist()\n",
    "\n",
    "#Create duplicate title list\n",
    "for title in genre_title_list:\n",
    "    for movie in gross_title_list:\n",
    "        if title == movie:\n",
    "            same_title_list.append(title)\n",
    "        else:\n",
    "            continue\n",
    "\n",
    "#convert same_title_list to DF?\n",
    "            \n",
    "#pd.DataFrame(d)\n",
    "\n",
    "#Add genre_ids to combined_df\n",
    "#if df['movie'] == genre_df['title']:\n",
    "    \n",
    "print(len(same_title_list))"
   ]
  },
  {
   "cell_type": "code",
   "execution_count": null,
   "metadata": {},
   "outputs": [],
   "source": [
    "for title in :\n",
    "    d.append(\n",
    "        {\n",
    "            'Player': p,\n",
    "            'Team': p.team,\n",
    "            'Passer Rating':  p.passer_rating()\n",
    "        }\n",
    "    )"
   ]
  },
  {
   "cell_type": "markdown",
   "metadata": {},
   "source": [
    "## Data Preparation\n",
    "\n",
    "Describe and justify the process for preparing the data for analysis.\n",
    "\n",
    "***\n",
    "Questions to consider:\n",
    "* Were there variables you dropped or created?\n",
    "* How did you address missing values or outliers?\n",
    "* Why are these choices appropriate given the data and the business problem?\n",
    "***"
   ]
  },
  {
   "cell_type": "code",
   "execution_count": 6,
   "metadata": {},
   "outputs": [],
   "source": [
    "# Here we decided to add a boolean to see the difference between \n",
    "\n",
    "for x in imdb_genres:\n",
    "    tn_fixednum_df[x] = (tn_fixednum_df['genres'].str.contains(x))\n",
    "\n",
    "\n",
    "\n",
    "\n"
   ]
  },
  {
   "cell_type": "code",
   "execution_count": null,
   "metadata": {},
   "outputs": [],
   "source": []
  },
  {
   "cell_type": "markdown",
   "metadata": {},
   "source": [
    "## Data Modeling\n",
    "Describe and justify the process for analyzing or modeling the data.\n",
    "\n",
    "***\n",
    "Questions to consider:\n",
    "* How did you analyze or model the data?\n",
    "* How did you iterate on your initial approach to make it better?\n",
    "* Why are these choices appropriate given the data and the business problem?\n",
    "***"
   ]
  },
  {
   "cell_type": "code",
   "execution_count": null,
   "metadata": {},
   "outputs": [],
   "source": [
    "# Here we made our x value = action\n",
    "#bom_genres_1_df['Action'] = (bom_genres_1_df['genre_imdb'].str.contains('Action'))\n",
    "for x in imdb_genres:\n",
    "    tn_fixednum_df[x] = (tn_fixednum_df['genres'].str.contains(x)\n",
    "\n",
    "tn_fixednum_df.head()\n",
    "\n",
    "\n",
    "\n"
   ]
  },
  {
   "cell_type": "markdown",
   "metadata": {},
   "source": [
    "## Evaluation\n",
    "Evaluate how well your work solves the stated business problem.\n",
    "\n",
    "***\n",
    "Questions to consider:\n",
    "* How do you interpret the results?\n",
    "* How well does your model fit your data? How much better is this than your baseline model?\n",
    "* How confident are you that your results would generalize beyond the data you have?\n",
    "* How confident are you that this model would benefit the business if put into use?\n",
    "***"
   ]
  },
  {
   "cell_type": "markdown",
   "metadata": {},
   "source": [
    "## Conclusions\n",
    "Provide your conclusions about the work you've done, including any limitations or next steps.\n",
    "\n",
    "***\n",
    "Questions to consider:\n",
    "* What would you recommend the business do as a result of this work?\n",
    "* What are some reasons why your analysis might not fully solve the business problem?\n",
    "* What else could you do in the future to improve this project?\n",
    "***"
   ]
  }
 ],
 "metadata": {
  "kernelspec": {
   "display_name": "Python 3",
   "language": "python",
   "name": "python3"
  },
  "language_info": {
   "codemirror_mode": {
    "name": "ipython",
    "version": 3
   },
   "file_extension": ".py",
   "mimetype": "text/x-python",
   "name": "python",
   "nbconvert_exporter": "python",
   "pygments_lexer": "ipython3",
   "version": "3.7.6"
  }
 },
 "nbformat": 4,
 "nbformat_minor": 4
}
