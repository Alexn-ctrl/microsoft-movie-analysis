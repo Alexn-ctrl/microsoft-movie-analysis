{
 "cells": [
  {
   "cell_type": "code",
   "execution_count": 62,
   "metadata": {},
   "outputs": [],
   "source": [
    "import pandas as pd\n",
    "import matplotlib.pyplot as plt\n",
    "%matplotlib inline\n",
    "import gzip\n",
    "import sqlite3\n",
    "import csv\n",
    "import numpy as np\n",
    "import seaborn as sns"
   ]
  },
  {
   "cell_type": "code",
   "execution_count": 63,
   "metadata": {},
   "outputs": [],
   "source": [
    "df1 = pd.read_csv('bom.movie_gross.csv.gz')\n",
    "df1 = df1.rename(columns = {'title':'movie'})"
   ]
  },
  {
   "cell_type": "code",
   "execution_count": 64,
   "metadata": {},
   "outputs": [],
   "source": [
    "df2 = pd.read_csv('imdb.name.basics.csv.gz')"
   ]
  },
  {
   "cell_type": "code",
   "execution_count": 65,
   "metadata": {
    "tags": []
   },
   "outputs": [],
   "source": [
    "df3 = pd.read_csv('imdb.title.akas.csv.gz')\n",
    "df3 = df3.rename(columns = {'title':'movie'})"
   ]
  },
  {
   "cell_type": "code",
   "execution_count": 66,
   "metadata": {},
   "outputs": [],
   "source": [
    "df4 = pd.read_csv('imdb.title.basics.csv.gz')\n",
    "df4 = df4.rename(columns = {'primary_title':'movie'})"
   ]
  },
  {
   "cell_type": "code",
   "execution_count": 67,
   "metadata": {},
   "outputs": [],
   "source": [
    "df5 = pd.read_csv('imdb.title.crew.csv.gz')"
   ]
  },
  {
   "cell_type": "code",
   "execution_count": 68,
   "metadata": {
    "scrolled": true
   },
   "outputs": [],
   "source": [
    "df6 = pd.read_csv('imdb.title.principals.csv.gz')"
   ]
  },
  {
   "cell_type": "code",
   "execution_count": 69,
   "metadata": {},
   "outputs": [],
   "source": [
    "df7 = pd.read_csv('imdb.title.ratings.csv.gz')"
   ]
  },
  {
   "cell_type": "code",
   "execution_count": 70,
   "metadata": {},
   "outputs": [],
   "source": [
    "df8 = pd.read_csv('rt.movie_info.tsv.gz', sep='\\t')"
   ]
  },
  {
   "cell_type": "code",
   "execution_count": 71,
   "metadata": {},
   "outputs": [],
   "source": [
    "df9 = pd.read_csv('rt.reviews.tsv.gz', sep='\\t', encoding='windows-1254')\n",
    "con9 = sqlite3.connect('rt.reviews.tsv.gz')\n",
    "df9 = df9.set_index('id')"
   ]
  },
  {
   "cell_type": "code",
   "execution_count": 72,
   "metadata": {},
   "outputs": [],
   "source": [
    "df10 = pd.read_csv('tmdb.movies.csv.gz')\n",
    "con10 = sqlite3.connect('tmdb.movies.csv.gz')\n",
    "df10 = df10.set_index(['Unnamed: 0'])\n",
    "df10 = df10.rename(columns = {'title':'movie'})\n",
    "df10['movie'] = str(df10['movie'])"
   ]
  },
  {
   "cell_type": "code",
   "execution_count": 73,
   "metadata": {},
   "outputs": [],
   "source": [
    "df11 = pd.read_csv('tn.movie_budgets.csv.gz')\n",
    "df11['worldwide_gross'] = df11['worldwide_gross'].str[1:]\n",
    "df11['worldwide_gross'] = df11['worldwide_gross'].str.replace(',', '').astype(np.int64)\n",
    "df11['domestic_gross'] = df11['domestic_gross'].str[1:]\n",
    "df11['domestic_gross'] = df11['domestic_gross'].str.replace(',', '').astype(np.int64)\n",
    "df11['production_budget'] = df11['production_budget'].str[1:]\n",
    "df11['production_budget'] = df11['production_budget'].str.replace(',', '').astype(np.int64)"
   ]
  },
  {
   "cell_type": "code",
   "execution_count": 74,
   "metadata": {},
   "outputs": [
    {
     "name": "stdout",
     "output_type": "stream",
     "text": [
      "DF1: Index(['movie', 'studio', 'domestic_gross', 'foreign_gross', 'year'], dtype='object') \n",
      "\n",
      "DF3:  Index(['title_id', 'ordering', 'movie', 'region', 'language', 'types',\n",
      "       'attributes', 'is_original_title'],\n",
      "      dtype='object') \n",
      "\n",
      "DF4:  Index(['tconst', 'movie', 'original_title', 'start_year', 'runtime_minutes',\n",
      "       'genres'],\n",
      "      dtype='object') \n",
      "\n",
      "DF7:  Index(['tconst', 'averagerating', 'numvotes'], dtype='object') \n",
      "\n",
      "DF8:  Index(['id', 'synopsis', 'rating', 'genre', 'director', 'writer',\n",
      "       'theater_date', 'dvd_date', 'currency', 'box_office', 'runtime',\n",
      "       'studio'],\n",
      "      dtype='object') \n",
      "\n",
      "DF9:  Index(['review', 'rating', 'fresh', 'critic', 'top_critic', 'publisher',\n",
      "       'date'],\n",
      "      dtype='object') \n",
      "\n",
      "DF10:  Index(['genre_ids', 'id', 'original_language', 'original_title', 'popularity',\n",
      "       'release_date', 'movie', 'vote_average', 'vote_count'],\n",
      "      dtype='object') \n",
      "\n",
      "DF11:  Index(['id', 'release_date', 'movie', 'production_budget', 'domestic_gross',\n",
      "       'worldwide_gross'],\n",
      "      dtype='object') \n",
      "\n"
     ]
    }
   ],
   "source": [
    "print('DF1:', df1.columns, '\\n')\n",
    "print('DF3: ', df3.columns, '\\n')\n",
    "print('DF4: ', df4.columns, '\\n')\n",
    "print('DF7: ', df7.columns, '\\n')\n",
    "print('DF8: ', df8.columns, '\\n')\n",
    "print('DF9: ', df9.columns, '\\n')\n",
    "print('DF10: ', df10.columns, '\\n')\n",
    "print('DF11: ', df11.columns, '\\n')"
   ]
  },
  {
   "cell_type": "code",
   "execution_count": 75,
   "metadata": {},
   "outputs": [],
   "source": [
    "production = df11[df11.production_budget < 1000000].index"
   ]
  },
  {
   "cell_type": "code",
   "execution_count": 76,
   "metadata": {},
   "outputs": [],
   "source": [
    "df11.drop(production, inplace=True)"
   ]
  },
  {
   "cell_type": "code",
   "execution_count": 77,
   "metadata": {},
   "outputs": [],
   "source": [
    "domestic = df11[df11.domestic_gross < 1].index"
   ]
  },
  {
   "cell_type": "code",
   "execution_count": 78,
   "metadata": {},
   "outputs": [],
   "source": [
    "df11.drop(domestic, inplace=True)"
   ]
  },
  {
   "cell_type": "code",
   "execution_count": 79,
   "metadata": {},
   "outputs": [],
   "source": [
    "worldwide = df11[df11.worldwide_gross < 1].index\n",
    "df11.drop(worldwide, inplace=True)"
   ]
  },
  {
   "cell_type": "code",
   "execution_count": 80,
   "metadata": {},
   "outputs": [
    {
     "data": {
      "text/html": [
       "<div>\n",
       "<style scoped>\n",
       "    .dataframe tbody tr th:only-of-type {\n",
       "        vertical-align: middle;\n",
       "    }\n",
       "\n",
       "    .dataframe tbody tr th {\n",
       "        vertical-align: top;\n",
       "    }\n",
       "\n",
       "    .dataframe thead th {\n",
       "        text-align: right;\n",
       "    }\n",
       "</style>\n",
       "<table border=\"1\" class=\"dataframe\">\n",
       "  <thead>\n",
       "    <tr style=\"text-align: right;\">\n",
       "      <th></th>\n",
       "      <th>id</th>\n",
       "      <th>release_date</th>\n",
       "      <th>production_budget</th>\n",
       "      <th>domestic_gross</th>\n",
       "      <th>worldwide_gross</th>\n",
       "    </tr>\n",
       "    <tr>\n",
       "      <th>movie</th>\n",
       "      <th></th>\n",
       "      <th></th>\n",
       "      <th></th>\n",
       "      <th></th>\n",
       "      <th></th>\n",
       "    </tr>\n",
       "  </thead>\n",
       "  <tbody>\n",
       "    <tr>\n",
       "      <th>Avatar</th>\n",
       "      <td>1</td>\n",
       "      <td>Dec 18, 2009</td>\n",
       "      <td>425000000</td>\n",
       "      <td>760507625</td>\n",
       "      <td>2776345279</td>\n",
       "    </tr>\n",
       "    <tr>\n",
       "      <th>Pirates of the Caribbean: On Stranger Tides</th>\n",
       "      <td>2</td>\n",
       "      <td>May 20, 2011</td>\n",
       "      <td>410600000</td>\n",
       "      <td>241063875</td>\n",
       "      <td>1045663875</td>\n",
       "    </tr>\n",
       "    <tr>\n",
       "      <th>Dark Phoenix</th>\n",
       "      <td>3</td>\n",
       "      <td>Jun 7, 2019</td>\n",
       "      <td>350000000</td>\n",
       "      <td>42762350</td>\n",
       "      <td>149762350</td>\n",
       "    </tr>\n",
       "    <tr>\n",
       "      <th>Avengers: Age of Ultron</th>\n",
       "      <td>4</td>\n",
       "      <td>May 1, 2015</td>\n",
       "      <td>330600000</td>\n",
       "      <td>459005868</td>\n",
       "      <td>1403013963</td>\n",
       "    </tr>\n",
       "    <tr>\n",
       "      <th>Star Wars Ep. VIII: The Last Jedi</th>\n",
       "      <td>5</td>\n",
       "      <td>Dec 15, 2017</td>\n",
       "      <td>317000000</td>\n",
       "      <td>620181382</td>\n",
       "      <td>1316721747</td>\n",
       "    </tr>\n",
       "    <tr>\n",
       "      <th>...</th>\n",
       "      <td>...</td>\n",
       "      <td>...</td>\n",
       "      <td>...</td>\n",
       "      <td>...</td>\n",
       "      <td>...</td>\n",
       "    </tr>\n",
       "    <tr>\n",
       "      <th>Sparkler</th>\n",
       "      <td>95</td>\n",
       "      <td>Mar 19, 1999</td>\n",
       "      <td>1000000</td>\n",
       "      <td>5494</td>\n",
       "      <td>5494</td>\n",
       "    </tr>\n",
       "    <tr>\n",
       "      <th>The Helixâ¦Loaded</th>\n",
       "      <td>96</td>\n",
       "      <td>Mar 18, 2005</td>\n",
       "      <td>1000000</td>\n",
       "      <td>3700</td>\n",
       "      <td>3700</td>\n",
       "    </tr>\n",
       "    <tr>\n",
       "      <th>Childless</th>\n",
       "      <td>97</td>\n",
       "      <td>May 15, 2015</td>\n",
       "      <td>1000000</td>\n",
       "      <td>1036</td>\n",
       "      <td>1036</td>\n",
       "    </tr>\n",
       "    <tr>\n",
       "      <th>In Her Line of Fire</th>\n",
       "      <td>98</td>\n",
       "      <td>Apr 21, 2006</td>\n",
       "      <td>1000000</td>\n",
       "      <td>884</td>\n",
       "      <td>884</td>\n",
       "    </tr>\n",
       "    <tr>\n",
       "      <th>The Jimmy Show</th>\n",
       "      <td>99</td>\n",
       "      <td>Dec 13, 2002</td>\n",
       "      <td>1000000</td>\n",
       "      <td>703</td>\n",
       "      <td>703</td>\n",
       "    </tr>\n",
       "  </tbody>\n",
       "</table>\n",
       "<p>4930 rows × 5 columns</p>\n",
       "</div>"
      ],
      "text/plain": [
       "                                             id  release_date  \\\n",
       "movie                                                           \n",
       "Avatar                                        1  Dec 18, 2009   \n",
       "Pirates of the Caribbean: On Stranger Tides   2  May 20, 2011   \n",
       "Dark Phoenix                                  3   Jun 7, 2019   \n",
       "Avengers: Age of Ultron                       4   May 1, 2015   \n",
       "Star Wars Ep. VIII: The Last Jedi             5  Dec 15, 2017   \n",
       "...                                          ..           ...   \n",
       "Sparkler                                     95  Mar 19, 1999   \n",
       "The Helixâ¦Loaded                           96  Mar 18, 2005   \n",
       "Childless                                    97  May 15, 2015   \n",
       "In Her Line of Fire                          98  Apr 21, 2006   \n",
       "The Jimmy Show                               99  Dec 13, 2002   \n",
       "\n",
       "                                             production_budget  \\\n",
       "movie                                                            \n",
       "Avatar                                               425000000   \n",
       "Pirates of the Caribbean: On Stranger Tides          410600000   \n",
       "Dark Phoenix                                         350000000   \n",
       "Avengers: Age of Ultron                              330600000   \n",
       "Star Wars Ep. VIII: The Last Jedi                    317000000   \n",
       "...                                                        ...   \n",
       "Sparkler                                               1000000   \n",
       "The Helixâ¦Loaded                                     1000000   \n",
       "Childless                                              1000000   \n",
       "In Her Line of Fire                                    1000000   \n",
       "The Jimmy Show                                         1000000   \n",
       "\n",
       "                                             domestic_gross  worldwide_gross  \n",
       "movie                                                                         \n",
       "Avatar                                            760507625       2776345279  \n",
       "Pirates of the Caribbean: On Stranger Tides       241063875       1045663875  \n",
       "Dark Phoenix                                       42762350        149762350  \n",
       "Avengers: Age of Ultron                           459005868       1403013963  \n",
       "Star Wars Ep. VIII: The Last Jedi                 620181382       1316721747  \n",
       "...                                                     ...              ...  \n",
       "Sparkler                                               5494             5494  \n",
       "The Helixâ¦Loaded                                     3700             3700  \n",
       "Childless                                              1036             1036  \n",
       "In Her Line of Fire                                     884              884  \n",
       "The Jimmy Show                                          703              703  \n",
       "\n",
       "[4930 rows x 5 columns]"
      ]
     },
     "execution_count": 80,
     "metadata": {},
     "output_type": "execute_result"
    }
   ],
   "source": [
    "df11.set_index('movie')"
   ]
  },
  {
   "cell_type": "code",
   "execution_count": 81,
   "metadata": {
    "tags": []
   },
   "outputs": [],
   "source": [
    "BigFrame = df11.merge(df1, on='movie').merge(df4, on='movie').drop(columns=['tconst', 'original_title', 'start_year', 'id', 'domestic_gross_y'])"
   ]
  },
  {
   "cell_type": "code",
   "execution_count": 82,
   "metadata": {},
   "outputs": [
    {
     "data": {
      "text/plain": [
       "Index(['release_date', 'production_budget', 'domestic_gross_x',\n",
       "       'worldwide_gross', 'studio', 'foreign_gross', 'year', 'runtime_minutes',\n",
       "       'genres'],\n",
       "      dtype='object')"
      ]
     },
     "execution_count": 82,
     "metadata": {},
     "output_type": "execute_result"
    }
   ],
   "source": [
    "BigFrame = BigFrame.drop_duplicates(subset='movie').set_index('movie')\n",
    "BigFrame.keys()"
   ]
  },
  {
   "cell_type": "code",
   "execution_count": 83,
   "metadata": {},
   "outputs": [
    {
     "data": {
      "text/html": [
       "<div>\n",
       "<style scoped>\n",
       "    .dataframe tbody tr th:only-of-type {\n",
       "        vertical-align: middle;\n",
       "    }\n",
       "\n",
       "    .dataframe tbody tr th {\n",
       "        vertical-align: top;\n",
       "    }\n",
       "\n",
       "    .dataframe thead th {\n",
       "        text-align: right;\n",
       "    }\n",
       "</style>\n",
       "<table border=\"1\" class=\"dataframe\">\n",
       "  <thead>\n",
       "    <tr style=\"text-align: right;\">\n",
       "      <th></th>\n",
       "      <th>release_date</th>\n",
       "      <th>production_budget</th>\n",
       "      <th>domestic_gross_x</th>\n",
       "      <th>worldwide_gross</th>\n",
       "      <th>studio</th>\n",
       "      <th>foreign_gross</th>\n",
       "      <th>year</th>\n",
       "      <th>runtime_minutes</th>\n",
       "      <th>genres</th>\n",
       "    </tr>\n",
       "    <tr>\n",
       "      <th>movie</th>\n",
       "      <th></th>\n",
       "      <th></th>\n",
       "      <th></th>\n",
       "      <th></th>\n",
       "      <th></th>\n",
       "      <th></th>\n",
       "      <th></th>\n",
       "      <th></th>\n",
       "      <th></th>\n",
       "    </tr>\n",
       "  </thead>\n",
       "  <tbody>\n",
       "    <tr>\n",
       "      <th>Pirates of the Caribbean: On Stranger Tides</th>\n",
       "      <td>May 20, 2011</td>\n",
       "      <td>410600000</td>\n",
       "      <td>241063875</td>\n",
       "      <td>1045663875</td>\n",
       "      <td>BV</td>\n",
       "      <td>804600000</td>\n",
       "      <td>2011</td>\n",
       "      <td>136.0</td>\n",
       "      <td>Action,Adventure,Fantasy</td>\n",
       "    </tr>\n",
       "    <tr>\n",
       "      <th>Avengers: Age of Ultron</th>\n",
       "      <td>May 1, 2015</td>\n",
       "      <td>330600000</td>\n",
       "      <td>459005868</td>\n",
       "      <td>1403013963</td>\n",
       "      <td>BV</td>\n",
       "      <td>946400000</td>\n",
       "      <td>2015</td>\n",
       "      <td>141.0</td>\n",
       "      <td>Action,Adventure,Sci-Fi</td>\n",
       "    </tr>\n",
       "    <tr>\n",
       "      <th>Avengers: Infinity War</th>\n",
       "      <td>Apr 27, 2018</td>\n",
       "      <td>300000000</td>\n",
       "      <td>678815482</td>\n",
       "      <td>2048134200</td>\n",
       "      <td>BV</td>\n",
       "      <td>1,369.5</td>\n",
       "      <td>2018</td>\n",
       "      <td>149.0</td>\n",
       "      <td>Action,Adventure,Sci-Fi</td>\n",
       "    </tr>\n",
       "    <tr>\n",
       "      <th>Justice League</th>\n",
       "      <td>Nov 17, 2017</td>\n",
       "      <td>300000000</td>\n",
       "      <td>229024295</td>\n",
       "      <td>655945209</td>\n",
       "      <td>WB</td>\n",
       "      <td>428900000</td>\n",
       "      <td>2017</td>\n",
       "      <td>120.0</td>\n",
       "      <td>Action,Adventure,Fantasy</td>\n",
       "    </tr>\n",
       "    <tr>\n",
       "      <th>Spectre</th>\n",
       "      <td>Nov 6, 2015</td>\n",
       "      <td>300000000</td>\n",
       "      <td>200074175</td>\n",
       "      <td>879620923</td>\n",
       "      <td>Sony</td>\n",
       "      <td>680600000</td>\n",
       "      <td>2015</td>\n",
       "      <td>148.0</td>\n",
       "      <td>Action,Adventure,Thriller</td>\n",
       "    </tr>\n",
       "  </tbody>\n",
       "</table>\n",
       "</div>"
      ],
      "text/plain": [
       "                                             release_date  production_budget  \\\n",
       "movie                                                                          \n",
       "Pirates of the Caribbean: On Stranger Tides  May 20, 2011          410600000   \n",
       "Avengers: Age of Ultron                       May 1, 2015          330600000   \n",
       "Avengers: Infinity War                       Apr 27, 2018          300000000   \n",
       "Justice League                               Nov 17, 2017          300000000   \n",
       "Spectre                                       Nov 6, 2015          300000000   \n",
       "\n",
       "                                             domestic_gross_x  \\\n",
       "movie                                                           \n",
       "Pirates of the Caribbean: On Stranger Tides         241063875   \n",
       "Avengers: Age of Ultron                             459005868   \n",
       "Avengers: Infinity War                              678815482   \n",
       "Justice League                                      229024295   \n",
       "Spectre                                             200074175   \n",
       "\n",
       "                                             worldwide_gross studio  \\\n",
       "movie                                                                 \n",
       "Pirates of the Caribbean: On Stranger Tides       1045663875     BV   \n",
       "Avengers: Age of Ultron                           1403013963     BV   \n",
       "Avengers: Infinity War                            2048134200     BV   \n",
       "Justice League                                     655945209     WB   \n",
       "Spectre                                            879620923   Sony   \n",
       "\n",
       "                                            foreign_gross  year  \\\n",
       "movie                                                             \n",
       "Pirates of the Caribbean: On Stranger Tides     804600000  2011   \n",
       "Avengers: Age of Ultron                         946400000  2015   \n",
       "Avengers: Infinity War                            1,369.5  2018   \n",
       "Justice League                                  428900000  2017   \n",
       "Spectre                                         680600000  2015   \n",
       "\n",
       "                                             runtime_minutes  \\\n",
       "movie                                                          \n",
       "Pirates of the Caribbean: On Stranger Tides            136.0   \n",
       "Avengers: Age of Ultron                                141.0   \n",
       "Avengers: Infinity War                                 149.0   \n",
       "Justice League                                         120.0   \n",
       "Spectre                                                148.0   \n",
       "\n",
       "                                                                genres  \n",
       "movie                                                                   \n",
       "Pirates of the Caribbean: On Stranger Tides   Action,Adventure,Fantasy  \n",
       "Avengers: Age of Ultron                        Action,Adventure,Sci-Fi  \n",
       "Avengers: Infinity War                         Action,Adventure,Sci-Fi  \n",
       "Justice League                                Action,Adventure,Fantasy  \n",
       "Spectre                                      Action,Adventure,Thriller  "
      ]
     },
     "execution_count": 83,
     "metadata": {},
     "output_type": "execute_result"
    }
   ],
   "source": [
    "BigFrame.head()"
   ]
  },
  {
   "cell_type": "code",
   "execution_count": 84,
   "metadata": {},
   "outputs": [],
   "source": [
    "df8mask = df8.drop(columns=['director', 'writer', 'studio', 'synopsis', 'id'])\n",
    "df8mask = df8mask.dropna()\n",
    "df8mask['box_office'] = df8mask['box_office'].str.replace(',', '').astype(int)\n",
    "df8mask = df8mask.set_index('box_office')\n",
    "df8mask = df8mask.sort_index(ascending=False)\n",
    "genre = df8mask.iloc[:12]['genre'].values\n",
    "boxoffice = df8mask.iloc[:12]['genre'].index"
   ]
  },
  {
   "cell_type": "code",
   "execution_count": 85,
   "metadata": {},
   "outputs": [
    {
     "data": {
      "image/png": "[encoded data removed]",
      "text/plain": [
       "<Figure size 1080x576 with 1 Axes>"
      ]
     },
     "metadata": {
      "needs_background": "light"
     },
     "output_type": "display_data"
    }
   ],
   "source": [
    "plt.style.use('seaborn-bright')\n",
    "f, ax = plt.subplots(figsize=(15, 8))\n",
    "sns.barplot(x=boxoffice, y=genre);\n",
    "ax.set_title('Top 10 Box Office Movies and their Genres')\n",
    "ax.set_xlabel('Box Office (Hundredth Million)');"
   ]
  },
  {
   "cell_type": "code",
   "execution_count": 86,
   "metadata": {},
   "outputs": [],
   "source": [
    "df8mask = df8mask.sort_index(ascending=True)\n",
    "genre2 = df8mask.iloc[:12]['genre'].values\n",
    "boxoffice2 = df8mask.iloc[:12]['genre'].index"
   ]
  },
  {
   "cell_type": "code",
   "execution_count": 87,
   "metadata": {},
   "outputs": [
    {
     "data": {
      "image/png": "[encoded data removed]",
      "text/plain": [
       "<Figure size 1080x576 with 1 Axes>"
      ]
     },
     "metadata": {
      "needs_background": "light"
     },
     "output_type": "display_data"
    }
   ],
   "source": [
    "plt.style.use('seaborn-bright')\n",
    "f, ax = plt.subplots(figsize=(15, 8))\n",
    "sns.barplot(x=boxoffice2, y=genre2)\n",
    "ax.tick_params(axis='x', rotation=90);\n",
    "ax.set_title('Bottom 10 Box Office Movies and their Genres');\n",
    "ax.set_xlabel('Box Office (Thousands)');"
   ]
  },
  {
   "cell_type": "code",
   "execution_count": 90,
   "metadata": {},
   "outputs": [
    {
     "ename": "SyntaxError",
     "evalue": "invalid syntax (<ipython-input-90-0b8dc3ed0368>, line 1)",
     "output_type": "error",
     "traceback": [
      "\u001b[0;36m  File \u001b[0;32m\"<ipython-input-90-0b8dc3ed0368>\"\u001b[0;36m, line \u001b[0;32m1\u001b[0m\n\u001b[0;31m    big fram\u001b[0m\n\u001b[0m        ^\u001b[0m\n\u001b[0;31mSyntaxError\u001b[0m\u001b[0;31m:\u001b[0m invalid syntax\n"
     ]
    }
   ],
   "source": [
    "big fram\n"
   ]
  },
  {
   "cell_type": "code",
   "execution_count": null,
   "metadata": {},
   "outputs": [],
   "source": []
  }
 ],
 "metadata": {
  "kernelspec": {
   "display_name": "Python 3",
   "language": "python",
   "name": "python3"
  },
  "language_info": {
   "codemirror_mode": {
    "name": "ipython",
    "version": 3
   },
   "file_extension": ".py",
   "mimetype": "text/x-python",
   "name": "python",
   "nbconvert_exporter": "python",
   "pygments_lexer": "ipython3",
   "version": "3.9.2"
  }
 },
 "nbformat": 4,
 "nbformat_minor": 4
}
