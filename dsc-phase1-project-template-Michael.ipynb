{
 "cells": [
  {
   "cell_type": "markdown",
   "metadata": {},
   "source": [
    "![example](images/director_shot.jpeg)"
   ]
  },
  {
   "cell_type": "markdown",
   "metadata": {},
   "source": [
    "# Project Title\n",
    "\n",
    "**Authors:** Doug, Carlos, Michael\n",
    "***"
   ]
  },
  {
   "cell_type": "markdown",
   "metadata": {},
   "source": [
    "## What Better Way To Launch Microsoft's New Movie Other Than An Original Blockbuster Series?!\n",
    "\n"
   ]
  },
  {
   "cell_type": "markdown",
   "metadata": {},
   "source": [
    "## Business Problem\n",
    "\n",
    "By creating our own series, we can create more loyal and dedicated fans.\n",
    "But we must do it right \n",
    "-\n",
    "\n",
    "***\n",
    "Questions to consider:\n",
    "* What are the business's pain points related to this project?\n",
    "* How did you pick the data analysis question(s) that you did?\n",
    "* Why are these questions important from a business perspective?\n",
    "***"
   ]
  },
  {
   "cell_type": "markdown",
   "metadata": {},
   "source": [
    "## Data Understanding\n",
    "\n",
    "Describe the data being used for this project.\n",
    "***\n",
    "Questions to consider:\n",
    "* Where did the data come from, and how do they relate to the data analysis questions?\n",
    "* What do the data represent? Who is in the sample and what variables are included?\n",
    "* What is the target variable?\n",
    "* What are the properties of the variables you intend to use?\n",
    "***"
   ]
  },
  {
   "cell_type": "code",
   "execution_count": 1,
   "metadata": {},
   "outputs": [],
   "source": [
    "# Import standard packages\n",
    "import pandas as pd\n",
    "import numpy as np\n",
    "import matplotlib.pyplot as plt\n",
    "import seaborn as sns\n",
    "\n",
    "%matplotlib inline"
   ]
  },
  {
   "cell_type": "code",
   "execution_count": 2,
   "metadata": {},
   "outputs": [],
   "source": [
    "# Here you run your code to explore the data"
   ]
  },
  {
   "cell_type": "markdown",
   "metadata": {},
   "source": [
    "## Data Preparation\n",
    "\n",
    "Describe and justify the process for preparing the data for analysis.\n",
    "\n",
    "***\n",
    "Questions to consider:\n",
    "* Were there variables you dropped or created?\n",
    "* How did you address missing values or outliers?\n",
    "* Why are these choices appropriate given the data and the business problem?\n",
    "***"
   ]
  },
  {
   "cell_type": "code",
   "execution_count": 3,
   "metadata": {},
   "outputs": [
    {
     "data": {
      "text/html": [
       "<div>\n",
       "<style scoped>\n",
       "    .dataframe tbody tr th:only-of-type {\n",
       "        vertical-align: middle;\n",
       "    }\n",
       "\n",
       "    .dataframe tbody tr th {\n",
       "        vertical-align: top;\n",
       "    }\n",
       "\n",
       "    .dataframe thead th {\n",
       "        text-align: right;\n",
       "    }\n",
       "</style>\n",
       "<table border=\"1\" class=\"dataframe\">\n",
       "  <thead>\n",
       "    <tr style=\"text-align: right;\">\n",
       "      <th></th>\n",
       "      <th>id</th>\n",
       "      <th>release_date</th>\n",
       "      <th>movie</th>\n",
       "      <th>production_budget</th>\n",
       "      <th>domestic_gross</th>\n",
       "      <th>worldwide_gross</th>\n",
       "    </tr>\n",
       "  </thead>\n",
       "  <tbody>\n",
       "    <tr>\n",
       "      <th>0</th>\n",
       "      <td>1</td>\n",
       "      <td>Dec 18, 2009</td>\n",
       "      <td>Avatar</td>\n",
       "      <td>$425,000,000</td>\n",
       "      <td>$760,507,625</td>\n",
       "      <td>$2,776,345,279</td>\n",
       "    </tr>\n",
       "    <tr>\n",
       "      <th>1</th>\n",
       "      <td>2</td>\n",
       "      <td>May 20, 2011</td>\n",
       "      <td>Pirates of the Caribbean: On Stranger Tides</td>\n",
       "      <td>$410,600,000</td>\n",
       "      <td>$241,063,875</td>\n",
       "      <td>$1,045,663,875</td>\n",
       "    </tr>\n",
       "    <tr>\n",
       "      <th>2</th>\n",
       "      <td>3</td>\n",
       "      <td>Jun 7, 2019</td>\n",
       "      <td>Dark Phoenix</td>\n",
       "      <td>$350,000,000</td>\n",
       "      <td>$42,762,350</td>\n",
       "      <td>$149,762,350</td>\n",
       "    </tr>\n",
       "    <tr>\n",
       "      <th>3</th>\n",
       "      <td>4</td>\n",
       "      <td>May 1, 2015</td>\n",
       "      <td>Avengers: Age of Ultron</td>\n",
       "      <td>$330,600,000</td>\n",
       "      <td>$459,005,868</td>\n",
       "      <td>$1,403,013,963</td>\n",
       "    </tr>\n",
       "    <tr>\n",
       "      <th>4</th>\n",
       "      <td>5</td>\n",
       "      <td>Dec 15, 2017</td>\n",
       "      <td>Star Wars Ep. VIII: The Last Jedi</td>\n",
       "      <td>$317,000,000</td>\n",
       "      <td>$620,181,382</td>\n",
       "      <td>$1,316,721,747</td>\n",
       "    </tr>\n",
       "  </tbody>\n",
       "</table>\n",
       "</div>"
      ],
      "text/plain": [
       "   id  release_date                                        movie  \\\n",
       "0   1  Dec 18, 2009                                       Avatar   \n",
       "1   2  May 20, 2011  Pirates of the Caribbean: On Stranger Tides   \n",
       "2   3   Jun 7, 2019                                 Dark Phoenix   \n",
       "3   4   May 1, 2015                      Avengers: Age of Ultron   \n",
       "4   5  Dec 15, 2017            Star Wars Ep. VIII: The Last Jedi   \n",
       "\n",
       "  production_budget domestic_gross worldwide_gross  \n",
       "0      $425,000,000   $760,507,625  $2,776,345,279  \n",
       "1      $410,600,000   $241,063,875  $1,045,663,875  \n",
       "2      $350,000,000    $42,762,350    $149,762,350  \n",
       "3      $330,600,000   $459,005,868  $1,403,013,963  \n",
       "4      $317,000,000   $620,181,382  $1,316,721,747  "
      ]
     },
     "execution_count": 3,
     "metadata": {},
     "output_type": "execute_result"
    }
   ],
   "source": [
    "# Load the necessary data from out dataset\n",
    "\n",
    "df = pd.read_csv('data/zippedData/tn.movie_budgets.csv.gz', delimiter = ',')\n",
    "df.head()"
   ]
  },
  {
   "cell_type": "code",
   "execution_count": 4,
   "metadata": {},
   "outputs": [],
   "source": [
    "# Filter out unnecessary columns \n",
    "\n",
    "df_month_year = df[['release_date', 'production_budget','worldwide_gross']]"
   ]
  },
  {
   "cell_type": "code",
   "execution_count": 5,
   "metadata": {},
   "outputs": [],
   "source": [
    "# Take away '$' from columns with money in order to manipulate the data\n",
    "\n",
    "df['worldwide_gross'] = df['worldwide_gross'].str[1:]\n",
    "df['production_budget'] = df['production_budget'].str[1:]\n",
    "df['domestic_gross'] = df['domestic_gross'].str[1:]"
   ]
  },
  {
   "cell_type": "code",
   "execution_count": 6,
   "metadata": {},
   "outputs": [],
   "source": [
    "# Remove the commas from the numbers and cast them to int64 using numpy\n",
    "\n",
    "df['worldwide_gross'] = df['worldwide_gross'].str.replace(',', '').astype(np.int64)\n",
    "df['production_budget'] = df['production_budget'].str.replace(',', '').astype(np.int64)\n",
    "df['domestic_gross'] = df['domestic_gross'].str.replace(',', '').astype(np.int64)\n",
    "df_template = df"
   ]
  },
  {
   "cell_type": "code",
   "execution_count": 7,
   "metadata": {},
   "outputs": [],
   "source": [
    "# Create new columns 'month' and 'year' in order to manipulate the dataset using time released.\n",
    "\n",
    "df_template['year'] = df['release_date'].str[-4:]\n",
    "df_template['year'] = pd.to_numeric(df_template['year'])\n",
    "df_template['month'] = df_template['release_date'].str[:3]"
   ]
  },
  {
   "cell_type": "code",
   "execution_count": 8,
   "metadata": {},
   "outputs": [],
   "source": [
    "# Drop duplicates from the dataset\n",
    "\n",
    "df_template = df_template.drop_duplicates(subset='movie')"
   ]
  },
  {
   "cell_type": "code",
   "execution_count": 9,
   "metadata": {},
   "outputs": [],
   "source": [
    "# Filter the data to fit the criteria for Microsoft's movie launch\n",
    "# Past 20 years\n",
    "# Production budget over $1,000,000 (decently funded movies)\n",
    "# Positive gross at box office\n",
    "\n",
    "df_month_year = df_template[df_template['year'] > 2000]\n",
    "df_month_year = df_month_year[df_month_year['production_budget'] > 1000000]\n",
    "df_month_year = df_month_year[df_month_year['worldwide_gross'] > 0]"
   ]
  },
  {
   "cell_type": "code",
   "execution_count": 10,
   "metadata": {},
   "outputs": [],
   "source": [
    "# Create our final dataframe that only includes the necessary tables\n",
    "\n",
    "df_complete = df_month_year[['production_budget','worldwide_gross', 'year', 'month']]"
   ]
  },
  {
   "cell_type": "code",
   "execution_count": 11,
   "metadata": {},
   "outputs": [],
   "source": [
    "df_2013 = df_complete[df_complete['year'] == 2013]\n",
    "df_2014 = df_complete[df_complete['year'] == 2014]\n",
    "df_2015 = df_complete[df_complete['year'] == 2015]\n",
    "df_2016 = df_complete[df_complete['year'] == 2016]\n",
    "df_2017 = df_complete[df_complete['year'] == 2017]\n",
    "df_2018 = df_complete[df_complete['year'] == 2018]"
   ]
  },
  {
   "cell_type": "code",
   "execution_count": 12,
   "metadata": {},
   "outputs": [],
   "source": [
    "df_2013 = df_2013[['worldwide_gross', 'month', 'production_budget']]\n",
    "df_2013 = df_2013.dropna(subset=['month'])\n",
    "\n",
    "df_jan2013 = df_2013[df_2013['month'] == 'Jan'].mean().astype(np.int64)\n",
    "df_feb2013 = df_2013[df_2013['month'] == 'Feb'].mean().astype(np.int64)\n",
    "df_mar2013 = df_2013[df_2013['month'] == 'Mar'].mean().astype(np.int64)\n",
    "df_apr2013 = df_2013[df_2013['month'] == 'Apr'].mean().astype(np.int64)\n",
    "df_may2013 = df_2013[df_2013['month'] == 'May'].mean().astype(np.int64)\n",
    "df_jun2013 = df_2013[df_2013['month'] == 'Jun'].mean().astype(np.int64)\n",
    "df_jul2013 = df_2013[df_2013['month'] == 'Jul'].mean().astype(np.int64)\n",
    "df_aug2013 = df_2013[df_2013['month'] == 'Aug'].mean().astype(np.int64)\n",
    "df_sep2013 = df_2013[df_2013['month'] == 'Sep'].mean().astype(np.int64)\n",
    "df_oct2013 = df_2013[df_2013['month'] == 'Oct'].mean().astype(np.int64)\n",
    "df_nov2013 = df_2013[df_2013['month'] == 'Nov'].mean().astype(np.int64)\n",
    "df_dec2013 = df_2013[df_2013['month'] == 'Dec'].mean().astype(np.int64)"
   ]
  },
  {
   "cell_type": "code",
   "execution_count": 13,
   "metadata": {},
   "outputs": [],
   "source": [
    "df_2014 = df_2014[['worldwide_gross', 'month', 'production_budget']]\n",
    "df_2014 = df_2014.dropna(subset=['month'])\n",
    "\n",
    "df_jan2014 = df_2014[df_2014['month'] == 'Jan'].mean().astype(np.int64)\n",
    "df_feb2014 = df_2014[df_2014['month'] == 'Feb'].mean().astype(np.int64)\n",
    "df_mar2014 = df_2014[df_2014['month'] == 'Mar'].mean().astype(np.int64)\n",
    "df_apr2014 = df_2014[df_2014['month'] == 'Apr'].mean().astype(np.int64)\n",
    "df_may2014 = df_2014[df_2014['month'] == 'May'].mean().astype(np.int64)\n",
    "df_jun2014 = df_2014[df_2014['month'] == 'Jun'].mean().astype(np.int64)\n",
    "df_jul2014 = df_2014[df_2014['month'] == 'Jul'].mean().astype(np.int64)\n",
    "df_aug2014 = df_2014[df_2014['month'] == 'Aug'].mean().astype(np.int64)\n",
    "df_sep2014 = df_2014[df_2014['month'] == 'Sep'].mean().astype(np.int64)\n",
    "df_oct2014 = df_2014[df_2014['month'] == 'Oct'].mean().astype(np.int64)\n",
    "df_nov2014 = df_2014[df_2014['month'] == 'Nov'].mean().astype(np.int64)\n",
    "df_dec2014 = df_2014[df_2014['month'] == 'Dec'].mean().astype(np.int64)"
   ]
  },
  {
   "cell_type": "code",
   "execution_count": 14,
   "metadata": {},
   "outputs": [],
   "source": [
    "df_2015 = df_2015[['worldwide_gross', 'month', 'production_budget']]\n",
    "df_2015 = df_2015.dropna(subset=['month'])\n",
    "\n",
    "df_jan2015 = df_2015[df_2015['month'] == 'Jan'].mean().astype(np.int64)\n",
    "df_feb2015 = df_2015[df_2015['month'] == 'Feb'].mean().astype(np.int64)\n",
    "df_mar2015 = df_2015[df_2015['month'] == 'Mar'].mean().astype(np.int64)\n",
    "df_apr2015 = df_2015[df_2015['month'] == 'Apr'].mean().astype(np.int64)\n",
    "df_may2015 = df_2015[df_2015['month'] == 'May'].mean().astype(np.int64)\n",
    "df_jun2015 = df_2015[df_2015['month'] == 'Jun'].mean().astype(np.int64)\n",
    "df_jul2015 = df_2015[df_2015['month'] == 'Jul'].mean().astype(np.int64)\n",
    "df_aug2015 = df_2015[df_2015['month'] == 'Aug'].mean().astype(np.int64)\n",
    "df_sep2015 = df_2015[df_2015['month'] == 'Sep'].mean().astype(np.int64)\n",
    "df_oct2015 = df_2015[df_2015['month'] == 'Oct'].mean().astype(np.int64)\n",
    "df_nov2015 = df_2015[df_2015['month'] == 'Nov'].mean().astype(np.int64)\n",
    "df_dec2015 = df_2015[df_2015['month'] == 'Dec'].mean().astype(np.int64)"
   ]
  },
  {
   "cell_type": "code",
   "execution_count": 15,
   "metadata": {},
   "outputs": [],
   "source": [
    "df_2016 = df_2016[['worldwide_gross', 'month', 'production_budget']]\n",
    "df_2016 = df_2016.dropna(subset=['month'])\n",
    "\n",
    "df_jan2016 = df_2016[df_2016['month'] == 'Jan'].mean().astype(np.int64)\n",
    "df_feb2016 = df_2016[df_2016['month'] == 'Feb'].mean().astype(np.int64)\n",
    "df_mar2016 = df_2016[df_2016['month'] == 'Mar'].mean().astype(np.int64)\n",
    "df_apr2016 = df_2016[df_2016['month'] == 'Apr'].mean().astype(np.int64)\n",
    "df_may2016 = df_2016[df_2016['month'] == 'May'].mean().astype(np.int64)\n",
    "df_jun2016 = df_2016[df_2016['month'] == 'Jun'].mean().astype(np.int64)\n",
    "df_jul2016 = df_2016[df_2016['month'] == 'Jul'].mean().astype(np.int64)\n",
    "df_aug2016 = df_2016[df_2016['month'] == 'Aug'].mean().astype(np.int64)\n",
    "df_sep2016 = df_2016[df_2016['month'] == 'Sep'].mean().astype(np.int64)\n",
    "df_oct2016 = df_2016[df_2016['month'] == 'Oct'].mean().astype(np.int64)\n",
    "df_nov2016 = df_2016[df_2016['month'] == 'Nov'].mean().astype(np.int64)\n",
    "df_dec2016 = df_2016[df_2016['month'] == 'Dec'].mean().astype(np.int64)"
   ]
  },
  {
   "cell_type": "code",
   "execution_count": 16,
   "metadata": {},
   "outputs": [],
   "source": [
    "df_2017 = df_2017[['worldwide_gross', 'month', 'production_budget']]\n",
    "df_2017 = df_2017.dropna(subset=['month'])\n",
    "\n",
    "df_jan2017 = df_2017[df_2017['month'] == 'Jan'].mean().astype(np.int64)\n",
    "df_feb2017 = df_2017[df_2017['month'] == 'Feb'].mean().astype(np.int64)\n",
    "df_mar2017 = df_2017[df_2017['month'] == 'Mar'].mean().astype(np.int64)\n",
    "df_apr2017 = df_2017[df_2017['month'] == 'Apr'].mean().astype(np.int64)\n",
    "df_may2017 = df_2017[df_2017['month'] == 'May'].mean().astype(np.int64)\n",
    "df_jun2017 = df_2017[df_2017['month'] == 'Jun'].mean().astype(np.int64)\n",
    "df_jul2017 = df_2017[df_2017['month'] == 'Jul'].mean().astype(np.int64)\n",
    "df_aug2017 = df_2017[df_2017['month'] == 'Aug'].mean().astype(np.int64)\n",
    "df_sep2017 = df_2017[df_2017['month'] == 'Sep'].mean().astype(np.int64)\n",
    "df_oct2017 = df_2017[df_2017['month'] == 'Oct'].mean().astype(np.int64)\n",
    "df_nov2017 = df_2017[df_2017['month'] == 'Nov'].mean().astype(np.int64)\n",
    "df_dec2017 = df_2017[df_2017['month'] == 'Dec'].mean().astype(np.int64)"
   ]
  },
  {
   "cell_type": "code",
   "execution_count": 17,
   "metadata": {},
   "outputs": [],
   "source": [
    "df_2018 = df_2018[['worldwide_gross', 'month', 'production_budget']]\n",
    "df_2018 = df_2018.dropna(subset=['month'])\n",
    "\n",
    "df_jan2018 = df_2018[df_2018['month'] == 'Jan'].mean().astype(np.int64)\n",
    "df_feb2018 = df_2018[df_2018['month'] == 'Feb'].mean().astype(np.int64)\n",
    "df_mar2018 = df_2018[df_2018['month'] == 'Mar'].mean().astype(np.int64)\n",
    "df_apr2018 = df_2018[df_2018['month'] == 'Apr'].mean().astype(np.int64)\n",
    "df_may2018 = df_2018[df_2018['month'] == 'May'].mean().astype(np.int64)\n",
    "df_jun2018 = df_2018[df_2018['month'] == 'Jun'].mean().astype(np.int64)\n",
    "df_jul2018 = df_2018[df_2018['month'] == 'Jul'].mean().astype(np.int64)\n",
    "df_aug2018 = df_2018[df_2018['month'] == 'Aug'].mean().astype(np.int64)\n",
    "df_sep2018 = df_2018[df_2018['month'] == 'Sep'].mean().astype(np.int64)\n",
    "df_oct2018 = df_2018[df_2018['month'] == 'Oct'].mean().astype(np.int64)\n",
    "df_nov2018 = df_2018[df_2018['month'] == 'Nov'].mean().astype(np.int64)\n",
    "df_dec2018 = df_2018[df_2018['month'] == 'Dec'].mean().astype(np.int64)"
   ]
  },
  {
   "cell_type": "code",
   "execution_count": 18,
   "metadata": {},
   "outputs": [],
   "source": [
    "mean_2013 = [df_jan2013[0], df_feb2013[0], df_mar2013[0], df_apr2013[0], df_may2013[0], df_jun2013[0],\\\n",
    "             df_jul2013[0], df_aug2013[0], df_sep2013[0], df_oct2013[0], df_nov2013[0], df_dec2013[0]]\n",
    "mean_produc2013 = [df_jan2013[1], df_feb2013[1], df_mar2013[1], df_apr2013[1], df_may2013[1], df_jun2013[1],\\\n",
    "             df_jul2013[1], df_aug2013[1], df_sep2013[1], df_oct2013[1], df_nov2013[1], df_dec2013[1]]\n",
    "\n",
    "\n",
    "mean_2014 = [df_jan2014[0], df_feb2014[0], df_mar2014[0], df_apr2014[0], df_may2014[0], df_jun2014[0],\\\n",
    "             df_jul2014[0], df_aug2014[0], df_sep2014[0], df_oct2014[0], df_nov2014[0], df_dec2014[0]]\n",
    "mean_produc2014 = [df_jan2014[1], df_feb2014[1], df_mar2014[1], df_apr2014[1], df_may2014[1], df_jun2014[1],\\\n",
    "             df_jul2014[1], df_aug2014[1], df_sep2014[1], df_oct2014[1], df_nov2014[1], df_dec2014[1]]\n",
    "\n",
    "mean_2015 = [df_jan2015[0], df_feb2015[0], df_mar2015[0], df_apr2015[0], df_may2015[0], df_jun2015[0],\\\n",
    "             df_jul2015[0], df_aug2015[0], df_sep2015[0], df_oct2015[0], df_nov2015[0], df_dec2015[0]]\n",
    "mean_produc2015 = [df_jan2015[1], df_feb2015[1], df_mar2015[1], df_apr2015[1], df_may2015[1], df_jun2015[1],\\\n",
    "             df_jul2015[1], df_aug2015[1], df_sep2015[1], df_oct2015[1], df_nov2015[1], df_dec2015[1]]\n",
    "\n",
    "mean_2016 = [df_jan2016[0], df_feb2016[0], df_mar2016[0], df_apr2016[0], df_may2016[0], df_jun2016[0],\\\n",
    "             df_jul2016[0], df_aug2016[0], df_sep2016[0], df_oct2016[0], df_nov2016[0], df_dec2016[0]]\n",
    "mean_produc2016 = [df_jan2016[1], df_feb2016[1], df_mar2016[1], df_apr2016[1], df_may2016[1], df_jun2016[1],\\\n",
    "             df_jul2016[1], df_aug2016[1], df_sep2016[1], df_oct2016[1], df_nov2016[1], df_dec2016[1]]\n",
    "\n",
    "\n",
    "mean_2017 = [df_jan2017[0], df_feb2017[0], df_mar2017[0], df_apr2017[0], df_may2017[0], df_jun2017[0],\\\n",
    "             df_jul2017[0], df_aug2017[0], df_sep2017[0], df_oct2017[0], df_nov2017[0], df_dec2017[0]]\n",
    "mean_produc2017 = [df_jan2017[1], df_feb2017[1], df_mar2017[1], df_apr2017[1], df_may2017[1], df_jun2017[1],\\\n",
    "             df_jul2017[1], df_aug2017[1], df_sep2017[1], df_oct2017[1], df_nov2017[1], df_dec2017[1]]\n",
    "\n",
    "mean_2018 = [df_jan2018[0], df_feb2018[0], df_mar2018[0], df_apr2018[0], df_may2018[0], df_jun2018[0],\\\n",
    "             df_jul2018[0], df_aug2018[0], df_sep2018[0], df_oct2018[0], df_nov2018[0], df_dec2018[0]]\n",
    "mean_produc2018 = [df_jan2018[1], df_feb2018[1], df_mar2018[1], df_apr2018[1], df_may2018[1], df_jun2018[1],\\\n",
    "             df_jul2018[1], df_aug2018[1], df_sep2018[1], df_oct2018[1], df_nov2018[1], df_dec2018[1]]"
   ]
  },
  {
   "cell_type": "code",
   "execution_count": 19,
   "metadata": {},
   "outputs": [],
   "source": [
    "\n",
    "months = [\"Jan\", \"Feb\", \"Mar\", \"Apr\", \"May\", \"Jun\", \n",
    "          \"Jul\", \"Aug\", \"Sep\", \"Oct\", \"Nov\", \"Dec\"]"
   ]
  },
  {
   "cell_type": "code",
   "execution_count": 20,
   "metadata": {},
   "outputs": [
    {
     "data": {
      "image/png": "[encoded data removed]",
      "text/plain": [
       "<Figure size 1296x720 with 6 Axes>"
      ]
     },
     "metadata": {
      "needs_background": "light"
     },
     "output_type": "display_data"
    }
   ],
   "source": [
    "plt.style.use('seaborn-bright')\n",
    "fig, ax = plt.subplots(2, 3, figsize = (18, 10))\n",
    "x= months\n",
    "ax[0,0].plot(x, mean_2013)\n",
    "ax[0,0].plot(x, mean_produc2013)\n",
    "\n",
    "ax[0,1].plot(x, mean_2014)\n",
    "ax[0,1].plot(x, mean_produc2014)\n",
    "\n",
    "ax[0,2].plot(x, mean_2015)\n",
    "ax[0,2].plot(x, mean_produc2015)\n",
    "\n",
    "ax[1,0].plot(x, mean_2016)\n",
    "ax[1,0].plot(x, mean_produc2016)\n",
    "\n",
    "ax[1,1].plot(x, mean_2017)\n",
    "ax[1,1].plot(x, mean_produc2017)\n",
    "\n",
    "\n",
    "ax[1,2].plot(x, mean_2018)\n",
    "ax[1,2].plot(x, mean_produc2017);\n",
    "#sns.barplot(x, y);"
   ]
  },
  {
   "cell_type": "markdown",
   "metadata": {},
   "source": [
    "## Data Modeling\n",
    "Describe and justify the process for analyzing or modeling the data.\n",
    "\n",
    "***\n",
    "Questions to consider:\n",
    "* How did you analyze or model the data?\n",
    "* How did you iterate on your initial approach to make it better?\n",
    "* Why are these choices appropriate given the data and the business problem?\n",
    "***"
   ]
  },
  {
   "cell_type": "code",
   "execution_count": 21,
   "metadata": {},
   "outputs": [],
   "source": [
    "# In order to model this data, we had to first create new columns to represent the different months within a year.\n",
    "# We then iterated through our old dataset and populated our new 'months_df' dataset to find the frequency"
   ]
  },
  {
   "cell_type": "code",
   "execution_count": 22,
   "metadata": {},
   "outputs": [
    {
     "name": "stderr",
     "output_type": "stream",
     "text": [
      "<ipython-input-22-86ae6a9fcf17>:5: SettingWithCopyWarning: \n",
      "A value is trying to be set on a copy of a slice from a DataFrame.\n",
      "Try using .loc[row_indexer,col_indexer] = value instead\n",
      "\n",
      "See the caveats in the documentation: https://pandas.pydata.org/pandas-docs/stable/user_guide/indexing.html#returning-a-view-versus-a-copy\n",
      "  df_complete['month'] = pd.Categorical(df_complete['month'], categories=months, ordered=True)\n"
     ]
    }
   ],
   "source": [
    "# Order month by order in the calender then sort the calenders in order from Jan-Dec\n",
    "\n",
    "months = [\"Jan\", \"Feb\", \"Mar\", \"Apr\", \"May\", \"Jun\", \n",
    "          \"Jul\", \"Aug\", \"Sep\", \"Oct\", \"Nov\", \"Dec\"]\n",
    "df_complete['month'] = pd.Categorical(df_complete['month'], categories=months, ordered=True)\n",
    "df_complete = df_complete['month'].sort_values()\n",
    "df_complete = list(df_complete)"
   ]
  },
  {
   "cell_type": "code",
   "execution_count": 23,
   "metadata": {},
   "outputs": [],
   "source": [
    "# Initialize new dataframe with 1 row, 12 columns with value: 0 to read frequency of each month\n",
    "\n",
    "column_names = months\n",
    "a = np.zeros(shape=(1,12), dtype = int)\n",
    "df_months = pd.DataFrame(a, columns = column_names)\n",
    "\n",
    "for x in df_complete:\n",
    "    if x in column_names:\n",
    "        df_months[x] += 1"
   ]
  },
  {
   "cell_type": "code",
   "execution_count": 27,
   "metadata": {},
   "outputs": [
    {
     "data": {
      "text/html": [
       "<div>\n",
       "<style scoped>\n",
       "    .dataframe tbody tr th:only-of-type {\n",
       "        vertical-align: middle;\n",
       "    }\n",
       "\n",
       "    .dataframe tbody tr th {\n",
       "        vertical-align: top;\n",
       "    }\n",
       "\n",
       "    .dataframe thead th {\n",
       "        text-align: right;\n",
       "    }\n",
       "</style>\n",
       "<table border=\"1\" class=\"dataframe\">\n",
       "  <thead>\n",
       "    <tr style=\"text-align: right;\">\n",
       "      <th></th>\n",
       "      <th>Jan</th>\n",
       "      <th>Feb</th>\n",
       "      <th>Mar</th>\n",
       "      <th>Apr</th>\n",
       "      <th>May</th>\n",
       "      <th>Jun</th>\n",
       "      <th>Jul</th>\n",
       "      <th>Aug</th>\n",
       "      <th>Sep</th>\n",
       "      <th>Oct</th>\n",
       "      <th>Nov</th>\n",
       "      <th>Dec</th>\n",
       "    </tr>\n",
       "  </thead>\n",
       "  <tbody>\n",
       "    <tr>\n",
       "      <th>0</th>\n",
       "      <td>214</td>\n",
       "      <td>264</td>\n",
       "      <td>304</td>\n",
       "      <td>304</td>\n",
       "      <td>249</td>\n",
       "      <td>274</td>\n",
       "      <td>261</td>\n",
       "      <td>298</td>\n",
       "      <td>328</td>\n",
       "      <td>353</td>\n",
       "      <td>305</td>\n",
       "      <td>392</td>\n",
       "    </tr>\n",
       "  </tbody>\n",
       "</table>\n",
       "</div>"
      ],
      "text/plain": [
       "   Jan  Feb  Mar  Apr  May  Jun  Jul  Aug  Sep  Oct  Nov  Dec\n",
       "0  214  264  304  304  249  274  261  298  328  353  305  392"
      ]
     },
     "execution_count": 27,
     "metadata": {},
     "output_type": "execute_result"
    }
   ],
   "source": [
    "df_months"
   ]
  },
  {
   "cell_type": "code",
   "execution_count": 24,
   "metadata": {},
   "outputs": [
    {
     "data": {
      "text/plain": [
       "[(214, 264, 304, 304, 249, 274, 261, 298, 328, 353, 305, 392)]"
      ]
     },
     "execution_count": 24,
     "metadata": {},
     "output_type": "execute_result"
    }
   ],
   "source": [
    "# Get the values from this function and copy them below *here*\n",
    "\n",
    "list(df_months.value_counts().index)"
   ]
  },
  {
   "cell_type": "code",
   "execution_count": 25,
   "metadata": {},
   "outputs": [
    {
     "name": "stderr",
     "output_type": "stream",
     "text": [
      "C:\\Users\\Admin\\anaconda3\\lib\\site-packages\\seaborn\\_decorators.py:36: FutureWarning: Pass the following variables as keyword args: x, y. From version 0.12, the only valid positional argument will be `data`, and passing other arguments without an explicit keyword will result in an error or misinterpretation.\n",
      "  warnings.warn(\n"
     ]
    },
    {
     "data": {
      "image/png": "[encoded data removed]",
      "text/plain": [
       "<Figure size 720x720 with 1 Axes>"
      ]
     },
     "metadata": {
      "needs_background": "light"
     },
     "output_type": "display_data"
    }
   ],
   "source": [
    "from matplotlib import pyplot as plt\n",
    "import seaborn as sns\n",
    "%matplotlib inline\n",
    "\n",
    "plt.style.use('seaborn-bright')\n",
    "fig, ax = plt.subplots(figsize = (10, 10))\n",
    "x = months\n",
    "#y = [*here*]\n",
    "y = [214, 264, 304, 304, 249, 274, 261, 298, 328, 353, 305, 392]\n",
    "sns.barplot(x, y);\n",
    "ax.set_title('Total number of movie releases by month')\n",
    "ax.set_xlabel('Data from 2001 - 2020')\n",
    "ax.set_ylabel('Number of movies released');"
   ]
  },
  {
   "cell_type": "code",
   "execution_count": 26,
   "metadata": {},
   "outputs": [],
   "source": [
    "# The best window to release our blockbuster action / drama/ suspense film is releasing during the holiday season.\n",
    "# This distribution shows that other big name movie production companies release later in the year."
   ]
  },
  {
   "cell_type": "markdown",
   "metadata": {},
   "source": [
    "## Evaluation\n",
    "Evaluate how well your work solves the stated business problem.\n",
    "\n",
    "***\n",
    "Questions to consider:\n",
    "* How do you interpret the results?\n",
    "* How well does your model fit your data? How much better is this than your baseline model?\n",
    "* How confident are you that your results would generalize beyond the data you have?\n",
    "* How confident are you that this model would benefit the business if put into use?\n",
    "***"
   ]
  },
  {
   "cell_type": "markdown",
   "metadata": {},
   "source": [
    "## Conclusions\n",
    "Provide your conclusions about the work you've done, including any limitations or next steps.\n",
    "\n",
    "***\n",
    "Questions to consider:\n",
    "* What would you recommend the business do as a result of this work?\n",
    "* What are some reasons why your analysis might not fully solve the business problem?\n",
    "* What else could you do in the future to improve this project?\n",
    "***"
   ]
  }
 ],
 "metadata": {
  "kernelspec": {
   "display_name": "Python 3",
   "language": "python",
   "name": "python3"
  },
  "language_info": {
   "codemirror_mode": {
    "name": "ipython",
    "version": 3
   },
   "file_extension": ".py",
   "mimetype": "text/x-python",
   "name": "python",
   "nbconvert_exporter": "python",
   "pygments_lexer": "ipython3",
   "version": "3.8.8"
  }
 },
 "nbformat": 4,
 "nbformat_minor": 4
}
